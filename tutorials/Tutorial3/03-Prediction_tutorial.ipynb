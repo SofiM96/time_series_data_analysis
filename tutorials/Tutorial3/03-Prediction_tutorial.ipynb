{
 "cells": [
  {
   "cell_type": "markdown",
   "id": "25802435",
   "metadata": {},
   "source": [
    "# Prediction "
   ]
  },
  {
   "cell_type": "markdown",
   "id": "a54e796d",
   "metadata": {},
   "source": [
    "Before running this script, you must create the following folders in the directory where your Python notebook is located:\n",
    "1. ./output/predictions/train/plots -- folder for saving training plots\n",
    "2. ./output/predictions/test/plots -- folder for saving test plots \n",
    "3. ./output/predictions/val/plots -- folder for saving validation plots\n",
    "4. ./output/predictions/train/data -- folder for sving train data\n",
    "5. ./output/predictions/test/data -- folder for saving test data\n",
    "6. ./output/predictions/val/data -- folder for saving val data"
   ]
  },
  {
   "cell_type": "code",
   "execution_count": 1,
   "id": "0f2ecec2",
   "metadata": {},
   "outputs": [],
   "source": [
    "import QNPy #Importing the package\n",
    "from QNPy import PREDICTION as pr #Importing PREDICTION module from the package\n",
    "from QNPy.PREDICTION import * #Importing all packages from PREDICTION module\n",
    "from QNPy.PREDICTION import plot_function #The functions plot_function must be imported separately"
   ]
  },
  {
   "cell_type": "code",
   "execution_count": 2,
   "id": "b484e3b7",
   "metadata": {},
   "outputs": [
    {
     "data": {
      "text/plain": "device(type='cuda')"
     },
     "execution_count": 2,
     "metadata": {},
     "output_type": "execute_result"
    }
   ],
   "source": [
    "#defining the device, it can be cpu of cuda\n",
    "device = torch.device(\"cuda\" if torch.cuda.is_available() else \"cpu\")\n",
    "device"
   ]
  },
  {
   "cell_type": "code",
   "execution_count": 3,
   "id": "2c539d98",
   "metadata": {},
   "outputs": [],
   "source": [
    "DATA_PATH_TRAIN = \"./dataset/train\" #path to train folder\n",
    "DATA_PATH_VAL = \"./dataset/val\" #path to val folder\n",
    "DATA_PATH_TEST=\"./dataset/test\" #path to test folder\n",
    "OUTPUT_PATH = \"./output/predictions\" #path where to save the plots and data\n",
    "\n",
    "MODEL_PATH = \"./output/cnp_model.pth\" #path to saved model"
   ]
  },
  {
   "cell_type": "code",
   "execution_count": 4,
   "id": "41e4f5e4",
   "metadata": {},
   "outputs": [],
   "source": [
    "pr.prepare_output_dir(OUTPUT_PATH)#clearing outputh dir, it can be sciped"
   ]
  },
  {
   "cell_type": "code",
   "execution_count": 5,
   "id": "b5cc49b2",
   "metadata": {},
   "outputs": [],
   "source": [
    "model = pr.load_trained_model(MODEL_PATH, device) #loading the model"
   ]
  },
  {
   "cell_type": "code",
   "execution_count": 6,
   "id": "6fed08cf",
   "metadata": {},
   "outputs": [],
   "source": [
    "criterion, mseMetric= pr.get_criteria()#loading criterion and metrics from model"
   ]
  },
  {
   "cell_type": "code",
   "execution_count": 7,
   "id": "7a57dbc1",
   "metadata": {},
   "outputs": [
    {
     "name": "stdout",
     "output_type": "stream",
     "text": [
      "Removed padding in file: 7_original_split22.csv\n"
     ]
    }
   ],
   "source": [
    "#deleting the padded values from test set\n",
    "#deleting the curves that we add with plus and minus errors\n",
    "#filtering the original curves for plotting\n",
    "\n",
    "if __name__ == \"__main__\":\n",
    "    folder_path = \"./dataset/test\"  # Change this to your dataset folder\n",
    "\n",
    "    pr.remove_padded_values_and_filter(folder_path)"
   ]
  },
  {
   "cell_type": "code",
   "execution_count": 8,
   "id": "ce773815",
   "metadata": {},
   "outputs": [
    {
     "name": "stdout",
     "output_type": "stream",
     "text": [
      "Removed padding in file: 10_original_split1.csv\n",
      "Removed padding in file: 1_original_split4.csv\n",
      "Removed padding in file: 2_original_split7.csv\n",
      "Removed padding in file: 4_original_split13.csv\n",
      "Removed padding in file: 8_original_split25.csv\n"
     ]
    }
   ],
   "source": [
    "#deleting the padded values from train set\n",
    "#deleting the curves that we add with plus and minus errors\n",
    "#filtering the original curves for plotting\n",
    "\n",
    "if __name__ == \"__main__\":\n",
    "    folder_path = \"./dataset/train\"  # Change this to your dataset folder\n",
    "\n",
    "    pr.remove_padded_values_and_filter(folder_path)"
   ]
  },
  {
   "cell_type": "code",
   "execution_count": 9,
   "id": "84a5975e",
   "metadata": {},
   "outputs": [
    {
     "name": "stdout",
     "output_type": "stream",
     "text": [
      "Removed padding in file: 3_original_split10.csv\n",
      "Removed padding in file: 5_original_split16.csv\n",
      "Removed padding in file: 6_original_split19.csv\n",
      "Removed padding in file: 9_original_split28.csv\n"
     ]
    }
   ],
   "source": [
    "#deleting the padded values from val set\n",
    "#deleting the curves that we add with plus and minus errors\n",
    "#filtering the original curves for plotting\n",
    "\n",
    "if __name__ == \"__main__\":\n",
    "    folder_path = \"./dataset/val\"  # Change this to your dataset folder\n",
    "\n",
    "    pr.remove_padded_values_and_filter(folder_path)"
   ]
  },
  {
   "cell_type": "code",
   "execution_count": 10,
   "id": "cf6d3be0",
   "metadata": {},
   "outputs": [],
   "source": [
    "testLoader=pr.load_test_data(DATA_PATH_TEST)#loading test data"
   ]
  },
  {
   "cell_type": "code",
   "execution_count": 11,
   "id": "e67edc39",
   "metadata": {},
   "outputs": [],
   "source": [
    "trainLoader=pr.load_train_data(DATA_PATH_TRAIN)#loading trained data"
   ]
  },
  {
   "cell_type": "code",
   "execution_count": 12,
   "id": "717906f7",
   "metadata": {},
   "outputs": [],
   "source": [
    "valLoader=pr.load_val_data(DATA_PATH_VAL)#loading validation data"
   ]
  },
  {
   "cell_type": "code",
   "execution_count": 13,
   "id": "fae77b66",
   "metadata": {},
   "outputs": [
    {
     "name": "stderr",
     "output_type": "stream",
     "text": [
      "100%|██████████| 1/1 [00:01<00:00,  1.62s/it]\n"
     ]
    },
    {
     "data": {
      "text/plain": "<Figure size 640x480 with 0 Axes>"
     },
     "metadata": {},
     "output_type": "display_data"
    }
   ],
   "source": [
    "#prediction and plotting the test data\n",
    "testMetrics=pr.plot_light_curves_from_test_set(model, testLoader, criterion, mseMetric, plot_function, device)"
   ]
  },
  {
   "cell_type": "code",
   "execution_count": 14,
   "id": "b9d0fcf8",
   "metadata": {},
   "outputs": [],
   "source": [
    "saveTestMetric=pr.save_test_metrics('./output/predictions/', testMetrics)#saving the test Metrics"
   ]
  },
  {
   "cell_type": "code",
   "execution_count": 15,
   "id": "20d64c3e",
   "metadata": {},
   "outputs": [
    {
     "name": "stderr",
     "output_type": "stream",
     "text": [
      "100%|██████████| 5/5 [00:00<00:00,  7.15it/s]\n"
     ]
    },
    {
     "data": {
      "text/plain": "<Figure size 640x480 with 0 Axes>"
     },
     "metadata": {},
     "output_type": "display_data"
    }
   ],
   "source": [
    "#prediction and plotting the train data\n",
    "trainMetrics=pr.plot_light_curves_from_train_set(trainLoader, model, criterion, mseMetric, plot_function, device)"
   ]
  },
  {
   "cell_type": "code",
   "execution_count": 17,
   "id": "fb63ecaf",
   "metadata": {},
   "outputs": [],
   "source": [
    "saveTrainMetric=pr.save_train_metrics('./output/predictions/', trainMetrics)#saving the train metrics"
   ]
  },
  {
   "cell_type": "code",
   "execution_count": 18,
   "id": "a39ffd72",
   "metadata": {},
   "outputs": [
    {
     "name": "stderr",
     "output_type": "stream",
     "text": [
      "100%|██████████| 4/4 [00:00<00:00,  7.56it/s]\n"
     ]
    },
    {
     "data": {
      "text/plain": "<Figure size 640x480 with 0 Axes>"
     },
     "metadata": {},
     "output_type": "display_data"
    }
   ],
   "source": [
    "#prediction and plotting the val data\n",
    "valMetric=pr.plot_light_curves_from_val_set(model, valLoader, criterion, mseMetric, plot_function, device)"
   ]
  },
  {
   "cell_type": "code",
   "execution_count": 19,
   "id": "f4b660c2",
   "metadata": {},
   "outputs": [],
   "source": [
    "saveValMetrics=pr.save_val_metrics('./output/predictions/', valMetric)#saving the val metrics "
   ]
  }
 ],
 "metadata": {
  "kernelspec": {
   "display_name": "Python 3 (ipykernel)",
   "language": "python",
   "name": "python3"
  }
 },
 "nbformat": 4,
 "nbformat_minor": 5
}
