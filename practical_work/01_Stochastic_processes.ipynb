{
 "cells": [
  {
   "cell_type": "markdown",
   "source": [
    "# Time Series Analysis 2023\n",
    "## Red noise time series (Stochastic processes)\n",
    "Lecture Date: 21.10.2023\n",
    "Script created: 31.10.2023\n",
    "Author: Sofija Markovic\n",
    "<br>\n",
    "#### Theoretical background for the lecture\n",
    "\n",
    "An **active galactic nuclei (AGN)**  is a compact region at the center of a galaxy that emits a significant amount of energy across the electromagnetic spectrum, with characteristics indicating that the luminosity is not produced by stars. Such excess, non-stellar emissions have been observed in the radio, microwave, infrared, optical, ultra-violet, X-ray and gamma ray wavebands. A galaxy hosting an AGN is called an ***active galaxy***. The non-stellar radiation from an AGN is theorized to result from the accretion of matter by a supermassive black hole at the center of its host galaxy. (Source: [Wikipedia](https://en.wikipedia.org/wiki/Active_galactic_nucleus))\n",
    "\n",
    "AGNs are powered by the release of gravitational energy related with the accretion of material onto a supermassive black hole (SMBH), larger than $10^{6}M☉$ (solar mass, approx. $2\\cdot10^{30} kg$)\n",
    "\n",
    "AGN variability seems to be well described as a **stochastic process**: behaviour that is not predictable forever as in the periodic case, but unlike temporally localized events (transient), variability is always there.\n",
    "\n",
    "The characteristic time-scales of the variability range from hours to years, with the shortest time-scales being associated with shorter emission wavelength. There is a connection between the variations seen at different wavelengths. (for more info, see [Ramos Almeida & Ricci 2017](https://www.nature.com/articles/s41550-017-0232-z))\n",
    "\n",
    "\n",
    "**Red noise** is a term for randomness in signals that is not totally uncorrelated (which would be white noise) but has a particular frequency distribution with more of the lower frequencies (so-named because the color red comprises the lower frequencies of visible light) (Source: [astro.vaporia](http://astro.vaporia.com/start/rednoise.html#:~:text=Red%20noise%20is%20a%20term,lower%20frequencies%20of%20visible%20light))."
   ],
   "metadata": {
    "collapsed": false
   }
  },
  {
   "cell_type": "markdown",
   "source": [
    "### Autoregressive models\n",
    "\n",
    "Autoregressive models aim to forecast future behaviour of the system based on pat data. This type of models is used when there is correlation between the time series values and their preceding andn succeeding values. Autoregressive models use **only past data** to predict future behaviour (Source: [Turing](https://www.turing.com/kb/guide-to-autoregressive-models)).\n",
    "\n",
    "For ***auto-regression***, the dependent and independent variable is the same, and we are predicting a future value of $y$ based on a past (or multiple past) values of $y$:\n",
    "\n",
    "$$y_i = \\phi_i y_{i-1} + \\ldots,$$\n",
    "\n",
    "where $\\phi_i$ is the \"lag coefficient\".\n",
    "\n",
    "A \"**random walk**\" is an example of such a process (with $\\phi_i=1$); every new value is given by the preceeding value plus some noise:\n",
    "\n",
    "$$y_i = y_{i-1} + \\epsilon_i.$$\n",
    "\n",
    "\n",
    "### Moving average models\n",
    "\n",
    "A [**moving average (MA)**](https://en.wikipedia.org/wiki/Moving-average_model) process is similar to an AR process, but instead **the value at each time step depends not on the *value* of previous time step, but rather the *perturbations* from previous time steps**.\n",
    "\n",
    "MA processes are defined by:\n",
    "\n",
    "$$y_i = \\epsilon_i + \\sum_{j=1}^qb_j\\epsilon_{i-j}.$$\n",
    "\n",
    "So, for example, an MA(q=1) process would look like\n",
    "$$y_i = \\epsilon_{i} + b_1\\epsilon_{i-1},$$\n",
    "\n",
    "in an $MA$ process a \"shock/impulse\" affects only the current value and $q$ values into the future."
   ],
   "metadata": {
    "collapsed": false
   }
  },
  {
   "cell_type": "markdown",
   "source": [],
   "metadata": {
    "collapsed": false
   }
  }
 ],
 "metadata": {
  "kernelspec": {
   "display_name": "Python 3",
   "language": "python",
   "name": "python3"
  },
  "language_info": {
   "codemirror_mode": {
    "name": "ipython",
    "version": 2
   },
   "file_extension": ".py",
   "mimetype": "text/x-python",
   "name": "python",
   "nbconvert_exporter": "python",
   "pygments_lexer": "ipython2",
   "version": "2.7.6"
  }
 },
 "nbformat": 4,
 "nbformat_minor": 0
}
