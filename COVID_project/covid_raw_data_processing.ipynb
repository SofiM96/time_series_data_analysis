{
 "cells": [
  {
   "cell_type": "markdown",
   "source": [
    "# Processing of COVID-19 raw data for US counties\n",
    "\n",
    "This script combines, filters, and sorts numerous .csv files containing daily COVID-19 counts for US counties starting from October 31st 2020 and ending in February 13th, 2022.\n"
   ],
   "metadata": {
    "collapsed": false
   }
  },
  {
   "cell_type": "markdown",
   "source": [
    "#### 1. Examine a single .csv file\n",
    "- get the idea of what the data looks like"
   ],
   "metadata": {
    "collapsed": false
   }
  },
  {
   "cell_type": "code",
   "execution_count": 13,
   "outputs": [
    {
     "data": {
      "text/plain": "   FIPS Admin2                Province_State       Country_Region   \n0   NaN    NaN                           NaN          Afghanistan  \\\n1   NaN    NaN                           NaN              Albania   \n2   NaN    NaN                           NaN              Algeria   \n3   NaN    NaN                           NaN              Andorra   \n4   NaN    NaN                           NaN               Angola   \n5   NaN    NaN                           NaN  Antigua and Barbuda   \n6   NaN    NaN                           NaN            Argentina   \n7   NaN    NaN                           NaN              Armenia   \n8   NaN    NaN  Australian Capital Territory            Australia   \n9   NaN    NaN               New South Wales            Australia   \n\n           Last_Update       Lat       Long_  Confirmed  Deaths  Recovered   \n0  2021-04-12 04:21:00  33.93911   67.709953      57160    2521    51989.0  \\\n1  2021-04-12 04:21:00  41.15330   20.168300     128393    2317    97723.0   \n2  2021-04-12 04:21:00  28.03390    1.659600     118516    3130    82600.0   \n3  2021-04-12 04:21:00  42.50630    1.521800      12545     120    11825.0   \n4  2021-04-12 04:21:00 -11.20270   17.873900      23457     553    22058.0   \n5  2021-04-12 04:21:00  17.06080  -61.796400       1198      30      938.0   \n6  2021-04-12 04:21:00 -38.41610  -63.616700    2532562   57779  2233140.0   \n7  2021-04-12 04:21:00  40.06910   45.038200     202817    3735   181963.0   \n8  2021-04-12 04:21:00 -35.47350  149.012400        123       3      120.0   \n9  2021-04-12 04:21:00 -33.86880  151.209300       5339      54        0.0   \n\n     Active                             Combined_Key  Incident_Rate   \n0    2650.0                              Afghanistan     146.833897  \\\n1   28353.0                                  Albania    4461.498367   \n2   32786.0                                  Algeria     270.269512   \n3     600.0                                  Andorra   16236.329515   \n4     846.0                                   Angola      71.371048   \n5     230.0                      Antigua and Barbuda    1223.347766   \n6  241643.0                                Argentina    5603.536808   \n7   17119.0                                  Armenia    6844.447654   \n8       0.0  Australian Capital Territory, Australia      28.731605   \n9    5285.0               New South Wales, Australia      65.767430   \n\n   Case_Fatality_Ratio  \n0             4.410427  \n1             1.804616  \n2             2.640994  \n3             0.956556  \n4             2.357505  \n5             2.504174  \n6             2.281445  \n7             1.841562  \n8             2.439024  \n9             1.011425  ",
      "text/html": "<div>\n<style scoped>\n    .dataframe tbody tr th:only-of-type {\n        vertical-align: middle;\n    }\n\n    .dataframe tbody tr th {\n        vertical-align: top;\n    }\n\n    .dataframe thead th {\n        text-align: right;\n    }\n</style>\n<table border=\"1\" class=\"dataframe\">\n  <thead>\n    <tr style=\"text-align: right;\">\n      <th></th>\n      <th>FIPS</th>\n      <th>Admin2</th>\n      <th>Province_State</th>\n      <th>Country_Region</th>\n      <th>Last_Update</th>\n      <th>Lat</th>\n      <th>Long_</th>\n      <th>Confirmed</th>\n      <th>Deaths</th>\n      <th>Recovered</th>\n      <th>Active</th>\n      <th>Combined_Key</th>\n      <th>Incident_Rate</th>\n      <th>Case_Fatality_Ratio</th>\n    </tr>\n  </thead>\n  <tbody>\n    <tr>\n      <th>0</th>\n      <td>NaN</td>\n      <td>NaN</td>\n      <td>NaN</td>\n      <td>Afghanistan</td>\n      <td>2021-04-12 04:21:00</td>\n      <td>33.93911</td>\n      <td>67.709953</td>\n      <td>57160</td>\n      <td>2521</td>\n      <td>51989.0</td>\n      <td>2650.0</td>\n      <td>Afghanistan</td>\n      <td>146.833897</td>\n      <td>4.410427</td>\n    </tr>\n    <tr>\n      <th>1</th>\n      <td>NaN</td>\n      <td>NaN</td>\n      <td>NaN</td>\n      <td>Albania</td>\n      <td>2021-04-12 04:21:00</td>\n      <td>41.15330</td>\n      <td>20.168300</td>\n      <td>128393</td>\n      <td>2317</td>\n      <td>97723.0</td>\n      <td>28353.0</td>\n      <td>Albania</td>\n      <td>4461.498367</td>\n      <td>1.804616</td>\n    </tr>\n    <tr>\n      <th>2</th>\n      <td>NaN</td>\n      <td>NaN</td>\n      <td>NaN</td>\n      <td>Algeria</td>\n      <td>2021-04-12 04:21:00</td>\n      <td>28.03390</td>\n      <td>1.659600</td>\n      <td>118516</td>\n      <td>3130</td>\n      <td>82600.0</td>\n      <td>32786.0</td>\n      <td>Algeria</td>\n      <td>270.269512</td>\n      <td>2.640994</td>\n    </tr>\n    <tr>\n      <th>3</th>\n      <td>NaN</td>\n      <td>NaN</td>\n      <td>NaN</td>\n      <td>Andorra</td>\n      <td>2021-04-12 04:21:00</td>\n      <td>42.50630</td>\n      <td>1.521800</td>\n      <td>12545</td>\n      <td>120</td>\n      <td>11825.0</td>\n      <td>600.0</td>\n      <td>Andorra</td>\n      <td>16236.329515</td>\n      <td>0.956556</td>\n    </tr>\n    <tr>\n      <th>4</th>\n      <td>NaN</td>\n      <td>NaN</td>\n      <td>NaN</td>\n      <td>Angola</td>\n      <td>2021-04-12 04:21:00</td>\n      <td>-11.20270</td>\n      <td>17.873900</td>\n      <td>23457</td>\n      <td>553</td>\n      <td>22058.0</td>\n      <td>846.0</td>\n      <td>Angola</td>\n      <td>71.371048</td>\n      <td>2.357505</td>\n    </tr>\n    <tr>\n      <th>5</th>\n      <td>NaN</td>\n      <td>NaN</td>\n      <td>NaN</td>\n      <td>Antigua and Barbuda</td>\n      <td>2021-04-12 04:21:00</td>\n      <td>17.06080</td>\n      <td>-61.796400</td>\n      <td>1198</td>\n      <td>30</td>\n      <td>938.0</td>\n      <td>230.0</td>\n      <td>Antigua and Barbuda</td>\n      <td>1223.347766</td>\n      <td>2.504174</td>\n    </tr>\n    <tr>\n      <th>6</th>\n      <td>NaN</td>\n      <td>NaN</td>\n      <td>NaN</td>\n      <td>Argentina</td>\n      <td>2021-04-12 04:21:00</td>\n      <td>-38.41610</td>\n      <td>-63.616700</td>\n      <td>2532562</td>\n      <td>57779</td>\n      <td>2233140.0</td>\n      <td>241643.0</td>\n      <td>Argentina</td>\n      <td>5603.536808</td>\n      <td>2.281445</td>\n    </tr>\n    <tr>\n      <th>7</th>\n      <td>NaN</td>\n      <td>NaN</td>\n      <td>NaN</td>\n      <td>Armenia</td>\n      <td>2021-04-12 04:21:00</td>\n      <td>40.06910</td>\n      <td>45.038200</td>\n      <td>202817</td>\n      <td>3735</td>\n      <td>181963.0</td>\n      <td>17119.0</td>\n      <td>Armenia</td>\n      <td>6844.447654</td>\n      <td>1.841562</td>\n    </tr>\n    <tr>\n      <th>8</th>\n      <td>NaN</td>\n      <td>NaN</td>\n      <td>Australian Capital Territory</td>\n      <td>Australia</td>\n      <td>2021-04-12 04:21:00</td>\n      <td>-35.47350</td>\n      <td>149.012400</td>\n      <td>123</td>\n      <td>3</td>\n      <td>120.0</td>\n      <td>0.0</td>\n      <td>Australian Capital Territory, Australia</td>\n      <td>28.731605</td>\n      <td>2.439024</td>\n    </tr>\n    <tr>\n      <th>9</th>\n      <td>NaN</td>\n      <td>NaN</td>\n      <td>New South Wales</td>\n      <td>Australia</td>\n      <td>2021-04-12 04:21:00</td>\n      <td>-33.86880</td>\n      <td>151.209300</td>\n      <td>5339</td>\n      <td>54</td>\n      <td>0.0</td>\n      <td>5285.0</td>\n      <td>New South Wales, Australia</td>\n      <td>65.767430</td>\n      <td>1.011425</td>\n    </tr>\n  </tbody>\n</table>\n</div>"
     },
     "execution_count": 13,
     "metadata": {},
     "output_type": "execute_result"
    }
   ],
   "source": [
    "import pandas as pd\n",
    "import os\n",
    "import seaborn as sb\n",
    "import matplotlib.pyplot as plt\n",
    "\n",
    "single_csv_path = r'C:\\Users\\marko\\OneDrive\\Documents\\ADA master\\Time Series Data Analysis\\COVID_project\\raw_data\\Covid19_data\\04-11-2021.csv'\n",
    "df = pd.read_csv(single_csv_path)\n",
    "df.head(10)"
   ],
   "metadata": {
    "collapsed": false
   }
  },
  {
   "cell_type": "markdown",
   "source": [
    "This table clearly contains data for many countries. We will here limit it to only USA counties, that is, we will only keep rows containing FIPS numbers."
   ],
   "metadata": {
    "collapsed": false
   }
  },
  {
   "cell_type": "code",
   "execution_count": 14,
   "outputs": [
    {
     "data": {
      "text/plain": "       FIPS    Admin2 Province_State Country_Region          Last_Update   \n651  1001.0   Autauga        Alabama             US  2021-04-12 04:21:00  \\\n652  1003.0   Baldwin        Alabama             US  2021-04-12 04:21:00   \n653  1005.0   Barbour        Alabama             US  2021-04-12 04:21:00   \n654  1007.0      Bibb        Alabama             US  2021-04-12 04:21:00   \n655  1009.0    Blount        Alabama             US  2021-04-12 04:21:00   \n656  1011.0   Bullock        Alabama             US  2021-04-12 04:21:00   \n657  1013.0    Butler        Alabama             US  2021-04-12 04:21:00   \n658  1015.0   Calhoun        Alabama             US  2021-04-12 04:21:00   \n659  1017.0  Chambers        Alabama             US  2021-04-12 04:21:00   \n660  1019.0  Cherokee        Alabama             US  2021-04-12 04:21:00   \n\n           Lat      Long_  Confirmed  Deaths  Recovered  Active   \n651  32.539527 -86.644082       6723     103        NaN     NaN  \\\n652  30.727750 -87.722071      20631     300        NaN     NaN   \n653  31.868263 -85.387129       2247      55        NaN     NaN   \n654  32.996421 -87.125115       2562      58        NaN     NaN   \n655  33.982109 -86.567906       6483     135        NaN     NaN   \n656  32.100305 -85.712655       1213      40        NaN     NaN   \n657  31.753001 -86.680575       2122      66        NaN     NaN   \n658  33.774837 -85.826304      14284     311        NaN     NaN   \n659  32.913601 -85.390727       3499     122        NaN     NaN   \n660  34.178060 -85.606390       1820      44        NaN     NaN   \n\n              Combined_Key  Incident_Rate  Case_Fatality_Ratio  \n651   Autauga, Alabama, US   12033.506954             1.532054  \n652   Baldwin, Alabama, US    9241.871758             1.454122  \n653   Barbour, Alabama, US    9102.325205             2.447708  \n654      Bibb, Alabama, US   11440.564437             2.263856  \n655    Blount, Alabama, US   11211.219866             2.082369  \n656   Bullock, Alabama, US   12008.712009             3.297609  \n657    Butler, Alabama, US   10911.147676             3.110273  \n658   Calhoun, Alabama, US   12573.390256             2.177261  \n659  Chambers, Alabama, US   10522.042461             3.486710  \n660  Cherokee, Alabama, US    6947.625592             2.417582  ",
      "text/html": "<div>\n<style scoped>\n    .dataframe tbody tr th:only-of-type {\n        vertical-align: middle;\n    }\n\n    .dataframe tbody tr th {\n        vertical-align: top;\n    }\n\n    .dataframe thead th {\n        text-align: right;\n    }\n</style>\n<table border=\"1\" class=\"dataframe\">\n  <thead>\n    <tr style=\"text-align: right;\">\n      <th></th>\n      <th>FIPS</th>\n      <th>Admin2</th>\n      <th>Province_State</th>\n      <th>Country_Region</th>\n      <th>Last_Update</th>\n      <th>Lat</th>\n      <th>Long_</th>\n      <th>Confirmed</th>\n      <th>Deaths</th>\n      <th>Recovered</th>\n      <th>Active</th>\n      <th>Combined_Key</th>\n      <th>Incident_Rate</th>\n      <th>Case_Fatality_Ratio</th>\n    </tr>\n  </thead>\n  <tbody>\n    <tr>\n      <th>651</th>\n      <td>1001.0</td>\n      <td>Autauga</td>\n      <td>Alabama</td>\n      <td>US</td>\n      <td>2021-04-12 04:21:00</td>\n      <td>32.539527</td>\n      <td>-86.644082</td>\n      <td>6723</td>\n      <td>103</td>\n      <td>NaN</td>\n      <td>NaN</td>\n      <td>Autauga, Alabama, US</td>\n      <td>12033.506954</td>\n      <td>1.532054</td>\n    </tr>\n    <tr>\n      <th>652</th>\n      <td>1003.0</td>\n      <td>Baldwin</td>\n      <td>Alabama</td>\n      <td>US</td>\n      <td>2021-04-12 04:21:00</td>\n      <td>30.727750</td>\n      <td>-87.722071</td>\n      <td>20631</td>\n      <td>300</td>\n      <td>NaN</td>\n      <td>NaN</td>\n      <td>Baldwin, Alabama, US</td>\n      <td>9241.871758</td>\n      <td>1.454122</td>\n    </tr>\n    <tr>\n      <th>653</th>\n      <td>1005.0</td>\n      <td>Barbour</td>\n      <td>Alabama</td>\n      <td>US</td>\n      <td>2021-04-12 04:21:00</td>\n      <td>31.868263</td>\n      <td>-85.387129</td>\n      <td>2247</td>\n      <td>55</td>\n      <td>NaN</td>\n      <td>NaN</td>\n      <td>Barbour, Alabama, US</td>\n      <td>9102.325205</td>\n      <td>2.447708</td>\n    </tr>\n    <tr>\n      <th>654</th>\n      <td>1007.0</td>\n      <td>Bibb</td>\n      <td>Alabama</td>\n      <td>US</td>\n      <td>2021-04-12 04:21:00</td>\n      <td>32.996421</td>\n      <td>-87.125115</td>\n      <td>2562</td>\n      <td>58</td>\n      <td>NaN</td>\n      <td>NaN</td>\n      <td>Bibb, Alabama, US</td>\n      <td>11440.564437</td>\n      <td>2.263856</td>\n    </tr>\n    <tr>\n      <th>655</th>\n      <td>1009.0</td>\n      <td>Blount</td>\n      <td>Alabama</td>\n      <td>US</td>\n      <td>2021-04-12 04:21:00</td>\n      <td>33.982109</td>\n      <td>-86.567906</td>\n      <td>6483</td>\n      <td>135</td>\n      <td>NaN</td>\n      <td>NaN</td>\n      <td>Blount, Alabama, US</td>\n      <td>11211.219866</td>\n      <td>2.082369</td>\n    </tr>\n    <tr>\n      <th>656</th>\n      <td>1011.0</td>\n      <td>Bullock</td>\n      <td>Alabama</td>\n      <td>US</td>\n      <td>2021-04-12 04:21:00</td>\n      <td>32.100305</td>\n      <td>-85.712655</td>\n      <td>1213</td>\n      <td>40</td>\n      <td>NaN</td>\n      <td>NaN</td>\n      <td>Bullock, Alabama, US</td>\n      <td>12008.712009</td>\n      <td>3.297609</td>\n    </tr>\n    <tr>\n      <th>657</th>\n      <td>1013.0</td>\n      <td>Butler</td>\n      <td>Alabama</td>\n      <td>US</td>\n      <td>2021-04-12 04:21:00</td>\n      <td>31.753001</td>\n      <td>-86.680575</td>\n      <td>2122</td>\n      <td>66</td>\n      <td>NaN</td>\n      <td>NaN</td>\n      <td>Butler, Alabama, US</td>\n      <td>10911.147676</td>\n      <td>3.110273</td>\n    </tr>\n    <tr>\n      <th>658</th>\n      <td>1015.0</td>\n      <td>Calhoun</td>\n      <td>Alabama</td>\n      <td>US</td>\n      <td>2021-04-12 04:21:00</td>\n      <td>33.774837</td>\n      <td>-85.826304</td>\n      <td>14284</td>\n      <td>311</td>\n      <td>NaN</td>\n      <td>NaN</td>\n      <td>Calhoun, Alabama, US</td>\n      <td>12573.390256</td>\n      <td>2.177261</td>\n    </tr>\n    <tr>\n      <th>659</th>\n      <td>1017.0</td>\n      <td>Chambers</td>\n      <td>Alabama</td>\n      <td>US</td>\n      <td>2021-04-12 04:21:00</td>\n      <td>32.913601</td>\n      <td>-85.390727</td>\n      <td>3499</td>\n      <td>122</td>\n      <td>NaN</td>\n      <td>NaN</td>\n      <td>Chambers, Alabama, US</td>\n      <td>10522.042461</td>\n      <td>3.486710</td>\n    </tr>\n    <tr>\n      <th>660</th>\n      <td>1019.0</td>\n      <td>Cherokee</td>\n      <td>Alabama</td>\n      <td>US</td>\n      <td>2021-04-12 04:21:00</td>\n      <td>34.178060</td>\n      <td>-85.606390</td>\n      <td>1820</td>\n      <td>44</td>\n      <td>NaN</td>\n      <td>NaN</td>\n      <td>Cherokee, Alabama, US</td>\n      <td>6947.625592</td>\n      <td>2.417582</td>\n    </tr>\n  </tbody>\n</table>\n</div>"
     },
     "execution_count": 14,
     "metadata": {},
     "output_type": "execute_result"
    }
   ],
   "source": [
    "df_USA = df[df['FIPS'].notna()]\n",
    "df_USA.head(10)"
   ],
   "metadata": {
    "collapsed": false
   }
  },
  {
   "cell_type": "markdown",
   "source": [
    "Important columns for us are FIPS numbers, County, State, Country, Last Updated, Confirmed, Deaths, and Combined Key.\n",
    "FIPS, Confirmed and Deaths should be integer, Last updated should be formatted as date (time is not needed), and the remaining columns are string.\n",
    "This will all be applied once all the .csv files are merged together."
   ],
   "metadata": {
    "collapsed": false
   }
  },
  {
   "cell_type": "markdown",
   "source": [
    "#### 2. Merge single date .csv files"
   ],
   "metadata": {
    "collapsed": false
   }
  },
  {
   "cell_type": "code",
   "execution_count": 15,
   "outputs": [],
   "source": [
    "# replace with your folder's path\n",
    "folder_path = r'C:\\Users\\marko\\OneDrive\\Documents\\ADA master\\Time Series Data Analysis\\COVID_project\\raw_data\\Covid19_data'\n",
    "\n",
    "all_files = os.listdir(folder_path)\n",
    "\n",
    "# Filter out non-CSV files\n",
    "csv_files = [f for f in all_files if f.endswith('.csv')]\n",
    "\n",
    "# Create a list to hold the dataframes\n",
    "df_list = []\n",
    "\n",
    "for csv in csv_files:\n",
    "    file_path = os.path.join(folder_path, csv)\n",
    "    try:\n",
    "        # Try reading the file using default UTF-8 encoding\n",
    "        df = pd.read_csv(file_path)\n",
    "        df_list.append(df)\n",
    "    except UnicodeDecodeError:\n",
    "        try:\n",
    "            # If UTF-8 fails, try reading the file using UTF-16 encoding with tab separator\n",
    "            df = pd.read_csv(file_path, sep='\\t', encoding='utf-16')\n",
    "            df_list.append(df)\n",
    "        except Exception as e:\n",
    "            print(f\"Could not read file {csv} because of error: {e}\")\n",
    "    except Exception as e:\n",
    "        print(f\"Could not read file {csv} because of error: {e}\")\n",
    "\n",
    "# Concatenate all data into one DataFrame\n",
    "big_df = pd.concat(df_list, ignore_index=True)\n",
    "\n",
    "# Save the final result to a new CSV file\n",
    "save_path = r'C:\\Users\\marko\\OneDrive\\Documents\\ADA master\\Time Series Data Analysis\\COVID_project\\raw_data'\n",
    "big_df.to_csv(os.path.join(save_path, 'combined_file.csv'), index=False)"
   ],
   "metadata": {
    "collapsed": false
   }
  },
  {
   "cell_type": "markdown",
   "source": [
    "#### 3. Examine, sort, clean, and filter combined data frame\n",
    "Now that we have this big, combined data frame, we should examine, sort and filter it.\n",
    "The goal is to sort the data by county (using FIPS and not county name, as there can be several counties with the same name in different sates)), and than sort the single county data by dates.\n",
    "We should also change data types where needed, as previously indicated for a single .csv file."
   ],
   "metadata": {
    "collapsed": false
   }
  },
  {
   "cell_type": "code",
   "execution_count": null,
   "outputs": [],
   "source": [
    "# if the data is not loaded:\n",
    "combined_raw_path = r'C:\\Users\\marko\\OneDrive\\Documents\\ADA master\\Time Series Data Analysis\\COVID_project\\raw_data\\combined_file.csv'\n",
    "big_df = pd.read_csv(combined_raw_path)"
   ],
   "metadata": {
    "collapsed": false
   }
  },
  {
   "cell_type": "code",
   "execution_count": 20,
   "outputs": [
    {
     "data": {
      "text/plain": "   FIPS Admin2                Province_State       Country_Region   \n0   NaN    NaN                           NaN          Afghanistan  \\\n1   NaN    NaN                           NaN              Albania   \n2   NaN    NaN                           NaN              Algeria   \n3   NaN    NaN                           NaN              Andorra   \n4   NaN    NaN                           NaN               Angola   \n5   NaN    NaN                           NaN  Antigua and Barbuda   \n6   NaN    NaN                           NaN            Argentina   \n7   NaN    NaN                           NaN              Armenia   \n8   NaN    NaN  Australian Capital Territory            Australia   \n9   NaN    NaN               New South Wales            Australia   \n\n           Last_Update       Lat       Long_  Confirmed  Deaths  Recovered   \n0  2021-01-02 05:22:33  33.93911   67.709953      52513    2201    41727.0  \\\n1  2021-01-02 05:22:33  41.15330   20.168300      58316    1181    33634.0   \n2  2021-01-02 05:22:33  28.03390    1.659600      99897    2762    67395.0   \n3  2021-01-02 05:22:33  42.50630    1.521800       8117      84     7463.0   \n4  2021-01-02 05:22:33 -11.20270   17.873900      17568     405    11146.0   \n5  2021-01-02 05:22:33  17.06080  -61.796400        159       5      148.0   \n6  2021-01-02 05:22:33 -38.41610  -63.616700    1629594   43319  1426676.0   \n7  2021-01-02 05:22:33  40.06910   45.038200     159738    2828   143355.0   \n8  2021-01-02 05:22:33 -35.47350  149.012400        118       3      114.0   \n9  2021-01-02 05:22:33 -33.86880  151.209300       4947      54        0.0   \n\n     Active                             Combined_Key  Incident_Rate   \n0    8585.0                              Afghanistan     134.896578  \\\n1   23501.0                                  Albania    2026.409062   \n2   29740.0                                  Algeria     227.809861   \n3     570.0                                  Andorra   10505.403482   \n4    6017.0                                   Angola      53.452981   \n5       6.0                      Antigua and Barbuda     162.364186   \n6  159599.0                                Argentina    3605.633332   \n7   13555.0                                  Armenia    5390.664389   \n8       1.0  Australian Capital Territory, Australia      27.563653   \n9    4893.0               New South Wales, Australia      60.938655   \n\n   Case_Fatality_Ratio  Incidence_Rate  Case-Fatality_Ratio  \n0             4.191343             NaN                  NaN  \n1             2.025173             NaN                  NaN  \n2             2.764848             NaN                  NaN  \n3             1.034865             NaN                  NaN  \n4             2.305328             NaN                  NaN  \n5             3.144654             NaN                  NaN  \n6             2.658269             NaN                  NaN  \n7             1.770399             NaN                  NaN  \n8             2.542373             NaN                  NaN  \n9             1.091571             NaN                  NaN  ",
      "text/html": "<div>\n<style scoped>\n    .dataframe tbody tr th:only-of-type {\n        vertical-align: middle;\n    }\n\n    .dataframe tbody tr th {\n        vertical-align: top;\n    }\n\n    .dataframe thead th {\n        text-align: right;\n    }\n</style>\n<table border=\"1\" class=\"dataframe\">\n  <thead>\n    <tr style=\"text-align: right;\">\n      <th></th>\n      <th>FIPS</th>\n      <th>Admin2</th>\n      <th>Province_State</th>\n      <th>Country_Region</th>\n      <th>Last_Update</th>\n      <th>Lat</th>\n      <th>Long_</th>\n      <th>Confirmed</th>\n      <th>Deaths</th>\n      <th>Recovered</th>\n      <th>Active</th>\n      <th>Combined_Key</th>\n      <th>Incident_Rate</th>\n      <th>Case_Fatality_Ratio</th>\n      <th>Incidence_Rate</th>\n      <th>Case-Fatality_Ratio</th>\n    </tr>\n  </thead>\n  <tbody>\n    <tr>\n      <th>0</th>\n      <td>NaN</td>\n      <td>NaN</td>\n      <td>NaN</td>\n      <td>Afghanistan</td>\n      <td>2021-01-02 05:22:33</td>\n      <td>33.93911</td>\n      <td>67.709953</td>\n      <td>52513</td>\n      <td>2201</td>\n      <td>41727.0</td>\n      <td>8585.0</td>\n      <td>Afghanistan</td>\n      <td>134.896578</td>\n      <td>4.191343</td>\n      <td>NaN</td>\n      <td>NaN</td>\n    </tr>\n    <tr>\n      <th>1</th>\n      <td>NaN</td>\n      <td>NaN</td>\n      <td>NaN</td>\n      <td>Albania</td>\n      <td>2021-01-02 05:22:33</td>\n      <td>41.15330</td>\n      <td>20.168300</td>\n      <td>58316</td>\n      <td>1181</td>\n      <td>33634.0</td>\n      <td>23501.0</td>\n      <td>Albania</td>\n      <td>2026.409062</td>\n      <td>2.025173</td>\n      <td>NaN</td>\n      <td>NaN</td>\n    </tr>\n    <tr>\n      <th>2</th>\n      <td>NaN</td>\n      <td>NaN</td>\n      <td>NaN</td>\n      <td>Algeria</td>\n      <td>2021-01-02 05:22:33</td>\n      <td>28.03390</td>\n      <td>1.659600</td>\n      <td>99897</td>\n      <td>2762</td>\n      <td>67395.0</td>\n      <td>29740.0</td>\n      <td>Algeria</td>\n      <td>227.809861</td>\n      <td>2.764848</td>\n      <td>NaN</td>\n      <td>NaN</td>\n    </tr>\n    <tr>\n      <th>3</th>\n      <td>NaN</td>\n      <td>NaN</td>\n      <td>NaN</td>\n      <td>Andorra</td>\n      <td>2021-01-02 05:22:33</td>\n      <td>42.50630</td>\n      <td>1.521800</td>\n      <td>8117</td>\n      <td>84</td>\n      <td>7463.0</td>\n      <td>570.0</td>\n      <td>Andorra</td>\n      <td>10505.403482</td>\n      <td>1.034865</td>\n      <td>NaN</td>\n      <td>NaN</td>\n    </tr>\n    <tr>\n      <th>4</th>\n      <td>NaN</td>\n      <td>NaN</td>\n      <td>NaN</td>\n      <td>Angola</td>\n      <td>2021-01-02 05:22:33</td>\n      <td>-11.20270</td>\n      <td>17.873900</td>\n      <td>17568</td>\n      <td>405</td>\n      <td>11146.0</td>\n      <td>6017.0</td>\n      <td>Angola</td>\n      <td>53.452981</td>\n      <td>2.305328</td>\n      <td>NaN</td>\n      <td>NaN</td>\n    </tr>\n    <tr>\n      <th>5</th>\n      <td>NaN</td>\n      <td>NaN</td>\n      <td>NaN</td>\n      <td>Antigua and Barbuda</td>\n      <td>2021-01-02 05:22:33</td>\n      <td>17.06080</td>\n      <td>-61.796400</td>\n      <td>159</td>\n      <td>5</td>\n      <td>148.0</td>\n      <td>6.0</td>\n      <td>Antigua and Barbuda</td>\n      <td>162.364186</td>\n      <td>3.144654</td>\n      <td>NaN</td>\n      <td>NaN</td>\n    </tr>\n    <tr>\n      <th>6</th>\n      <td>NaN</td>\n      <td>NaN</td>\n      <td>NaN</td>\n      <td>Argentina</td>\n      <td>2021-01-02 05:22:33</td>\n      <td>-38.41610</td>\n      <td>-63.616700</td>\n      <td>1629594</td>\n      <td>43319</td>\n      <td>1426676.0</td>\n      <td>159599.0</td>\n      <td>Argentina</td>\n      <td>3605.633332</td>\n      <td>2.658269</td>\n      <td>NaN</td>\n      <td>NaN</td>\n    </tr>\n    <tr>\n      <th>7</th>\n      <td>NaN</td>\n      <td>NaN</td>\n      <td>NaN</td>\n      <td>Armenia</td>\n      <td>2021-01-02 05:22:33</td>\n      <td>40.06910</td>\n      <td>45.038200</td>\n      <td>159738</td>\n      <td>2828</td>\n      <td>143355.0</td>\n      <td>13555.0</td>\n      <td>Armenia</td>\n      <td>5390.664389</td>\n      <td>1.770399</td>\n      <td>NaN</td>\n      <td>NaN</td>\n    </tr>\n    <tr>\n      <th>8</th>\n      <td>NaN</td>\n      <td>NaN</td>\n      <td>Australian Capital Territory</td>\n      <td>Australia</td>\n      <td>2021-01-02 05:22:33</td>\n      <td>-35.47350</td>\n      <td>149.012400</td>\n      <td>118</td>\n      <td>3</td>\n      <td>114.0</td>\n      <td>1.0</td>\n      <td>Australian Capital Territory, Australia</td>\n      <td>27.563653</td>\n      <td>2.542373</td>\n      <td>NaN</td>\n      <td>NaN</td>\n    </tr>\n    <tr>\n      <th>9</th>\n      <td>NaN</td>\n      <td>NaN</td>\n      <td>New South Wales</td>\n      <td>Australia</td>\n      <td>2021-01-02 05:22:33</td>\n      <td>-33.86880</td>\n      <td>151.209300</td>\n      <td>4947</td>\n      <td>54</td>\n      <td>0.0</td>\n      <td>4893.0</td>\n      <td>New South Wales, Australia</td>\n      <td>60.938655</td>\n      <td>1.091571</td>\n      <td>NaN</td>\n      <td>NaN</td>\n    </tr>\n  </tbody>\n</table>\n</div>"
     },
     "execution_count": 20,
     "metadata": {},
     "output_type": "execute_result"
    }
   ],
   "source": [
    "big_df.head(10)"
   ],
   "metadata": {
    "collapsed": false
   }
  },
  {
   "cell_type": "code",
   "execution_count": 18,
   "outputs": [
    {
     "data": {
      "text/plain": "                         count          mean            std          min   \nFIPS                 1538488.0  32400.708711   18035.216413      60.0000  \\\nLat                  1844762.0     35.789114      13.334104     -71.9499   \nLong_                1844762.0    -71.274113      54.949434    -178.1165   \nConfirmed            1886704.0  45882.860633  283708.216141 -302844.0000   \nDeaths               1886704.0    927.949689    5556.113037       0.0000   \nRecovered             619782.0  34348.827523  198237.561482       0.0000   \nActive                619782.0  14898.239765  119491.602840       0.0000   \nIncident_Rate        1809153.0  10130.824459    6290.327903       0.0000   \nCase_Fatality_Ratio  1830309.0      2.580329      46.267909       0.0000   \nIncidence_Rate         35127.0   2677.968350    1883.597526       0.0000   \nCase-Fatality_Ratio    35435.0      2.086186       3.579089       0.0000   \n\n                              25%           50%           75%           max  \nFIPS                 19049.000000  30067.000000  47041.000000  9.999900e+04  \nLat                     33.205219     37.901449     42.176955  7.170690e+01  \nLong_                  -96.580954    -86.740722    -77.382992  1.780650e+02  \nConfirmed             1119.000000   3383.000000  13727.000000  2.116224e+07  \nDeaths                  17.000000     57.000000    206.000000  1.614890e+05  \nRecovered                0.000000      0.000000    253.000000  6.399531e+06  \nActive                 479.000000   1609.000000   5815.000000  5.658278e+06  \nIncident_Rate         5808.925994   9742.850073  13671.957672  2.164022e+06  \nCase_Fatality_Ratio      1.102281      1.643631      2.342918  2.960000e+04  \nIncidence_Rate        1320.648663   2420.203437   3671.385699  1.808200e+04  \nCase-Fatality_Ratio      0.791818      1.563474      2.678571  3.028571e+02  ",
      "text/html": "<div>\n<style scoped>\n    .dataframe tbody tr th:only-of-type {\n        vertical-align: middle;\n    }\n\n    .dataframe tbody tr th {\n        vertical-align: top;\n    }\n\n    .dataframe thead th {\n        text-align: right;\n    }\n</style>\n<table border=\"1\" class=\"dataframe\">\n  <thead>\n    <tr style=\"text-align: right;\">\n      <th></th>\n      <th>count</th>\n      <th>mean</th>\n      <th>std</th>\n      <th>min</th>\n      <th>25%</th>\n      <th>50%</th>\n      <th>75%</th>\n      <th>max</th>\n    </tr>\n  </thead>\n  <tbody>\n    <tr>\n      <th>FIPS</th>\n      <td>1538488.0</td>\n      <td>32400.708711</td>\n      <td>18035.216413</td>\n      <td>60.0000</td>\n      <td>19049.000000</td>\n      <td>30067.000000</td>\n      <td>47041.000000</td>\n      <td>9.999900e+04</td>\n    </tr>\n    <tr>\n      <th>Lat</th>\n      <td>1844762.0</td>\n      <td>35.789114</td>\n      <td>13.334104</td>\n      <td>-71.9499</td>\n      <td>33.205219</td>\n      <td>37.901449</td>\n      <td>42.176955</td>\n      <td>7.170690e+01</td>\n    </tr>\n    <tr>\n      <th>Long_</th>\n      <td>1844762.0</td>\n      <td>-71.274113</td>\n      <td>54.949434</td>\n      <td>-178.1165</td>\n      <td>-96.580954</td>\n      <td>-86.740722</td>\n      <td>-77.382992</td>\n      <td>1.780650e+02</td>\n    </tr>\n    <tr>\n      <th>Confirmed</th>\n      <td>1886704.0</td>\n      <td>45882.860633</td>\n      <td>283708.216141</td>\n      <td>-302844.0000</td>\n      <td>1119.000000</td>\n      <td>3383.000000</td>\n      <td>13727.000000</td>\n      <td>2.116224e+07</td>\n    </tr>\n    <tr>\n      <th>Deaths</th>\n      <td>1886704.0</td>\n      <td>927.949689</td>\n      <td>5556.113037</td>\n      <td>0.0000</td>\n      <td>17.000000</td>\n      <td>57.000000</td>\n      <td>206.000000</td>\n      <td>1.614890e+05</td>\n    </tr>\n    <tr>\n      <th>Recovered</th>\n      <td>619782.0</td>\n      <td>34348.827523</td>\n      <td>198237.561482</td>\n      <td>0.0000</td>\n      <td>0.000000</td>\n      <td>0.000000</td>\n      <td>253.000000</td>\n      <td>6.399531e+06</td>\n    </tr>\n    <tr>\n      <th>Active</th>\n      <td>619782.0</td>\n      <td>14898.239765</td>\n      <td>119491.602840</td>\n      <td>0.0000</td>\n      <td>479.000000</td>\n      <td>1609.000000</td>\n      <td>5815.000000</td>\n      <td>5.658278e+06</td>\n    </tr>\n    <tr>\n      <th>Incident_Rate</th>\n      <td>1809153.0</td>\n      <td>10130.824459</td>\n      <td>6290.327903</td>\n      <td>0.0000</td>\n      <td>5808.925994</td>\n      <td>9742.850073</td>\n      <td>13671.957672</td>\n      <td>2.164022e+06</td>\n    </tr>\n    <tr>\n      <th>Case_Fatality_Ratio</th>\n      <td>1830309.0</td>\n      <td>2.580329</td>\n      <td>46.267909</td>\n      <td>0.0000</td>\n      <td>1.102281</td>\n      <td>1.643631</td>\n      <td>2.342918</td>\n      <td>2.960000e+04</td>\n    </tr>\n    <tr>\n      <th>Incidence_Rate</th>\n      <td>35127.0</td>\n      <td>2677.968350</td>\n      <td>1883.597526</td>\n      <td>0.0000</td>\n      <td>1320.648663</td>\n      <td>2420.203437</td>\n      <td>3671.385699</td>\n      <td>1.808200e+04</td>\n    </tr>\n    <tr>\n      <th>Case-Fatality_Ratio</th>\n      <td>35435.0</td>\n      <td>2.086186</td>\n      <td>3.579089</td>\n      <td>0.0000</td>\n      <td>0.791818</td>\n      <td>1.563474</td>\n      <td>2.678571</td>\n      <td>3.028571e+02</td>\n    </tr>\n  </tbody>\n</table>\n</div>"
     },
     "execution_count": 18,
     "metadata": {},
     "output_type": "execute_result"
    }
   ],
   "source": [
    "big_df.describe().transpose()"
   ],
   "metadata": {
    "collapsed": false
   }
  },
  {
   "cell_type": "markdown",
   "source": [
    "Let's only keep data for the US (i.e., data containing FIPS fields):"
   ],
   "metadata": {
    "collapsed": false
   }
  },
  {
   "cell_type": "markdown",
   "source": [],
   "metadata": {
    "collapsed": false
   }
  },
  {
   "cell_type": "code",
   "execution_count": 21,
   "outputs": [
    {
     "data": {
      "text/plain": "       FIPS    Admin2 Province_State Country_Region          Last_Update   \n648  1001.0   Autauga        Alabama             US  2021-01-02 05:22:33  \\\n649  1003.0   Baldwin        Alabama             US  2021-01-02 05:22:33   \n650  1005.0   Barbour        Alabama             US  2021-01-02 05:22:33   \n651  1007.0      Bibb        Alabama             US  2021-01-02 05:22:33   \n652  1009.0    Blount        Alabama             US  2021-01-02 05:22:33   \n653  1011.0   Bullock        Alabama             US  2021-01-02 05:22:33   \n654  1013.0    Butler        Alabama             US  2021-01-02 05:22:33   \n655  1015.0   Calhoun        Alabama             US  2021-01-02 05:22:33   \n656  1017.0  Chambers        Alabama             US  2021-01-02 05:22:33   \n657  1019.0  Cherokee        Alabama             US  2021-01-02 05:22:33   \n\n           Lat      Long_  Confirmed  Deaths  Recovered   Active   \n648  32.539527 -86.644082       4239      50        0.0   4189.0  \\\n649  30.727750 -87.722071      13823     169        0.0  13654.0   \n650  31.868263 -85.387129       1517      33        0.0   1484.0   \n651  32.996421 -87.125115       1854      46        0.0   1808.0   \n652  33.982109 -86.567906       4693      63        0.0   4630.0   \n653  32.100305 -85.712655        888      22        0.0    866.0   \n654  31.753001 -86.680575       1522      45        0.0   1477.0   \n655  33.774837 -85.826304       9584     157        0.0   9427.0   \n656  32.913601 -85.390727       2366      63        0.0   2303.0   \n657  34.178060 -85.606390       1429      22        0.0   1407.0   \n\n              Combined_Key  Incident_Rate  Case_Fatality_Ratio   \n648   Autauga, Alabama, US    7587.391935             1.179523  \\\n649   Baldwin, Alabama, US    6192.157109             1.222600   \n650   Barbour, Alabama, US    6145.183505             2.175346   \n651      Bibb, Alabama, US    8279.003304             2.481122   \n652    Blount, Alabama, US    8115.726490             1.342425   \n653   Bullock, Alabama, US    8791.208791             2.477477   \n654    Butler, Alabama, US    7825.997532             2.956636   \n655   Calhoun, Alabama, US    8436.248405             1.638147   \n656  Chambers, Alabama, US    7114.933542             2.662722   \n657  Cherokee, Alabama, US    5455.031302             1.539538   \n\n     Incidence_Rate  Case-Fatality_Ratio  \n648             NaN                  NaN  \n649             NaN                  NaN  \n650             NaN                  NaN  \n651             NaN                  NaN  \n652             NaN                  NaN  \n653             NaN                  NaN  \n654             NaN                  NaN  \n655             NaN                  NaN  \n656             NaN                  NaN  \n657             NaN                  NaN  ",
      "text/html": "<div>\n<style scoped>\n    .dataframe tbody tr th:only-of-type {\n        vertical-align: middle;\n    }\n\n    .dataframe tbody tr th {\n        vertical-align: top;\n    }\n\n    .dataframe thead th {\n        text-align: right;\n    }\n</style>\n<table border=\"1\" class=\"dataframe\">\n  <thead>\n    <tr style=\"text-align: right;\">\n      <th></th>\n      <th>FIPS</th>\n      <th>Admin2</th>\n      <th>Province_State</th>\n      <th>Country_Region</th>\n      <th>Last_Update</th>\n      <th>Lat</th>\n      <th>Long_</th>\n      <th>Confirmed</th>\n      <th>Deaths</th>\n      <th>Recovered</th>\n      <th>Active</th>\n      <th>Combined_Key</th>\n      <th>Incident_Rate</th>\n      <th>Case_Fatality_Ratio</th>\n      <th>Incidence_Rate</th>\n      <th>Case-Fatality_Ratio</th>\n    </tr>\n  </thead>\n  <tbody>\n    <tr>\n      <th>648</th>\n      <td>1001.0</td>\n      <td>Autauga</td>\n      <td>Alabama</td>\n      <td>US</td>\n      <td>2021-01-02 05:22:33</td>\n      <td>32.539527</td>\n      <td>-86.644082</td>\n      <td>4239</td>\n      <td>50</td>\n      <td>0.0</td>\n      <td>4189.0</td>\n      <td>Autauga, Alabama, US</td>\n      <td>7587.391935</td>\n      <td>1.179523</td>\n      <td>NaN</td>\n      <td>NaN</td>\n    </tr>\n    <tr>\n      <th>649</th>\n      <td>1003.0</td>\n      <td>Baldwin</td>\n      <td>Alabama</td>\n      <td>US</td>\n      <td>2021-01-02 05:22:33</td>\n      <td>30.727750</td>\n      <td>-87.722071</td>\n      <td>13823</td>\n      <td>169</td>\n      <td>0.0</td>\n      <td>13654.0</td>\n      <td>Baldwin, Alabama, US</td>\n      <td>6192.157109</td>\n      <td>1.222600</td>\n      <td>NaN</td>\n      <td>NaN</td>\n    </tr>\n    <tr>\n      <th>650</th>\n      <td>1005.0</td>\n      <td>Barbour</td>\n      <td>Alabama</td>\n      <td>US</td>\n      <td>2021-01-02 05:22:33</td>\n      <td>31.868263</td>\n      <td>-85.387129</td>\n      <td>1517</td>\n      <td>33</td>\n      <td>0.0</td>\n      <td>1484.0</td>\n      <td>Barbour, Alabama, US</td>\n      <td>6145.183505</td>\n      <td>2.175346</td>\n      <td>NaN</td>\n      <td>NaN</td>\n    </tr>\n    <tr>\n      <th>651</th>\n      <td>1007.0</td>\n      <td>Bibb</td>\n      <td>Alabama</td>\n      <td>US</td>\n      <td>2021-01-02 05:22:33</td>\n      <td>32.996421</td>\n      <td>-87.125115</td>\n      <td>1854</td>\n      <td>46</td>\n      <td>0.0</td>\n      <td>1808.0</td>\n      <td>Bibb, Alabama, US</td>\n      <td>8279.003304</td>\n      <td>2.481122</td>\n      <td>NaN</td>\n      <td>NaN</td>\n    </tr>\n    <tr>\n      <th>652</th>\n      <td>1009.0</td>\n      <td>Blount</td>\n      <td>Alabama</td>\n      <td>US</td>\n      <td>2021-01-02 05:22:33</td>\n      <td>33.982109</td>\n      <td>-86.567906</td>\n      <td>4693</td>\n      <td>63</td>\n      <td>0.0</td>\n      <td>4630.0</td>\n      <td>Blount, Alabama, US</td>\n      <td>8115.726490</td>\n      <td>1.342425</td>\n      <td>NaN</td>\n      <td>NaN</td>\n    </tr>\n    <tr>\n      <th>653</th>\n      <td>1011.0</td>\n      <td>Bullock</td>\n      <td>Alabama</td>\n      <td>US</td>\n      <td>2021-01-02 05:22:33</td>\n      <td>32.100305</td>\n      <td>-85.712655</td>\n      <td>888</td>\n      <td>22</td>\n      <td>0.0</td>\n      <td>866.0</td>\n      <td>Bullock, Alabama, US</td>\n      <td>8791.208791</td>\n      <td>2.477477</td>\n      <td>NaN</td>\n      <td>NaN</td>\n    </tr>\n    <tr>\n      <th>654</th>\n      <td>1013.0</td>\n      <td>Butler</td>\n      <td>Alabama</td>\n      <td>US</td>\n      <td>2021-01-02 05:22:33</td>\n      <td>31.753001</td>\n      <td>-86.680575</td>\n      <td>1522</td>\n      <td>45</td>\n      <td>0.0</td>\n      <td>1477.0</td>\n      <td>Butler, Alabama, US</td>\n      <td>7825.997532</td>\n      <td>2.956636</td>\n      <td>NaN</td>\n      <td>NaN</td>\n    </tr>\n    <tr>\n      <th>655</th>\n      <td>1015.0</td>\n      <td>Calhoun</td>\n      <td>Alabama</td>\n      <td>US</td>\n      <td>2021-01-02 05:22:33</td>\n      <td>33.774837</td>\n      <td>-85.826304</td>\n      <td>9584</td>\n      <td>157</td>\n      <td>0.0</td>\n      <td>9427.0</td>\n      <td>Calhoun, Alabama, US</td>\n      <td>8436.248405</td>\n      <td>1.638147</td>\n      <td>NaN</td>\n      <td>NaN</td>\n    </tr>\n    <tr>\n      <th>656</th>\n      <td>1017.0</td>\n      <td>Chambers</td>\n      <td>Alabama</td>\n      <td>US</td>\n      <td>2021-01-02 05:22:33</td>\n      <td>32.913601</td>\n      <td>-85.390727</td>\n      <td>2366</td>\n      <td>63</td>\n      <td>0.0</td>\n      <td>2303.0</td>\n      <td>Chambers, Alabama, US</td>\n      <td>7114.933542</td>\n      <td>2.662722</td>\n      <td>NaN</td>\n      <td>NaN</td>\n    </tr>\n    <tr>\n      <th>657</th>\n      <td>1019.0</td>\n      <td>Cherokee</td>\n      <td>Alabama</td>\n      <td>US</td>\n      <td>2021-01-02 05:22:33</td>\n      <td>34.178060</td>\n      <td>-85.606390</td>\n      <td>1429</td>\n      <td>22</td>\n      <td>0.0</td>\n      <td>1407.0</td>\n      <td>Cherokee, Alabama, US</td>\n      <td>5455.031302</td>\n      <td>1.539538</td>\n      <td>NaN</td>\n      <td>NaN</td>\n    </tr>\n  </tbody>\n</table>\n</div>"
     },
     "execution_count": 21,
     "metadata": {},
     "output_type": "execute_result"
    }
   ],
   "source": [
    "big_df_USA = big_df[big_df['FIPS'].notna()]\n",
    "big_df_USA.head(10)"
   ],
   "metadata": {
    "collapsed": false
   }
  },
  {
   "cell_type": "code",
   "execution_count": 24,
   "outputs": [
    {
     "data": {
      "text/plain": "array(['US'], dtype=object)"
     },
     "execution_count": 24,
     "metadata": {},
     "output_type": "execute_result"
    }
   ],
   "source": [
    "# check:\n",
    "big_df_USA.Country_Region.unique()"
   ],
   "metadata": {
    "collapsed": false
   }
  },
  {
   "cell_type": "code",
   "execution_count": 26,
   "outputs": [
    {
     "data": {
      "text/plain": "array(['Alabama', 'Alaska', 'Arizona', 'Arkansas', 'California',\n       'Colorado', 'Connecticut', 'Delaware', 'Diamond Princess',\n       'District of Columbia', 'Florida', 'Georgia', 'Grand Princess',\n       'Guam', 'Hawaii', 'Idaho', 'Illinois', 'Indiana', 'Iowa', 'Kansas',\n       'Kentucky', 'Louisiana', 'Maine', 'Maryland', 'Massachusetts',\n       'Michigan', 'Minnesota', 'Mississippi', 'Missouri', 'Montana',\n       'Nebraska', 'Nevada', 'New Hampshire', 'New Jersey', 'New Mexico',\n       'New York', 'North Carolina', 'North Dakota',\n       'Northern Mariana Islands', 'Ohio', 'Oklahoma', 'Oregon',\n       'Pennsylvania', 'Puerto Rico', 'Rhode Island', 'South Carolina',\n       'South Dakota', 'Tennessee', 'Texas', 'Utah', 'Vermont',\n       'Virgin Islands', 'Virginia', 'Washington', 'West Virginia',\n       'Wisconsin', 'Wyoming', 'American Samoa'], dtype=object)"
     },
     "execution_count": 26,
     "metadata": {},
     "output_type": "execute_result"
    }
   ],
   "source": [
    "# check for missing/unusual states:\n",
    "big_df_USA.Province_State.unique()"
   ],
   "metadata": {
    "collapsed": false
   }
  },
  {
   "cell_type": "code",
   "execution_count": 47,
   "outputs": [],
   "source": [
    "# \"States\" to remove: \"Diamond Princess\", \"Grand Princess\", \"Guam\", \"Northern Mariana Islands\", \"Virgin Islands\", \"American Samoa\", \"Puerto Rico\"\n",
    "unwanted_states = (\"Diamond Princess\", \"Grand Princess\", \"Guam\", \"Northern Mariana Islands\", \"Virgin Islands\", \"American Samoa\", \"Puerto Rico\")\n",
    "filtered_USA_data = big_df_USA.query(\"Province_State != ('Diamond Princess', 'Grand Princess', 'Guam', 'Northern Mariana Islands', 'Virgin Islands', 'American Samoa', 'Puerto Rico')\")"
   ],
   "metadata": {
    "collapsed": false
   }
  },
  {
   "cell_type": "code",
   "execution_count": 48,
   "outputs": [
    {
     "data": {
      "text/plain": "array(['Alabama', 'Alaska', 'Arizona', 'Arkansas', 'California',\n       'Colorado', 'Connecticut', 'Delaware', 'District of Columbia',\n       'Florida', 'Georgia', 'Hawaii', 'Idaho', 'Illinois', 'Indiana',\n       'Iowa', 'Kansas', 'Kentucky', 'Louisiana', 'Maine', 'Maryland',\n       'Massachusetts', 'Michigan', 'Minnesota', 'Mississippi',\n       'Missouri', 'Montana', 'Nebraska', 'Nevada', 'New Hampshire',\n       'New Jersey', 'New Mexico', 'New York', 'North Carolina',\n       'North Dakota', 'Ohio', 'Oklahoma', 'Oregon', 'Pennsylvania',\n       'Rhode Island', 'South Carolina', 'South Dakota', 'Tennessee',\n       'Texas', 'Utah', 'Vermont', 'Virginia', 'Washington',\n       'West Virginia', 'Wisconsin', 'Wyoming'], dtype=object)"
     },
     "execution_count": 48,
     "metadata": {},
     "output_type": "execute_result"
    }
   ],
   "source": [
    "filtered_USA_data.Province_State.unique()"
   ],
   "metadata": {
    "collapsed": false
   }
  },
  {
   "cell_type": "markdown",
   "source": [
    "Remove rows where number of active or detected cases is NaN:"
   ],
   "metadata": {
    "collapsed": false
   }
  },
  {
   "cell_type": "code",
   "execution_count": 49,
   "outputs": [
    {
     "data": {
      "text/plain": "            FIPS      Admin2 Province_State Country_Region   \n648       1001.0     Autauga        Alabama             US  \\\n649       1003.0     Baldwin        Alabama             US   \n650       1005.0     Barbour        Alabama             US   \n651       1007.0        Bibb        Alabama             US   \n652       1009.0      Blount        Alabama             US   \n...          ...         ...            ...            ...   \n1886643  56039.0       Teton        Wyoming             US   \n1886644  56041.0       Uinta        Wyoming             US   \n1886645  90056.0  Unassigned        Wyoming             US   \n1886646  56043.0    Washakie        Wyoming             US   \n1886647  56045.0      Weston        Wyoming             US   \n\n                 Last_Update        Lat       Long_  Confirmed  Deaths   \n648      2021-01-02 05:22:33  32.539527  -86.644082       4239      50  \\\n649      2021-01-02 05:22:33  30.727750  -87.722071      13823     169   \n650      2021-01-02 05:22:33  31.868263  -85.387129       1517      33   \n651      2021-01-02 05:22:33  32.996421  -87.125115       1854      46   \n652      2021-01-02 05:22:33  33.982109  -86.567906       4693      63   \n...                      ...        ...         ...        ...     ...   \n1886643  2022-01-01 04:22:14  43.935225 -110.589080       5950      14   \n1886644  2022-01-01 04:22:14  41.287818 -110.547578       4154      31   \n1886645  2022-01-01 04:22:14        NaN         NaN          0       0   \n1886646  2022-01-01 04:22:14  43.904516 -107.680187       1880      37   \n1886647  2022-01-01 04:22:14  43.839612 -104.567488       1254      14   \n\n         Recovered   Active             Combined_Key  Incident_Rate   \n648            0.0   4189.0     Autauga, Alabama, US    7587.391935  \\\n649            0.0  13654.0     Baldwin, Alabama, US    6192.157109   \n650            0.0   1484.0     Barbour, Alabama, US    6145.183505   \n651            0.0   1808.0        Bibb, Alabama, US    8279.003304   \n652            0.0   4630.0      Blount, Alabama, US    8115.726490   \n...            ...      ...                      ...            ...   \n1886643        NaN      NaN       Teton, Wyoming, US   25357.995227   \n1886644        NaN      NaN       Uinta, Wyoming, US   20537.921487   \n1886645        NaN      NaN  Unassigned, Wyoming, US            NaN   \n1886646        NaN      NaN    Washakie, Wyoming, US   24087.123639   \n1886647        NaN      NaN      Weston, Wyoming, US   18103.074924   \n\n         Case_Fatality_Ratio  Incidence_Rate  Case-Fatality_Ratio  \n648                 1.179523             NaN                  NaN  \n649                 1.222600             NaN                  NaN  \n650                 2.175346             NaN                  NaN  \n651                 2.481122             NaN                  NaN  \n652                 1.342425             NaN                  NaN  \n...                      ...             ...                  ...  \n1886643             0.235294             NaN                  NaN  \n1886644             0.746269             NaN                  NaN  \n1886645                  NaN             NaN                  NaN  \n1886646             1.968085             NaN                  NaN  \n1886647             1.116427             NaN                  NaN  \n\n[1498322 rows x 16 columns]",
      "text/html": "<div>\n<style scoped>\n    .dataframe tbody tr th:only-of-type {\n        vertical-align: middle;\n    }\n\n    .dataframe tbody tr th {\n        vertical-align: top;\n    }\n\n    .dataframe thead th {\n        text-align: right;\n    }\n</style>\n<table border=\"1\" class=\"dataframe\">\n  <thead>\n    <tr style=\"text-align: right;\">\n      <th></th>\n      <th>FIPS</th>\n      <th>Admin2</th>\n      <th>Province_State</th>\n      <th>Country_Region</th>\n      <th>Last_Update</th>\n      <th>Lat</th>\n      <th>Long_</th>\n      <th>Confirmed</th>\n      <th>Deaths</th>\n      <th>Recovered</th>\n      <th>Active</th>\n      <th>Combined_Key</th>\n      <th>Incident_Rate</th>\n      <th>Case_Fatality_Ratio</th>\n      <th>Incidence_Rate</th>\n      <th>Case-Fatality_Ratio</th>\n    </tr>\n  </thead>\n  <tbody>\n    <tr>\n      <th>648</th>\n      <td>1001.0</td>\n      <td>Autauga</td>\n      <td>Alabama</td>\n      <td>US</td>\n      <td>2021-01-02 05:22:33</td>\n      <td>32.539527</td>\n      <td>-86.644082</td>\n      <td>4239</td>\n      <td>50</td>\n      <td>0.0</td>\n      <td>4189.0</td>\n      <td>Autauga, Alabama, US</td>\n      <td>7587.391935</td>\n      <td>1.179523</td>\n      <td>NaN</td>\n      <td>NaN</td>\n    </tr>\n    <tr>\n      <th>649</th>\n      <td>1003.0</td>\n      <td>Baldwin</td>\n      <td>Alabama</td>\n      <td>US</td>\n      <td>2021-01-02 05:22:33</td>\n      <td>30.727750</td>\n      <td>-87.722071</td>\n      <td>13823</td>\n      <td>169</td>\n      <td>0.0</td>\n      <td>13654.0</td>\n      <td>Baldwin, Alabama, US</td>\n      <td>6192.157109</td>\n      <td>1.222600</td>\n      <td>NaN</td>\n      <td>NaN</td>\n    </tr>\n    <tr>\n      <th>650</th>\n      <td>1005.0</td>\n      <td>Barbour</td>\n      <td>Alabama</td>\n      <td>US</td>\n      <td>2021-01-02 05:22:33</td>\n      <td>31.868263</td>\n      <td>-85.387129</td>\n      <td>1517</td>\n      <td>33</td>\n      <td>0.0</td>\n      <td>1484.0</td>\n      <td>Barbour, Alabama, US</td>\n      <td>6145.183505</td>\n      <td>2.175346</td>\n      <td>NaN</td>\n      <td>NaN</td>\n    </tr>\n    <tr>\n      <th>651</th>\n      <td>1007.0</td>\n      <td>Bibb</td>\n      <td>Alabama</td>\n      <td>US</td>\n      <td>2021-01-02 05:22:33</td>\n      <td>32.996421</td>\n      <td>-87.125115</td>\n      <td>1854</td>\n      <td>46</td>\n      <td>0.0</td>\n      <td>1808.0</td>\n      <td>Bibb, Alabama, US</td>\n      <td>8279.003304</td>\n      <td>2.481122</td>\n      <td>NaN</td>\n      <td>NaN</td>\n    </tr>\n    <tr>\n      <th>652</th>\n      <td>1009.0</td>\n      <td>Blount</td>\n      <td>Alabama</td>\n      <td>US</td>\n      <td>2021-01-02 05:22:33</td>\n      <td>33.982109</td>\n      <td>-86.567906</td>\n      <td>4693</td>\n      <td>63</td>\n      <td>0.0</td>\n      <td>4630.0</td>\n      <td>Blount, Alabama, US</td>\n      <td>8115.726490</td>\n      <td>1.342425</td>\n      <td>NaN</td>\n      <td>NaN</td>\n    </tr>\n    <tr>\n      <th>...</th>\n      <td>...</td>\n      <td>...</td>\n      <td>...</td>\n      <td>...</td>\n      <td>...</td>\n      <td>...</td>\n      <td>...</td>\n      <td>...</td>\n      <td>...</td>\n      <td>...</td>\n      <td>...</td>\n      <td>...</td>\n      <td>...</td>\n      <td>...</td>\n      <td>...</td>\n      <td>...</td>\n    </tr>\n    <tr>\n      <th>1886643</th>\n      <td>56039.0</td>\n      <td>Teton</td>\n      <td>Wyoming</td>\n      <td>US</td>\n      <td>2022-01-01 04:22:14</td>\n      <td>43.935225</td>\n      <td>-110.589080</td>\n      <td>5950</td>\n      <td>14</td>\n      <td>NaN</td>\n      <td>NaN</td>\n      <td>Teton, Wyoming, US</td>\n      <td>25357.995227</td>\n      <td>0.235294</td>\n      <td>NaN</td>\n      <td>NaN</td>\n    </tr>\n    <tr>\n      <th>1886644</th>\n      <td>56041.0</td>\n      <td>Uinta</td>\n      <td>Wyoming</td>\n      <td>US</td>\n      <td>2022-01-01 04:22:14</td>\n      <td>41.287818</td>\n      <td>-110.547578</td>\n      <td>4154</td>\n      <td>31</td>\n      <td>NaN</td>\n      <td>NaN</td>\n      <td>Uinta, Wyoming, US</td>\n      <td>20537.921487</td>\n      <td>0.746269</td>\n      <td>NaN</td>\n      <td>NaN</td>\n    </tr>\n    <tr>\n      <th>1886645</th>\n      <td>90056.0</td>\n      <td>Unassigned</td>\n      <td>Wyoming</td>\n      <td>US</td>\n      <td>2022-01-01 04:22:14</td>\n      <td>NaN</td>\n      <td>NaN</td>\n      <td>0</td>\n      <td>0</td>\n      <td>NaN</td>\n      <td>NaN</td>\n      <td>Unassigned, Wyoming, US</td>\n      <td>NaN</td>\n      <td>NaN</td>\n      <td>NaN</td>\n      <td>NaN</td>\n    </tr>\n    <tr>\n      <th>1886646</th>\n      <td>56043.0</td>\n      <td>Washakie</td>\n      <td>Wyoming</td>\n      <td>US</td>\n      <td>2022-01-01 04:22:14</td>\n      <td>43.904516</td>\n      <td>-107.680187</td>\n      <td>1880</td>\n      <td>37</td>\n      <td>NaN</td>\n      <td>NaN</td>\n      <td>Washakie, Wyoming, US</td>\n      <td>24087.123639</td>\n      <td>1.968085</td>\n      <td>NaN</td>\n      <td>NaN</td>\n    </tr>\n    <tr>\n      <th>1886647</th>\n      <td>56045.0</td>\n      <td>Weston</td>\n      <td>Wyoming</td>\n      <td>US</td>\n      <td>2022-01-01 04:22:14</td>\n      <td>43.839612</td>\n      <td>-104.567488</td>\n      <td>1254</td>\n      <td>14</td>\n      <td>NaN</td>\n      <td>NaN</td>\n      <td>Weston, Wyoming, US</td>\n      <td>18103.074924</td>\n      <td>1.116427</td>\n      <td>NaN</td>\n      <td>NaN</td>\n    </tr>\n  </tbody>\n</table>\n<p>1498322 rows × 16 columns</p>\n</div>"
     },
     "execution_count": 49,
     "metadata": {},
     "output_type": "execute_result"
    }
   ],
   "source": [
    "filtered_USA_data.Confirmed.dropna(inplace=True)\n",
    "filtered_USA_data.Deaths.dropna(inplace=True)\n",
    "filtered_USA_data"
   ],
   "metadata": {
    "collapsed": false
   }
  },
  {
   "cell_type": "markdown",
   "source": [
    "Drop the unnecessary columns:"
   ],
   "metadata": {
    "collapsed": false
   }
  },
  {
   "cell_type": "code",
   "execution_count": 50,
   "outputs": [
    {
     "data": {
      "text/plain": "       FIPS    Admin2 Province_State          Last_Update  Confirmed  Deaths   \n648  1001.0   Autauga        Alabama  2021-01-02 05:22:33       4239      50  \\\n649  1003.0   Baldwin        Alabama  2021-01-02 05:22:33      13823     169   \n650  1005.0   Barbour        Alabama  2021-01-02 05:22:33       1517      33   \n651  1007.0      Bibb        Alabama  2021-01-02 05:22:33       1854      46   \n652  1009.0    Blount        Alabama  2021-01-02 05:22:33       4693      63   \n653  1011.0   Bullock        Alabama  2021-01-02 05:22:33        888      22   \n654  1013.0    Butler        Alabama  2021-01-02 05:22:33       1522      45   \n655  1015.0   Calhoun        Alabama  2021-01-02 05:22:33       9584     157   \n656  1017.0  Chambers        Alabama  2021-01-02 05:22:33       2366      63   \n657  1019.0  Cherokee        Alabama  2021-01-02 05:22:33       1429      22   \n\n              Combined_Key  \n648   Autauga, Alabama, US  \n649   Baldwin, Alabama, US  \n650   Barbour, Alabama, US  \n651      Bibb, Alabama, US  \n652    Blount, Alabama, US  \n653   Bullock, Alabama, US  \n654    Butler, Alabama, US  \n655   Calhoun, Alabama, US  \n656  Chambers, Alabama, US  \n657  Cherokee, Alabama, US  ",
      "text/html": "<div>\n<style scoped>\n    .dataframe tbody tr th:only-of-type {\n        vertical-align: middle;\n    }\n\n    .dataframe tbody tr th {\n        vertical-align: top;\n    }\n\n    .dataframe thead th {\n        text-align: right;\n    }\n</style>\n<table border=\"1\" class=\"dataframe\">\n  <thead>\n    <tr style=\"text-align: right;\">\n      <th></th>\n      <th>FIPS</th>\n      <th>Admin2</th>\n      <th>Province_State</th>\n      <th>Last_Update</th>\n      <th>Confirmed</th>\n      <th>Deaths</th>\n      <th>Combined_Key</th>\n    </tr>\n  </thead>\n  <tbody>\n    <tr>\n      <th>648</th>\n      <td>1001.0</td>\n      <td>Autauga</td>\n      <td>Alabama</td>\n      <td>2021-01-02 05:22:33</td>\n      <td>4239</td>\n      <td>50</td>\n      <td>Autauga, Alabama, US</td>\n    </tr>\n    <tr>\n      <th>649</th>\n      <td>1003.0</td>\n      <td>Baldwin</td>\n      <td>Alabama</td>\n      <td>2021-01-02 05:22:33</td>\n      <td>13823</td>\n      <td>169</td>\n      <td>Baldwin, Alabama, US</td>\n    </tr>\n    <tr>\n      <th>650</th>\n      <td>1005.0</td>\n      <td>Barbour</td>\n      <td>Alabama</td>\n      <td>2021-01-02 05:22:33</td>\n      <td>1517</td>\n      <td>33</td>\n      <td>Barbour, Alabama, US</td>\n    </tr>\n    <tr>\n      <th>651</th>\n      <td>1007.0</td>\n      <td>Bibb</td>\n      <td>Alabama</td>\n      <td>2021-01-02 05:22:33</td>\n      <td>1854</td>\n      <td>46</td>\n      <td>Bibb, Alabama, US</td>\n    </tr>\n    <tr>\n      <th>652</th>\n      <td>1009.0</td>\n      <td>Blount</td>\n      <td>Alabama</td>\n      <td>2021-01-02 05:22:33</td>\n      <td>4693</td>\n      <td>63</td>\n      <td>Blount, Alabama, US</td>\n    </tr>\n    <tr>\n      <th>653</th>\n      <td>1011.0</td>\n      <td>Bullock</td>\n      <td>Alabama</td>\n      <td>2021-01-02 05:22:33</td>\n      <td>888</td>\n      <td>22</td>\n      <td>Bullock, Alabama, US</td>\n    </tr>\n    <tr>\n      <th>654</th>\n      <td>1013.0</td>\n      <td>Butler</td>\n      <td>Alabama</td>\n      <td>2021-01-02 05:22:33</td>\n      <td>1522</td>\n      <td>45</td>\n      <td>Butler, Alabama, US</td>\n    </tr>\n    <tr>\n      <th>655</th>\n      <td>1015.0</td>\n      <td>Calhoun</td>\n      <td>Alabama</td>\n      <td>2021-01-02 05:22:33</td>\n      <td>9584</td>\n      <td>157</td>\n      <td>Calhoun, Alabama, US</td>\n    </tr>\n    <tr>\n      <th>656</th>\n      <td>1017.0</td>\n      <td>Chambers</td>\n      <td>Alabama</td>\n      <td>2021-01-02 05:22:33</td>\n      <td>2366</td>\n      <td>63</td>\n      <td>Chambers, Alabama, US</td>\n    </tr>\n    <tr>\n      <th>657</th>\n      <td>1019.0</td>\n      <td>Cherokee</td>\n      <td>Alabama</td>\n      <td>2021-01-02 05:22:33</td>\n      <td>1429</td>\n      <td>22</td>\n      <td>Cherokee, Alabama, US</td>\n    </tr>\n  </tbody>\n</table>\n</div>"
     },
     "execution_count": 50,
     "metadata": {},
     "output_type": "execute_result"
    }
   ],
   "source": [
    "filtered_USA_data.drop([\"Lat\",\"Long_\",\"Recovered\",\"Active\",\"Incidence_Rate\", \"Case-Fatality_Ratio\", \"Incident_Rate\",\"Case_Fatality_Ratio\", \"Country_Region\"],axis=1,inplace=True)\n",
    "filtered_USA_data.head(10)"
   ],
   "metadata": {
    "collapsed": false
   }
  },
  {
   "cell_type": "code",
   "execution_count": 51,
   "outputs": [
    {
     "data": {
      "text/plain": "<Axes: >"
     },
     "execution_count": 51,
     "metadata": {},
     "output_type": "execute_result"
    },
    {
     "data": {
      "text/plain": "<Figure size 640x480 with 2 Axes>",
      "image/png": "[encoded data removed]"
     },
     "metadata": {},
     "output_type": "display_data"
    }
   ],
   "source": [
    "# Visually check for NaN values:\n",
    "sb.heatmap(filtered_USA_data.isna())\n",
    "plt.show()"
   ],
   "metadata": {
    "collapsed": false
   }
  },
  {
   "cell_type": "markdown",
   "source": [
    "There are no missing values in the data set."
   ],
   "metadata": {
    "collapsed": false
   }
  },
  {
   "cell_type": "code",
   "execution_count": 52,
   "outputs": [
    {
     "data": {
      "text/plain": "FIPS              0\nAdmin2            0\nProvince_State    0\nLast_Update       0\nConfirmed         0\nDeaths            0\nCombined_Key      0\ndtype: int64"
     },
     "execution_count": 52,
     "metadata": {},
     "output_type": "execute_result"
    }
   ],
   "source": [
    "filtered_USA_data.isna().sum()"
   ],
   "metadata": {
    "collapsed": false
   }
  },
  {
   "cell_type": "markdown",
   "source": [
    "**Change type/format of data**"
   ],
   "metadata": {
    "collapsed": false
   }
  },
  {
   "cell_type": "code",
   "execution_count": 53,
   "outputs": [
    {
     "name": "stdout",
     "output_type": "stream",
     "text": [
      "<class 'pandas.core.frame.DataFrame'>\n",
      "Index: 1498322 entries, 648 to 1886647\n",
      "Data columns (total 7 columns):\n",
      " #   Column          Non-Null Count    Dtype  \n",
      "---  ------          --------------    -----  \n",
      " 0   FIPS            1498322 non-null  float64\n",
      " 1   Admin2          1498322 non-null  object \n",
      " 2   Province_State  1498322 non-null  object \n",
      " 3   Last_Update     1498322 non-null  object \n",
      " 4   Confirmed       1498322 non-null  int64  \n",
      " 5   Deaths          1498322 non-null  int64  \n",
      " 6   Combined_Key    1498322 non-null  object \n",
      "dtypes: float64(1), int64(2), object(4)\n",
      "memory usage: 91.5+ MB\n"
     ]
    }
   ],
   "source": [
    "filtered_USA_data.info()"
   ],
   "metadata": {
    "collapsed": false
   }
  },
  {
   "cell_type": "code",
   "execution_count": 54,
   "outputs": [
    {
     "data": {
      "text/plain": "       FIPS   Admin2 Province_State         Last_Update  Confirmed  Deaths   \n648  1001.0  Autauga        Alabama 2021-01-02 05:22:33       4239      50  \\\n649  1003.0  Baldwin        Alabama 2021-01-02 05:22:33      13823     169   \n650  1005.0  Barbour        Alabama 2021-01-02 05:22:33       1517      33   \n651  1007.0     Bibb        Alabama 2021-01-02 05:22:33       1854      46   \n652  1009.0   Blount        Alabama 2021-01-02 05:22:33       4693      63   \n\n             Combined_Key        date  \n648  Autauga, Alabama, US  2021/01/02  \n649  Baldwin, Alabama, US  2021/01/02  \n650  Barbour, Alabama, US  2021/01/02  \n651     Bibb, Alabama, US  2021/01/02  \n652   Blount, Alabama, US  2021/01/02  ",
      "text/html": "<div>\n<style scoped>\n    .dataframe tbody tr th:only-of-type {\n        vertical-align: middle;\n    }\n\n    .dataframe tbody tr th {\n        vertical-align: top;\n    }\n\n    .dataframe thead th {\n        text-align: right;\n    }\n</style>\n<table border=\"1\" class=\"dataframe\">\n  <thead>\n    <tr style=\"text-align: right;\">\n      <th></th>\n      <th>FIPS</th>\n      <th>Admin2</th>\n      <th>Province_State</th>\n      <th>Last_Update</th>\n      <th>Confirmed</th>\n      <th>Deaths</th>\n      <th>Combined_Key</th>\n      <th>date</th>\n    </tr>\n  </thead>\n  <tbody>\n    <tr>\n      <th>648</th>\n      <td>1001.0</td>\n      <td>Autauga</td>\n      <td>Alabama</td>\n      <td>2021-01-02 05:22:33</td>\n      <td>4239</td>\n      <td>50</td>\n      <td>Autauga, Alabama, US</td>\n      <td>2021/01/02</td>\n    </tr>\n    <tr>\n      <th>649</th>\n      <td>1003.0</td>\n      <td>Baldwin</td>\n      <td>Alabama</td>\n      <td>2021-01-02 05:22:33</td>\n      <td>13823</td>\n      <td>169</td>\n      <td>Baldwin, Alabama, US</td>\n      <td>2021/01/02</td>\n    </tr>\n    <tr>\n      <th>650</th>\n      <td>1005.0</td>\n      <td>Barbour</td>\n      <td>Alabama</td>\n      <td>2021-01-02 05:22:33</td>\n      <td>1517</td>\n      <td>33</td>\n      <td>Barbour, Alabama, US</td>\n      <td>2021/01/02</td>\n    </tr>\n    <tr>\n      <th>651</th>\n      <td>1007.0</td>\n      <td>Bibb</td>\n      <td>Alabama</td>\n      <td>2021-01-02 05:22:33</td>\n      <td>1854</td>\n      <td>46</td>\n      <td>Bibb, Alabama, US</td>\n      <td>2021/01/02</td>\n    </tr>\n    <tr>\n      <th>652</th>\n      <td>1009.0</td>\n      <td>Blount</td>\n      <td>Alabama</td>\n      <td>2021-01-02 05:22:33</td>\n      <td>4693</td>\n      <td>63</td>\n      <td>Blount, Alabama, US</td>\n      <td>2021/01/02</td>\n    </tr>\n  </tbody>\n</table>\n</div>"
     },
     "execution_count": 54,
     "metadata": {},
     "output_type": "execute_result"
    }
   ],
   "source": [
    "filtered_USA_data['Last_Update'] = pd.to_datetime(filtered_USA_data['Last_Update'])\n",
    "filtered_USA_data[\"date\"] = filtered_USA_data['Last_Update'].dt.strftime('%Y/%m/%d')\n",
    "filtered_USA_data.head()"
   ],
   "metadata": {
    "collapsed": false
   }
  },
  {
   "cell_type": "markdown",
   "source": [
    "Remove Last_Update column:"
   ],
   "metadata": {
    "collapsed": false
   }
  },
  {
   "cell_type": "code",
   "execution_count": 55,
   "outputs": [
    {
     "data": {
      "text/plain": "       FIPS   Admin2 Province_State  Confirmed  Deaths          Combined_Key   \n648  1001.0  Autauga        Alabama       4239      50  Autauga, Alabama, US  \\\n649  1003.0  Baldwin        Alabama      13823     169  Baldwin, Alabama, US   \n650  1005.0  Barbour        Alabama       1517      33  Barbour, Alabama, US   \n651  1007.0     Bibb        Alabama       1854      46     Bibb, Alabama, US   \n652  1009.0   Blount        Alabama       4693      63   Blount, Alabama, US   \n\n           date  \n648  2021/01/02  \n649  2021/01/02  \n650  2021/01/02  \n651  2021/01/02  \n652  2021/01/02  ",
      "text/html": "<div>\n<style scoped>\n    .dataframe tbody tr th:only-of-type {\n        vertical-align: middle;\n    }\n\n    .dataframe tbody tr th {\n        vertical-align: top;\n    }\n\n    .dataframe thead th {\n        text-align: right;\n    }\n</style>\n<table border=\"1\" class=\"dataframe\">\n  <thead>\n    <tr style=\"text-align: right;\">\n      <th></th>\n      <th>FIPS</th>\n      <th>Admin2</th>\n      <th>Province_State</th>\n      <th>Confirmed</th>\n      <th>Deaths</th>\n      <th>Combined_Key</th>\n      <th>date</th>\n    </tr>\n  </thead>\n  <tbody>\n    <tr>\n      <th>648</th>\n      <td>1001.0</td>\n      <td>Autauga</td>\n      <td>Alabama</td>\n      <td>4239</td>\n      <td>50</td>\n      <td>Autauga, Alabama, US</td>\n      <td>2021/01/02</td>\n    </tr>\n    <tr>\n      <th>649</th>\n      <td>1003.0</td>\n      <td>Baldwin</td>\n      <td>Alabama</td>\n      <td>13823</td>\n      <td>169</td>\n      <td>Baldwin, Alabama, US</td>\n      <td>2021/01/02</td>\n    </tr>\n    <tr>\n      <th>650</th>\n      <td>1005.0</td>\n      <td>Barbour</td>\n      <td>Alabama</td>\n      <td>1517</td>\n      <td>33</td>\n      <td>Barbour, Alabama, US</td>\n      <td>2021/01/02</td>\n    </tr>\n    <tr>\n      <th>651</th>\n      <td>1007.0</td>\n      <td>Bibb</td>\n      <td>Alabama</td>\n      <td>1854</td>\n      <td>46</td>\n      <td>Bibb, Alabama, US</td>\n      <td>2021/01/02</td>\n    </tr>\n    <tr>\n      <th>652</th>\n      <td>1009.0</td>\n      <td>Blount</td>\n      <td>Alabama</td>\n      <td>4693</td>\n      <td>63</td>\n      <td>Blount, Alabama, US</td>\n      <td>2021/01/02</td>\n    </tr>\n  </tbody>\n</table>\n</div>"
     },
     "execution_count": 55,
     "metadata": {},
     "output_type": "execute_result"
    }
   ],
   "source": [
    "filtered_USA_data.drop('Last_Update',axis=1, inplace=True)\n",
    "filtered_USA_data.head()"
   ],
   "metadata": {
    "collapsed": false
   }
  },
  {
   "cell_type": "code",
   "execution_count": 66,
   "outputs": [],
   "source": [
    "# Change type of FIPS to integer:\n",
    "filtered_USA_data.FIPS = filtered_USA_data.FIPS.astype({\"FIPS\": \"int64\"})"
   ],
   "metadata": {
    "collapsed": false
   }
  },
  {
   "cell_type": "code",
   "execution_count": 67,
   "outputs": [
    {
     "data": {
      "text/plain": "FIPS               int64\nAdmin2            object\nProvince_State    object\nConfirmed          int64\nDeaths             int64\nCombined_Key      object\ndate              object\ndtype: object"
     },
     "execution_count": 67,
     "metadata": {},
     "output_type": "execute_result"
    }
   ],
   "source": [
    "filtered_USA_data.dtypes"
   ],
   "metadata": {
    "collapsed": false
   }
  },
  {
   "cell_type": "markdown",
   "source": [
    "Sort the values according to State, County, and date."
   ],
   "metadata": {
    "collapsed": false
   }
  },
  {
   "cell_type": "code",
   "execution_count": 73,
   "outputs": [
    {
     "data": {
      "text/plain": "          FIPS   Admin2 Province_State  Confirmed  Deaths   \n1390839   1001  Autauga        Alabama       2168      31  \\\n1398835   1001  Autauga        Alabama       2182      31   \n1406831   1001  Autauga        Alabama       2195      31   \n1414827   1001  Autauga        Alabama       2210      31   \n1422823   1001  Autauga        Alabama       2229      31   \n...        ...      ...            ...        ...     ...   \n320468   56045   Weston        Wyoming       1521      17   \n328482   56045   Weston        Wyoming       1523      17   \n336496   56045   Weston        Wyoming       1524      17   \n344510   56045   Weston        Wyoming       1524      17   \n352524   56045   Weston        Wyoming       1524      17   \n\n                 Combined_Key        date  \n1390839  Autauga, Alabama, US  2020/11/01  \n1398835  Autauga, Alabama, US  2020/11/02  \n1406831  Autauga, Alabama, US  2020/11/03  \n1414827  Autauga, Alabama, US  2020/11/04  \n1422823  Autauga, Alabama, US  2020/11/05  \n...                       ...         ...  \n320468    Weston, Wyoming, US  2022/02/10  \n328482    Weston, Wyoming, US  2022/02/11  \n336496    Weston, Wyoming, US  2022/02/12  \n344510    Weston, Wyoming, US  2022/02/13  \n352524    Weston, Wyoming, US  2022/02/14  \n\n[1498322 rows x 7 columns]",
      "text/html": "<div>\n<style scoped>\n    .dataframe tbody tr th:only-of-type {\n        vertical-align: middle;\n    }\n\n    .dataframe tbody tr th {\n        vertical-align: top;\n    }\n\n    .dataframe thead th {\n        text-align: right;\n    }\n</style>\n<table border=\"1\" class=\"dataframe\">\n  <thead>\n    <tr style=\"text-align: right;\">\n      <th></th>\n      <th>FIPS</th>\n      <th>Admin2</th>\n      <th>Province_State</th>\n      <th>Confirmed</th>\n      <th>Deaths</th>\n      <th>Combined_Key</th>\n      <th>date</th>\n    </tr>\n  </thead>\n  <tbody>\n    <tr>\n      <th>1390839</th>\n      <td>1001</td>\n      <td>Autauga</td>\n      <td>Alabama</td>\n      <td>2168</td>\n      <td>31</td>\n      <td>Autauga, Alabama, US</td>\n      <td>2020/11/01</td>\n    </tr>\n    <tr>\n      <th>1398835</th>\n      <td>1001</td>\n      <td>Autauga</td>\n      <td>Alabama</td>\n      <td>2182</td>\n      <td>31</td>\n      <td>Autauga, Alabama, US</td>\n      <td>2020/11/02</td>\n    </tr>\n    <tr>\n      <th>1406831</th>\n      <td>1001</td>\n      <td>Autauga</td>\n      <td>Alabama</td>\n      <td>2195</td>\n      <td>31</td>\n      <td>Autauga, Alabama, US</td>\n      <td>2020/11/03</td>\n    </tr>\n    <tr>\n      <th>1414827</th>\n      <td>1001</td>\n      <td>Autauga</td>\n      <td>Alabama</td>\n      <td>2210</td>\n      <td>31</td>\n      <td>Autauga, Alabama, US</td>\n      <td>2020/11/04</td>\n    </tr>\n    <tr>\n      <th>1422823</th>\n      <td>1001</td>\n      <td>Autauga</td>\n      <td>Alabama</td>\n      <td>2229</td>\n      <td>31</td>\n      <td>Autauga, Alabama, US</td>\n      <td>2020/11/05</td>\n    </tr>\n    <tr>\n      <th>...</th>\n      <td>...</td>\n      <td>...</td>\n      <td>...</td>\n      <td>...</td>\n      <td>...</td>\n      <td>...</td>\n      <td>...</td>\n    </tr>\n    <tr>\n      <th>320468</th>\n      <td>56045</td>\n      <td>Weston</td>\n      <td>Wyoming</td>\n      <td>1521</td>\n      <td>17</td>\n      <td>Weston, Wyoming, US</td>\n      <td>2022/02/10</td>\n    </tr>\n    <tr>\n      <th>328482</th>\n      <td>56045</td>\n      <td>Weston</td>\n      <td>Wyoming</td>\n      <td>1523</td>\n      <td>17</td>\n      <td>Weston, Wyoming, US</td>\n      <td>2022/02/11</td>\n    </tr>\n    <tr>\n      <th>336496</th>\n      <td>56045</td>\n      <td>Weston</td>\n      <td>Wyoming</td>\n      <td>1524</td>\n      <td>17</td>\n      <td>Weston, Wyoming, US</td>\n      <td>2022/02/12</td>\n    </tr>\n    <tr>\n      <th>344510</th>\n      <td>56045</td>\n      <td>Weston</td>\n      <td>Wyoming</td>\n      <td>1524</td>\n      <td>17</td>\n      <td>Weston, Wyoming, US</td>\n      <td>2022/02/13</td>\n    </tr>\n    <tr>\n      <th>352524</th>\n      <td>56045</td>\n      <td>Weston</td>\n      <td>Wyoming</td>\n      <td>1524</td>\n      <td>17</td>\n      <td>Weston, Wyoming, US</td>\n      <td>2022/02/14</td>\n    </tr>\n  </tbody>\n</table>\n<p>1498322 rows × 7 columns</p>\n</div>"
     },
     "execution_count": 73,
     "metadata": {},
     "output_type": "execute_result"
    }
   ],
   "source": [
    "sorted_filtered_USA_data = filtered_USA_data.sort_values([\"Province_State\",\"Admin2\",'date'], ascending=[True,True,True])\n",
    "sorted_filtered_USA_data"
   ],
   "metadata": {
    "collapsed": false
   }
  },
  {
   "cell_type": "markdown",
   "source": [
    "Rename some columns and reset index:"
   ],
   "metadata": {
    "collapsed": false
   }
  },
  {
   "cell_type": "code",
   "execution_count": 74,
   "outputs": [
    {
     "data": {
      "text/plain": "          FIPS   County    State  Cases  Deaths         Full_Location   \n0         1001  Autauga  Alabama   2168      31  Autauga, Alabama, US  \\\n1         1001  Autauga  Alabama   2182      31  Autauga, Alabama, US   \n2         1001  Autauga  Alabama   2195      31  Autauga, Alabama, US   \n3         1001  Autauga  Alabama   2210      31  Autauga, Alabama, US   \n4         1001  Autauga  Alabama   2229      31  Autauga, Alabama, US   \n...        ...      ...      ...    ...     ...                   ...   \n1498317  56045   Weston  Wyoming   1521      17   Weston, Wyoming, US   \n1498318  56045   Weston  Wyoming   1523      17   Weston, Wyoming, US   \n1498319  56045   Weston  Wyoming   1524      17   Weston, Wyoming, US   \n1498320  56045   Weston  Wyoming   1524      17   Weston, Wyoming, US   \n1498321  56045   Weston  Wyoming   1524      17   Weston, Wyoming, US   \n\n               Date  \n0        2020/11/01  \n1        2020/11/02  \n2        2020/11/03  \n3        2020/11/04  \n4        2020/11/05  \n...             ...  \n1498317  2022/02/10  \n1498318  2022/02/11  \n1498319  2022/02/12  \n1498320  2022/02/13  \n1498321  2022/02/14  \n\n[1498322 rows x 7 columns]",
      "text/html": "<div>\n<style scoped>\n    .dataframe tbody tr th:only-of-type {\n        vertical-align: middle;\n    }\n\n    .dataframe tbody tr th {\n        vertical-align: top;\n    }\n\n    .dataframe thead th {\n        text-align: right;\n    }\n</style>\n<table border=\"1\" class=\"dataframe\">\n  <thead>\n    <tr style=\"text-align: right;\">\n      <th></th>\n      <th>FIPS</th>\n      <th>County</th>\n      <th>State</th>\n      <th>Cases</th>\n      <th>Deaths</th>\n      <th>Full_Location</th>\n      <th>Date</th>\n    </tr>\n  </thead>\n  <tbody>\n    <tr>\n      <th>0</th>\n      <td>1001</td>\n      <td>Autauga</td>\n      <td>Alabama</td>\n      <td>2168</td>\n      <td>31</td>\n      <td>Autauga, Alabama, US</td>\n      <td>2020/11/01</td>\n    </tr>\n    <tr>\n      <th>1</th>\n      <td>1001</td>\n      <td>Autauga</td>\n      <td>Alabama</td>\n      <td>2182</td>\n      <td>31</td>\n      <td>Autauga, Alabama, US</td>\n      <td>2020/11/02</td>\n    </tr>\n    <tr>\n      <th>2</th>\n      <td>1001</td>\n      <td>Autauga</td>\n      <td>Alabama</td>\n      <td>2195</td>\n      <td>31</td>\n      <td>Autauga, Alabama, US</td>\n      <td>2020/11/03</td>\n    </tr>\n    <tr>\n      <th>3</th>\n      <td>1001</td>\n      <td>Autauga</td>\n      <td>Alabama</td>\n      <td>2210</td>\n      <td>31</td>\n      <td>Autauga, Alabama, US</td>\n      <td>2020/11/04</td>\n    </tr>\n    <tr>\n      <th>4</th>\n      <td>1001</td>\n      <td>Autauga</td>\n      <td>Alabama</td>\n      <td>2229</td>\n      <td>31</td>\n      <td>Autauga, Alabama, US</td>\n      <td>2020/11/05</td>\n    </tr>\n    <tr>\n      <th>...</th>\n      <td>...</td>\n      <td>...</td>\n      <td>...</td>\n      <td>...</td>\n      <td>...</td>\n      <td>...</td>\n      <td>...</td>\n    </tr>\n    <tr>\n      <th>1498317</th>\n      <td>56045</td>\n      <td>Weston</td>\n      <td>Wyoming</td>\n      <td>1521</td>\n      <td>17</td>\n      <td>Weston, Wyoming, US</td>\n      <td>2022/02/10</td>\n    </tr>\n    <tr>\n      <th>1498318</th>\n      <td>56045</td>\n      <td>Weston</td>\n      <td>Wyoming</td>\n      <td>1523</td>\n      <td>17</td>\n      <td>Weston, Wyoming, US</td>\n      <td>2022/02/11</td>\n    </tr>\n    <tr>\n      <th>1498319</th>\n      <td>56045</td>\n      <td>Weston</td>\n      <td>Wyoming</td>\n      <td>1524</td>\n      <td>17</td>\n      <td>Weston, Wyoming, US</td>\n      <td>2022/02/12</td>\n    </tr>\n    <tr>\n      <th>1498320</th>\n      <td>56045</td>\n      <td>Weston</td>\n      <td>Wyoming</td>\n      <td>1524</td>\n      <td>17</td>\n      <td>Weston, Wyoming, US</td>\n      <td>2022/02/13</td>\n    </tr>\n    <tr>\n      <th>1498321</th>\n      <td>56045</td>\n      <td>Weston</td>\n      <td>Wyoming</td>\n      <td>1524</td>\n      <td>17</td>\n      <td>Weston, Wyoming, US</td>\n      <td>2022/02/14</td>\n    </tr>\n  </tbody>\n</table>\n<p>1498322 rows × 7 columns</p>\n</div>"
     },
     "execution_count": 74,
     "metadata": {},
     "output_type": "execute_result"
    }
   ],
   "source": [
    "sorted_filtered_USA_data.rename(columns={\"Admin2\": \"County\", \"Province_State\": \"State\", \"Confirmed\":\"Cases\", \"Combined_Key\":\"Full_Location\", \"date\":\"Date\"}, inplace=True)\n",
    "sorted_filtered_USA_data.reset_index(inplace=True, drop=True)\n",
    "sorted_filtered_USA_data"
   ],
   "metadata": {
    "collapsed": false
   }
  },
  {
   "cell_type": "code",
   "execution_count": 79,
   "outputs": [
    {
     "data": {
      "text/plain": "          FIPS   County    State  Cases  Deaths         Full_Location   \n0         1001  Autauga  Alabama   2168      31  Autauga, Alabama, US  \\\n1         1001  Autauga  Alabama   2182      31  Autauga, Alabama, US   \n2         1001  Autauga  Alabama   2195      31  Autauga, Alabama, US   \n3         1001  Autauga  Alabama   2210      31  Autauga, Alabama, US   \n4         1001  Autauga  Alabama   2229      31  Autauga, Alabama, US   \n...        ...      ...      ...    ...     ...                   ...   \n1498317  56045   Weston  Wyoming   1521      17   Weston, Wyoming, US   \n1498318  56045   Weston  Wyoming   1523      17   Weston, Wyoming, US   \n1498319  56045   Weston  Wyoming   1524      17   Weston, Wyoming, US   \n1498320  56045   Weston  Wyoming   1524      17   Weston, Wyoming, US   \n1498321  56045   Weston  Wyoming   1524      17   Weston, Wyoming, US   \n\n               Date  \n0        2020/11/01  \n1        2020/11/02  \n2        2020/11/03  \n3        2020/11/04  \n4        2020/11/05  \n...             ...  \n1498317  2022/02/10  \n1498318  2022/02/11  \n1498319  2022/02/12  \n1498320  2022/02/13  \n1498321  2022/02/14  \n\n[1495202 rows x 7 columns]",
      "text/html": "<div>\n<style scoped>\n    .dataframe tbody tr th:only-of-type {\n        vertical-align: middle;\n    }\n\n    .dataframe tbody tr th {\n        vertical-align: top;\n    }\n\n    .dataframe thead th {\n        text-align: right;\n    }\n</style>\n<table border=\"1\" class=\"dataframe\">\n  <thead>\n    <tr style=\"text-align: right;\">\n      <th></th>\n      <th>FIPS</th>\n      <th>County</th>\n      <th>State</th>\n      <th>Cases</th>\n      <th>Deaths</th>\n      <th>Full_Location</th>\n      <th>Date</th>\n    </tr>\n  </thead>\n  <tbody>\n    <tr>\n      <th>0</th>\n      <td>1001</td>\n      <td>Autauga</td>\n      <td>Alabama</td>\n      <td>2168</td>\n      <td>31</td>\n      <td>Autauga, Alabama, US</td>\n      <td>2020/11/01</td>\n    </tr>\n    <tr>\n      <th>1</th>\n      <td>1001</td>\n      <td>Autauga</td>\n      <td>Alabama</td>\n      <td>2182</td>\n      <td>31</td>\n      <td>Autauga, Alabama, US</td>\n      <td>2020/11/02</td>\n    </tr>\n    <tr>\n      <th>2</th>\n      <td>1001</td>\n      <td>Autauga</td>\n      <td>Alabama</td>\n      <td>2195</td>\n      <td>31</td>\n      <td>Autauga, Alabama, US</td>\n      <td>2020/11/03</td>\n    </tr>\n    <tr>\n      <th>3</th>\n      <td>1001</td>\n      <td>Autauga</td>\n      <td>Alabama</td>\n      <td>2210</td>\n      <td>31</td>\n      <td>Autauga, Alabama, US</td>\n      <td>2020/11/04</td>\n    </tr>\n    <tr>\n      <th>4</th>\n      <td>1001</td>\n      <td>Autauga</td>\n      <td>Alabama</td>\n      <td>2229</td>\n      <td>31</td>\n      <td>Autauga, Alabama, US</td>\n      <td>2020/11/05</td>\n    </tr>\n    <tr>\n      <th>...</th>\n      <td>...</td>\n      <td>...</td>\n      <td>...</td>\n      <td>...</td>\n      <td>...</td>\n      <td>...</td>\n      <td>...</td>\n    </tr>\n    <tr>\n      <th>1498317</th>\n      <td>56045</td>\n      <td>Weston</td>\n      <td>Wyoming</td>\n      <td>1521</td>\n      <td>17</td>\n      <td>Weston, Wyoming, US</td>\n      <td>2022/02/10</td>\n    </tr>\n    <tr>\n      <th>1498318</th>\n      <td>56045</td>\n      <td>Weston</td>\n      <td>Wyoming</td>\n      <td>1523</td>\n      <td>17</td>\n      <td>Weston, Wyoming, US</td>\n      <td>2022/02/11</td>\n    </tr>\n    <tr>\n      <th>1498319</th>\n      <td>56045</td>\n      <td>Weston</td>\n      <td>Wyoming</td>\n      <td>1524</td>\n      <td>17</td>\n      <td>Weston, Wyoming, US</td>\n      <td>2022/02/12</td>\n    </tr>\n    <tr>\n      <th>1498320</th>\n      <td>56045</td>\n      <td>Weston</td>\n      <td>Wyoming</td>\n      <td>1524</td>\n      <td>17</td>\n      <td>Weston, Wyoming, US</td>\n      <td>2022/02/13</td>\n    </tr>\n    <tr>\n      <th>1498321</th>\n      <td>56045</td>\n      <td>Weston</td>\n      <td>Wyoming</td>\n      <td>1524</td>\n      <td>17</td>\n      <td>Weston, Wyoming, US</td>\n      <td>2022/02/14</td>\n    </tr>\n  </tbody>\n</table>\n<p>1495202 rows × 7 columns</p>\n</div>"
     },
     "execution_count": 79,
     "metadata": {},
     "output_type": "execute_result"
    }
   ],
   "source": [
    "# drop duplicated rows:\n",
    "sorted_filtered_USA_data.drop_duplicates(inplace=True)\n",
    "sorted_filtered_USA_data"
   ],
   "metadata": {
    "collapsed": false
   }
  },
  {
   "cell_type": "markdown",
   "source": [
    "Save the resulting table as a csv file:"
   ],
   "metadata": {
    "collapsed": false
   }
  },
  {
   "cell_type": "code",
   "execution_count": 80,
   "outputs": [],
   "source": [
    "save_path = r'C:\\Users\\marko\\OneDrive\\Documents\\ADA master\\Time Series Data Analysis\\COVID_project\\raw_data'\n",
    "sorted_filtered_USA_data.to_csv(os.path.join(save_path, 'clean_USA_data.csv'), index=False)"
   ],
   "metadata": {
    "collapsed": false
   }
  },
  {
   "cell_type": "markdown",
   "source": [
    "#### 4. Split the data frame in 51 smaller data frames, one for each state\n",
    "- Only the data for the second COVID peak in the given state should be kept in the analysis.\n",
    "- These dates are provided in **COVID19_US_counties_second_peak_dates.xlsx**"
   ],
   "metadata": {
    "collapsed": false
   }
  },
  {
   "cell_type": "code",
   "execution_count": 96,
   "outputs": [
    {
     "data": {
      "text/plain": "   start_date   end_date                 state\n0  2020-10-04 2021-06-15               Alabama\n1  2020-09-11 2021-06-28                Alaska\n2  2020-10-13 2021-06-20               Arizona\n3  2020-09-10 2021-06-10              Arkansas\n4  2020-10-30 2021-06-10            California\n5  2020-09-12 2021-06-28              Colorado\n6  2020-09-10 2021-06-26           Connecticut\n7  2020-09-10 2021-06-22              Delaware\n8  2020-10-01 2021-06-30  District of Columbia\n9  2020-10-24 2021-06-10               Florida\n10 2020-10-18 2021-06-27               Georgia\n11 2020-07-19 2021-06-01                  Guam\n12 2020-06-24 2021-06-01                Hawaii\n13 2020-09-10 2021-06-24                Idaho \n14 2020-09-18 2021-06-26              Illinois\n15 2020-09-22 2021-06-13               Indiana\n16 2020-09-11 2021-06-21                  Iowa\n17 2021-08-29 2021-06-06                Kansas\n18 2020-09-10 2021-06-25              Kentucky\n19 2020-10-27 2021-06-10             Louisiana\n20 2020-10-15 2021-07-05                 Maine\n21 2020-09-26 2021-06-27              Maryland\n22 2020-09-10 2021-06-27         Massachusetts\n23 2020-09-24 2021-07-03              Michigan\n24 2020-09-17 2021-07-03             Minnesota\n25 2020-09-10 2021-06-10           Mississippi\n26 2020-09-10 2021-06-04              Missouri\n27 2020-09-14 2021-06-30               Montana\n28 2020-09-04 2021-06-15              Nebraska\n29 2020-10-20 2021-06-03                Nevada\n30 2020-09-30 2021-06-25         New Hampshire\n31 2020-09-30 2021-07-02            New Jersey\n32 2020-09-13 2021-06-30            New Mexico\n33 2020-09-15 2021-06-30              New York\n34 2020-10-10 2021-06-27        North Carolina\n35 2020-09-10 2021-07-04          North Dakota\n36 2020-09-28 2021-07-04                  Ohio\n37 2020-09-10 2021-06-06              Oklahoma\n38 2020-10-18 2021-07-04                Oregon\n39 2020-09-27 2021-07-01          Pennsylvania\n40 2020-09-10 2021-06-07           Puerto Rico\n41 2020-09-28 2021-06-19          Rhode Island\n42 2020-11-09 2021-06-19        South Carolina\n43 2020-08-11 2021-06-30          South Dakota\n44 2020-09-10 2021-06-27             Tennessee\n45 2020-10-07 2021-06-02                 Texas\n46 2020-09-12 2021-06-18                  Utah\n47 2020-11-04 2021-06-30               Vermont\n48 2020-10-22 2021-06-28              Virginia\n49 2020-10-18 2021-07-03            Washington\n50 2020-10-01 2021-07-04         West Virginia\n51 2020-09-03 2021-07-02             Wisconsin\n52 2020-09-05 2021-05-06               Wyoming",
      "text/html": "<div>\n<style scoped>\n    .dataframe tbody tr th:only-of-type {\n        vertical-align: middle;\n    }\n\n    .dataframe tbody tr th {\n        vertical-align: top;\n    }\n\n    .dataframe thead th {\n        text-align: right;\n    }\n</style>\n<table border=\"1\" class=\"dataframe\">\n  <thead>\n    <tr style=\"text-align: right;\">\n      <th></th>\n      <th>start_date</th>\n      <th>end_date</th>\n      <th>state</th>\n    </tr>\n  </thead>\n  <tbody>\n    <tr>\n      <th>0</th>\n      <td>2020-10-04</td>\n      <td>2021-06-15</td>\n      <td>Alabama</td>\n    </tr>\n    <tr>\n      <th>1</th>\n      <td>2020-09-11</td>\n      <td>2021-06-28</td>\n      <td>Alaska</td>\n    </tr>\n    <tr>\n      <th>2</th>\n      <td>2020-10-13</td>\n      <td>2021-06-20</td>\n      <td>Arizona</td>\n    </tr>\n    <tr>\n      <th>3</th>\n      <td>2020-09-10</td>\n      <td>2021-06-10</td>\n      <td>Arkansas</td>\n    </tr>\n    <tr>\n      <th>4</th>\n      <td>2020-10-30</td>\n      <td>2021-06-10</td>\n      <td>California</td>\n    </tr>\n    <tr>\n      <th>5</th>\n      <td>2020-09-12</td>\n      <td>2021-06-28</td>\n      <td>Colorado</td>\n    </tr>\n    <tr>\n      <th>6</th>\n      <td>2020-09-10</td>\n      <td>2021-06-26</td>\n      <td>Connecticut</td>\n    </tr>\n    <tr>\n      <th>7</th>\n      <td>2020-09-10</td>\n      <td>2021-06-22</td>\n      <td>Delaware</td>\n    </tr>\n    <tr>\n      <th>8</th>\n      <td>2020-10-01</td>\n      <td>2021-06-30</td>\n      <td>District of Columbia</td>\n    </tr>\n    <tr>\n      <th>9</th>\n      <td>2020-10-24</td>\n      <td>2021-06-10</td>\n      <td>Florida</td>\n    </tr>\n    <tr>\n      <th>10</th>\n      <td>2020-10-18</td>\n      <td>2021-06-27</td>\n      <td>Georgia</td>\n    </tr>\n    <tr>\n      <th>11</th>\n      <td>2020-07-19</td>\n      <td>2021-06-01</td>\n      <td>Guam</td>\n    </tr>\n    <tr>\n      <th>12</th>\n      <td>2020-06-24</td>\n      <td>2021-06-01</td>\n      <td>Hawaii</td>\n    </tr>\n    <tr>\n      <th>13</th>\n      <td>2020-09-10</td>\n      <td>2021-06-24</td>\n      <td>Idaho</td>\n    </tr>\n    <tr>\n      <th>14</th>\n      <td>2020-09-18</td>\n      <td>2021-06-26</td>\n      <td>Illinois</td>\n    </tr>\n    <tr>\n      <th>15</th>\n      <td>2020-09-22</td>\n      <td>2021-06-13</td>\n      <td>Indiana</td>\n    </tr>\n    <tr>\n      <th>16</th>\n      <td>2020-09-11</td>\n      <td>2021-06-21</td>\n      <td>Iowa</td>\n    </tr>\n    <tr>\n      <th>17</th>\n      <td>2021-08-29</td>\n      <td>2021-06-06</td>\n      <td>Kansas</td>\n    </tr>\n    <tr>\n      <th>18</th>\n      <td>2020-09-10</td>\n      <td>2021-06-25</td>\n      <td>Kentucky</td>\n    </tr>\n    <tr>\n      <th>19</th>\n      <td>2020-10-27</td>\n      <td>2021-06-10</td>\n      <td>Louisiana</td>\n    </tr>\n    <tr>\n      <th>20</th>\n      <td>2020-10-15</td>\n      <td>2021-07-05</td>\n      <td>Maine</td>\n    </tr>\n    <tr>\n      <th>21</th>\n      <td>2020-09-26</td>\n      <td>2021-06-27</td>\n      <td>Maryland</td>\n    </tr>\n    <tr>\n      <th>22</th>\n      <td>2020-09-10</td>\n      <td>2021-06-27</td>\n      <td>Massachusetts</td>\n    </tr>\n    <tr>\n      <th>23</th>\n      <td>2020-09-24</td>\n      <td>2021-07-03</td>\n      <td>Michigan</td>\n    </tr>\n    <tr>\n      <th>24</th>\n      <td>2020-09-17</td>\n      <td>2021-07-03</td>\n      <td>Minnesota</td>\n    </tr>\n    <tr>\n      <th>25</th>\n      <td>2020-09-10</td>\n      <td>2021-06-10</td>\n      <td>Mississippi</td>\n    </tr>\n    <tr>\n      <th>26</th>\n      <td>2020-09-10</td>\n      <td>2021-06-04</td>\n      <td>Missouri</td>\n    </tr>\n    <tr>\n      <th>27</th>\n      <td>2020-09-14</td>\n      <td>2021-06-30</td>\n      <td>Montana</td>\n    </tr>\n    <tr>\n      <th>28</th>\n      <td>2020-09-04</td>\n      <td>2021-06-15</td>\n      <td>Nebraska</td>\n    </tr>\n    <tr>\n      <th>29</th>\n      <td>2020-10-20</td>\n      <td>2021-06-03</td>\n      <td>Nevada</td>\n    </tr>\n    <tr>\n      <th>30</th>\n      <td>2020-09-30</td>\n      <td>2021-06-25</td>\n      <td>New Hampshire</td>\n    </tr>\n    <tr>\n      <th>31</th>\n      <td>2020-09-30</td>\n      <td>2021-07-02</td>\n      <td>New Jersey</td>\n    </tr>\n    <tr>\n      <th>32</th>\n      <td>2020-09-13</td>\n      <td>2021-06-30</td>\n      <td>New Mexico</td>\n    </tr>\n    <tr>\n      <th>33</th>\n      <td>2020-09-15</td>\n      <td>2021-06-30</td>\n      <td>New York</td>\n    </tr>\n    <tr>\n      <th>34</th>\n      <td>2020-10-10</td>\n      <td>2021-06-27</td>\n      <td>North Carolina</td>\n    </tr>\n    <tr>\n      <th>35</th>\n      <td>2020-09-10</td>\n      <td>2021-07-04</td>\n      <td>North Dakota</td>\n    </tr>\n    <tr>\n      <th>36</th>\n      <td>2020-09-28</td>\n      <td>2021-07-04</td>\n      <td>Ohio</td>\n    </tr>\n    <tr>\n      <th>37</th>\n      <td>2020-09-10</td>\n      <td>2021-06-06</td>\n      <td>Oklahoma</td>\n    </tr>\n    <tr>\n      <th>38</th>\n      <td>2020-10-18</td>\n      <td>2021-07-04</td>\n      <td>Oregon</td>\n    </tr>\n    <tr>\n      <th>39</th>\n      <td>2020-09-27</td>\n      <td>2021-07-01</td>\n      <td>Pennsylvania</td>\n    </tr>\n    <tr>\n      <th>40</th>\n      <td>2020-09-10</td>\n      <td>2021-06-07</td>\n      <td>Puerto Rico</td>\n    </tr>\n    <tr>\n      <th>41</th>\n      <td>2020-09-28</td>\n      <td>2021-06-19</td>\n      <td>Rhode Island</td>\n    </tr>\n    <tr>\n      <th>42</th>\n      <td>2020-11-09</td>\n      <td>2021-06-19</td>\n      <td>South Carolina</td>\n    </tr>\n    <tr>\n      <th>43</th>\n      <td>2020-08-11</td>\n      <td>2021-06-30</td>\n      <td>South Dakota</td>\n    </tr>\n    <tr>\n      <th>44</th>\n      <td>2020-09-10</td>\n      <td>2021-06-27</td>\n      <td>Tennessee</td>\n    </tr>\n    <tr>\n      <th>45</th>\n      <td>2020-10-07</td>\n      <td>2021-06-02</td>\n      <td>Texas</td>\n    </tr>\n    <tr>\n      <th>46</th>\n      <td>2020-09-12</td>\n      <td>2021-06-18</td>\n      <td>Utah</td>\n    </tr>\n    <tr>\n      <th>47</th>\n      <td>2020-11-04</td>\n      <td>2021-06-30</td>\n      <td>Vermont</td>\n    </tr>\n    <tr>\n      <th>48</th>\n      <td>2020-10-22</td>\n      <td>2021-06-28</td>\n      <td>Virginia</td>\n    </tr>\n    <tr>\n      <th>49</th>\n      <td>2020-10-18</td>\n      <td>2021-07-03</td>\n      <td>Washington</td>\n    </tr>\n    <tr>\n      <th>50</th>\n      <td>2020-10-01</td>\n      <td>2021-07-04</td>\n      <td>West Virginia</td>\n    </tr>\n    <tr>\n      <th>51</th>\n      <td>2020-09-03</td>\n      <td>2021-07-02</td>\n      <td>Wisconsin</td>\n    </tr>\n    <tr>\n      <th>52</th>\n      <td>2020-09-05</td>\n      <td>2021-05-06</td>\n      <td>Wyoming</td>\n    </tr>\n  </tbody>\n</table>\n</div>"
     },
     "execution_count": 96,
     "metadata": {},
     "output_type": "execute_result"
    }
   ],
   "source": [
    "# load the dates:\n",
    "\n",
    "second_peak_dates = pd.read_excel(r\"C:\\Users\\marko\\OneDrive\\Documents\\ADA master\\Time Series Data Analysis\\COVID_project\\data\\COVID19_US_counties_second_peak_dates.xlsx\")\n",
    "second_peak_dates"
   ],
   "metadata": {
    "collapsed": false
   }
  },
  {
   "cell_type": "code",
   "execution_count": 98,
   "outputs": [
    {
     "data": {
      "text/plain": "start_date    datetime64[ns]\nend_date      datetime64[ns]\nstate                 object\ndtype: object"
     },
     "execution_count": 98,
     "metadata": {},
     "output_type": "execute_result"
    }
   ],
   "source": [],
   "metadata": {
    "collapsed": false
   }
  },
  {
   "cell_type": "code",
   "execution_count": 86,
   "outputs": [],
   "source": [
    "# Load the data (if not loaded already):\n",
    "sorted_filtered_USA_data = pd.read_csv(r'C:\\Users\\marko\\OneDrive\\Documents\\ADA master\\Time Series Data Analysis\\COVID_project\\raw_data\\clean_USA_data.csv')"
   ],
   "metadata": {
    "collapsed": false
   }
  },
  {
   "cell_type": "code",
   "execution_count": 87,
   "outputs": [
    {
     "data": {
      "text/plain": "array(['Alabama', 'Alaska', 'Arizona', 'Arkansas', 'California',\n       'Colorado', 'Connecticut', 'Delaware', 'District of Columbia',\n       'Florida', 'Georgia', 'Hawaii', 'Idaho', 'Illinois', 'Indiana',\n       'Iowa', 'Kansas', 'Kentucky', 'Louisiana', 'Maine', 'Maryland',\n       'Massachusetts', 'Michigan', 'Minnesota', 'Mississippi',\n       'Missouri', 'Montana', 'Nebraska', 'Nevada', 'New Hampshire',\n       'New Jersey', 'New Mexico', 'New York', 'North Carolina',\n       'North Dakota', 'Ohio', 'Oklahoma', 'Oregon', 'Pennsylvania',\n       'Rhode Island', 'South Carolina', 'South Dakota', 'Tennessee',\n       'Texas', 'Utah', 'Vermont', 'Virginia', 'Washington',\n       'West Virginia', 'Wisconsin', 'Wyoming'], dtype=object)"
     },
     "execution_count": 87,
     "metadata": {},
     "output_type": "execute_result"
    }
   ],
   "source": [
    "states = sorted_filtered_USA_data.State.unique()\n",
    "states"
   ],
   "metadata": {
    "collapsed": false
   }
  },
  {
   "cell_type": "code",
   "execution_count": 90,
   "outputs": [
    {
     "data": {
      "text/plain": "          FIPS   County    State  Cases  Deaths         Full_Location   \n0         1001  Autauga  Alabama   2168      31  Autauga, Alabama, US  \\\n1         1001  Autauga  Alabama   2182      31  Autauga, Alabama, US   \n2         1001  Autauga  Alabama   2195      31  Autauga, Alabama, US   \n3         1001  Autauga  Alabama   2210      31  Autauga, Alabama, US   \n4         1001  Autauga  Alabama   2229      31  Autauga, Alabama, US   \n...        ...      ...      ...    ...     ...                   ...   \n1495197  56045   Weston  Wyoming   1521      17   Weston, Wyoming, US   \n1495198  56045   Weston  Wyoming   1523      17   Weston, Wyoming, US   \n1495199  56045   Weston  Wyoming   1524      17   Weston, Wyoming, US   \n1495200  56045   Weston  Wyoming   1524      17   Weston, Wyoming, US   \n1495201  56045   Weston  Wyoming   1524      17   Weston, Wyoming, US   \n\n               Date  \n0        2020/11/01  \n1        2020/11/02  \n2        2020/11/03  \n3        2020/11/04  \n4        2020/11/05  \n...             ...  \n1495197  2022/02/10  \n1495198  2022/02/11  \n1495199  2022/02/12  \n1495200  2022/02/13  \n1495201  2022/02/14  \n\n[1495202 rows x 7 columns]",
      "text/html": "<div>\n<style scoped>\n    .dataframe tbody tr th:only-of-type {\n        vertical-align: middle;\n    }\n\n    .dataframe tbody tr th {\n        vertical-align: top;\n    }\n\n    .dataframe thead th {\n        text-align: right;\n    }\n</style>\n<table border=\"1\" class=\"dataframe\">\n  <thead>\n    <tr style=\"text-align: right;\">\n      <th></th>\n      <th>FIPS</th>\n      <th>County</th>\n      <th>State</th>\n      <th>Cases</th>\n      <th>Deaths</th>\n      <th>Full_Location</th>\n      <th>Date</th>\n    </tr>\n  </thead>\n  <tbody>\n    <tr>\n      <th>0</th>\n      <td>1001</td>\n      <td>Autauga</td>\n      <td>Alabama</td>\n      <td>2168</td>\n      <td>31</td>\n      <td>Autauga, Alabama, US</td>\n      <td>2020/11/01</td>\n    </tr>\n    <tr>\n      <th>1</th>\n      <td>1001</td>\n      <td>Autauga</td>\n      <td>Alabama</td>\n      <td>2182</td>\n      <td>31</td>\n      <td>Autauga, Alabama, US</td>\n      <td>2020/11/02</td>\n    </tr>\n    <tr>\n      <th>2</th>\n      <td>1001</td>\n      <td>Autauga</td>\n      <td>Alabama</td>\n      <td>2195</td>\n      <td>31</td>\n      <td>Autauga, Alabama, US</td>\n      <td>2020/11/03</td>\n    </tr>\n    <tr>\n      <th>3</th>\n      <td>1001</td>\n      <td>Autauga</td>\n      <td>Alabama</td>\n      <td>2210</td>\n      <td>31</td>\n      <td>Autauga, Alabama, US</td>\n      <td>2020/11/04</td>\n    </tr>\n    <tr>\n      <th>4</th>\n      <td>1001</td>\n      <td>Autauga</td>\n      <td>Alabama</td>\n      <td>2229</td>\n      <td>31</td>\n      <td>Autauga, Alabama, US</td>\n      <td>2020/11/05</td>\n    </tr>\n    <tr>\n      <th>...</th>\n      <td>...</td>\n      <td>...</td>\n      <td>...</td>\n      <td>...</td>\n      <td>...</td>\n      <td>...</td>\n      <td>...</td>\n    </tr>\n    <tr>\n      <th>1495197</th>\n      <td>56045</td>\n      <td>Weston</td>\n      <td>Wyoming</td>\n      <td>1521</td>\n      <td>17</td>\n      <td>Weston, Wyoming, US</td>\n      <td>2022/02/10</td>\n    </tr>\n    <tr>\n      <th>1495198</th>\n      <td>56045</td>\n      <td>Weston</td>\n      <td>Wyoming</td>\n      <td>1523</td>\n      <td>17</td>\n      <td>Weston, Wyoming, US</td>\n      <td>2022/02/11</td>\n    </tr>\n    <tr>\n      <th>1495199</th>\n      <td>56045</td>\n      <td>Weston</td>\n      <td>Wyoming</td>\n      <td>1524</td>\n      <td>17</td>\n      <td>Weston, Wyoming, US</td>\n      <td>2022/02/12</td>\n    </tr>\n    <tr>\n      <th>1495200</th>\n      <td>56045</td>\n      <td>Weston</td>\n      <td>Wyoming</td>\n      <td>1524</td>\n      <td>17</td>\n      <td>Weston, Wyoming, US</td>\n      <td>2022/02/13</td>\n    </tr>\n    <tr>\n      <th>1495201</th>\n      <td>56045</td>\n      <td>Weston</td>\n      <td>Wyoming</td>\n      <td>1524</td>\n      <td>17</td>\n      <td>Weston, Wyoming, US</td>\n      <td>2022/02/14</td>\n    </tr>\n  </tbody>\n</table>\n<p>1495202 rows × 7 columns</p>\n</div>"
     },
     "execution_count": 90,
     "metadata": {},
     "output_type": "execute_result"
    }
   ],
   "source": [
    "sorted_filtered_USA_data"
   ],
   "metadata": {
    "collapsed": false
   }
  },
  {
   "cell_type": "code",
   "execution_count": 94,
   "outputs": [],
   "source": [
    "data_by_state_path = r'C:\\Users\\marko\\OneDrive\\Documents\\ADA master\\Time Series Data Analysis\\COVID_project\\data\\data_by_state'\n",
    "for state in states:\n",
    "    one_state_df = sorted_filtered_USA_data[sorted_filtered_USA_data.State == state]\n",
    "    one_state_df[\"Date\"] = pd.to_datetime(one_state_df[\"Date\"])\n",
    "    start = second_peak_dates.start_date[second_peak_dates.state == state]\n",
    "    end = second_peak_dates.end_date[second_peak_dates.state == state]\n",
    "    one_state_df = one_state_df[(one_state_df.Date >= start) & (one_state_df.Date <= end)]\n",
    "    filename = \"\".join([state, \".csv\"])\n",
    "    one_state_df.to_csv(os.path.join(data_by_state_path, filename), index=False)"
   ],
   "metadata": {
    "collapsed": false
   }
  },
  {
   "cell_type": "code",
   "execution_count": 119,
   "outputs": [
    {
     "name": "stderr",
     "output_type": "stream",
     "text": [
      "C:\\Users\\marko\\AppData\\Local\\Temp\\ipykernel_21692\\52458390.py:3: SettingWithCopyWarning: \n",
      "A value is trying to be set on a copy of a slice from a DataFrame.\n",
      "Try using .loc[row_indexer,col_indexer] = value instead\n",
      "\n",
      "See the caveats in the documentation: https://pandas.pydata.org/pandas-docs/stable/user_guide/indexing.html#returning-a-view-versus-a-copy\n",
      "  one_state_df[\"Date\"] = pd.to_datetime(one_state_df[\"Date\"])\n"
     ]
    },
    {
     "data": {
      "text/plain": "       FIPS   County    State  Cases  Deaths         Full_Location       Date\n0      1001  Autauga  Alabama   2168      31  Autauga, Alabama, US 2020-11-01\n1      1001  Autauga  Alabama   2182      31  Autauga, Alabama, US 2020-11-02\n2      1001  Autauga  Alabama   2195      31  Autauga, Alabama, US 2020-11-03\n3      1001  Autauga  Alabama   2210      31  Autauga, Alabama, US 2020-11-04\n4      1001  Autauga  Alabama   2229      31  Autauga, Alabama, US 2020-11-05\n...     ...      ...      ...    ...     ...                   ...        ...\n31410  1133  Winston  Alabama   2834      73  Winston, Alabama, US 2021-06-11\n31411  1133  Winston  Alabama   2833      72  Winston, Alabama, US 2021-06-12\n31412  1133  Winston  Alabama   2833      72  Winston, Alabama, US 2021-06-13\n31413  1133  Winston  Alabama   2833      72  Winston, Alabama, US 2021-06-14\n31414  1133  Winston  Alabama   2832      72  Winston, Alabama, US 2021-06-15\n\n[15311 rows x 7 columns]",
      "text/html": "<div>\n<style scoped>\n    .dataframe tbody tr th:only-of-type {\n        vertical-align: middle;\n    }\n\n    .dataframe tbody tr th {\n        vertical-align: top;\n    }\n\n    .dataframe thead th {\n        text-align: right;\n    }\n</style>\n<table border=\"1\" class=\"dataframe\">\n  <thead>\n    <tr style=\"text-align: right;\">\n      <th></th>\n      <th>FIPS</th>\n      <th>County</th>\n      <th>State</th>\n      <th>Cases</th>\n      <th>Deaths</th>\n      <th>Full_Location</th>\n      <th>Date</th>\n    </tr>\n  </thead>\n  <tbody>\n    <tr>\n      <th>0</th>\n      <td>1001</td>\n      <td>Autauga</td>\n      <td>Alabama</td>\n      <td>2168</td>\n      <td>31</td>\n      <td>Autauga, Alabama, US</td>\n      <td>2020-11-01</td>\n    </tr>\n    <tr>\n      <th>1</th>\n      <td>1001</td>\n      <td>Autauga</td>\n      <td>Alabama</td>\n      <td>2182</td>\n      <td>31</td>\n      <td>Autauga, Alabama, US</td>\n      <td>2020-11-02</td>\n    </tr>\n    <tr>\n      <th>2</th>\n      <td>1001</td>\n      <td>Autauga</td>\n      <td>Alabama</td>\n      <td>2195</td>\n      <td>31</td>\n      <td>Autauga, Alabama, US</td>\n      <td>2020-11-03</td>\n    </tr>\n    <tr>\n      <th>3</th>\n      <td>1001</td>\n      <td>Autauga</td>\n      <td>Alabama</td>\n      <td>2210</td>\n      <td>31</td>\n      <td>Autauga, Alabama, US</td>\n      <td>2020-11-04</td>\n    </tr>\n    <tr>\n      <th>4</th>\n      <td>1001</td>\n      <td>Autauga</td>\n      <td>Alabama</td>\n      <td>2229</td>\n      <td>31</td>\n      <td>Autauga, Alabama, US</td>\n      <td>2020-11-05</td>\n    </tr>\n    <tr>\n      <th>...</th>\n      <td>...</td>\n      <td>...</td>\n      <td>...</td>\n      <td>...</td>\n      <td>...</td>\n      <td>...</td>\n      <td>...</td>\n    </tr>\n    <tr>\n      <th>31410</th>\n      <td>1133</td>\n      <td>Winston</td>\n      <td>Alabama</td>\n      <td>2834</td>\n      <td>73</td>\n      <td>Winston, Alabama, US</td>\n      <td>2021-06-11</td>\n    </tr>\n    <tr>\n      <th>31411</th>\n      <td>1133</td>\n      <td>Winston</td>\n      <td>Alabama</td>\n      <td>2833</td>\n      <td>72</td>\n      <td>Winston, Alabama, US</td>\n      <td>2021-06-12</td>\n    </tr>\n    <tr>\n      <th>31412</th>\n      <td>1133</td>\n      <td>Winston</td>\n      <td>Alabama</td>\n      <td>2833</td>\n      <td>72</td>\n      <td>Winston, Alabama, US</td>\n      <td>2021-06-13</td>\n    </tr>\n    <tr>\n      <th>31413</th>\n      <td>1133</td>\n      <td>Winston</td>\n      <td>Alabama</td>\n      <td>2833</td>\n      <td>72</td>\n      <td>Winston, Alabama, US</td>\n      <td>2021-06-14</td>\n    </tr>\n    <tr>\n      <th>31414</th>\n      <td>1133</td>\n      <td>Winston</td>\n      <td>Alabama</td>\n      <td>2832</td>\n      <td>72</td>\n      <td>Winston, Alabama, US</td>\n      <td>2021-06-15</td>\n    </tr>\n  </tbody>\n</table>\n<p>15311 rows × 7 columns</p>\n</div>"
     },
     "execution_count": 119,
     "metadata": {},
     "output_type": "execute_result"
    }
   ],
   "source": [
    "state = \"Alabama\"\n",
    "one_state_df = sorted_filtered_USA_data[sorted_filtered_USA_data.State == state]\n",
    "one_state_df[\"Date\"] = pd.to_datetime(one_state_df[\"Date\"])\n",
    "start = second_peak_dates.start_date[second_peak_dates.state == state]\n",
    "end = second_peak_dates.end_date[second_peak_dates.state == state]\n",
    "one_state_df = one_state_df[(one_state_df.Date >= start[0]) & (one_state_df.Date <= end[0])]\n",
    "one_state_df"
   ],
   "metadata": {
    "collapsed": false
   }
  },
  {
   "cell_type": "code",
   "execution_count": 121,
   "outputs": [
    {
     "data": {
      "text/plain": "'Start: 2020-10-04 00:00:00, End: 2021-06-15 00:00:00'"
     },
     "execution_count": 121,
     "metadata": {},
     "output_type": "execute_result"
    }
   ],
   "source": [
    "f'Start: {start[0]}, End: {end[0]}'"
   ],
   "metadata": {
    "collapsed": false
   }
  },
  {
   "cell_type": "markdown",
   "source": [
    "#### 5. Prepare single county data frames for the duration of the peak\n",
    "- it would be useful to have the info on number of data points for each county.\n",
    "- Since there are more than enough counties for training the model, those with too few data points should be removed\n",
    "- It should next be decided if padding is needed\n",
    "- Remove Alaska and Hawaii data together with other troubling counties\n",
    "- Write a function to check for problematic counties\n"
   ],
   "metadata": {
    "collapsed": false
   }
  },
  {
   "cell_type": "code",
   "execution_count": 131,
   "outputs": [
    {
     "name": "stderr",
     "output_type": "stream",
     "text": [
      "C:\\Users\\marko\\AppData\\Local\\Temp\\ipykernel_21692\\2322991611.py:5: SettingWithCopyWarning: \n",
      "A value is trying to be set on a copy of a slice from a DataFrame.\n",
      "Try using .loc[row_indexer,col_indexer] = value instead\n",
      "\n",
      "See the caveats in the documentation: https://pandas.pydata.org/pandas-docs/stable/user_guide/indexing.html#returning-a-view-versus-a-copy\n",
      "  one_state_df[\"Date\"] = pd.to_datetime(one_state_df[\"Date\"])\n",
      "C:\\Users\\marko\\AppData\\Local\\Temp\\ipykernel_21692\\2322991611.py:14: SettingWithCopyWarning: \n",
      "A value is trying to be set on a copy of a slice from a DataFrame\n",
      "\n",
      "See the caveats in the documentation: https://pandas.pydata.org/pandas-docs/stable/user_guide/indexing.html#returning-a-view-versus-a-copy\n",
      "  one_county_cases.drop(\"FIPS\",axis=1,inplace=True)\n",
      "C:\\Users\\marko\\AppData\\Local\\Temp\\ipykernel_21692\\2322991611.py:19: SettingWithCopyWarning: \n",
      "A value is trying to be set on a copy of a slice from a DataFrame\n",
      "\n",
      "See the caveats in the documentation: https://pandas.pydata.org/pandas-docs/stable/user_guide/indexing.html#returning-a-view-versus-a-copy\n",
      "  one_county_deaths.drop(\"FIPS\",axis=1,inplace=True)\n",
      "C:\\Users\\marko\\AppData\\Local\\Temp\\ipykernel_21692\\2322991611.py:14: SettingWithCopyWarning: \n",
      "A value is trying to be set on a copy of a slice from a DataFrame\n",
      "\n",
      "See the caveats in the documentation: https://pandas.pydata.org/pandas-docs/stable/user_guide/indexing.html#returning-a-view-versus-a-copy\n",
      "  one_county_cases.drop(\"FIPS\",axis=1,inplace=True)\n",
      "C:\\Users\\marko\\AppData\\Local\\Temp\\ipykernel_21692\\2322991611.py:19: SettingWithCopyWarning: \n",
      "A value is trying to be set on a copy of a slice from a DataFrame\n",
      "\n",
      "See the caveats in the documentation: https://pandas.pydata.org/pandas-docs/stable/user_guide/indexing.html#returning-a-view-versus-a-copy\n",
      "  one_county_deaths.drop(\"FIPS\",axis=1,inplace=True)\n",
      "C:\\Users\\marko\\AppData\\Local\\Temp\\ipykernel_21692\\2322991611.py:14: SettingWithCopyWarning: \n",
      "A value is trying to be set on a copy of a slice from a DataFrame\n",
      "\n",
      "See the caveats in the documentation: https://pandas.pydata.org/pandas-docs/stable/user_guide/indexing.html#returning-a-view-versus-a-copy\n",
      "  one_county_cases.drop(\"FIPS\",axis=1,inplace=True)\n",
      "C:\\Users\\marko\\AppData\\Local\\Temp\\ipykernel_21692\\2322991611.py:19: SettingWithCopyWarning: \n",
      "A value is trying to be set on a copy of a slice from a DataFrame\n",
      "\n",
      "See the caveats in the documentation: https://pandas.pydata.org/pandas-docs/stable/user_guide/indexing.html#returning-a-view-versus-a-copy\n",
      "  one_county_deaths.drop(\"FIPS\",axis=1,inplace=True)\n",
      "C:\\Users\\marko\\AppData\\Local\\Temp\\ipykernel_21692\\2322991611.py:14: SettingWithCopyWarning: \n",
      "A value is trying to be set on a copy of a slice from a DataFrame\n",
      "\n",
      "See the caveats in the documentation: https://pandas.pydata.org/pandas-docs/stable/user_guide/indexing.html#returning-a-view-versus-a-copy\n",
      "  one_county_cases.drop(\"FIPS\",axis=1,inplace=True)\n",
      "C:\\Users\\marko\\AppData\\Local\\Temp\\ipykernel_21692\\2322991611.py:19: SettingWithCopyWarning: \n",
      "A value is trying to be set on a copy of a slice from a DataFrame\n",
      "\n",
      "See the caveats in the documentation: https://pandas.pydata.org/pandas-docs/stable/user_guide/indexing.html#returning-a-view-versus-a-copy\n",
      "  one_county_deaths.drop(\"FIPS\",axis=1,inplace=True)\n",
      "C:\\Users\\marko\\AppData\\Local\\Temp\\ipykernel_21692\\2322991611.py:14: SettingWithCopyWarning: \n",
      "A value is trying to be set on a copy of a slice from a DataFrame\n",
      "\n",
      "See the caveats in the documentation: https://pandas.pydata.org/pandas-docs/stable/user_guide/indexing.html#returning-a-view-versus-a-copy\n",
      "  one_county_cases.drop(\"FIPS\",axis=1,inplace=True)\n",
      "C:\\Users\\marko\\AppData\\Local\\Temp\\ipykernel_21692\\2322991611.py:19: SettingWithCopyWarning: \n",
      "A value is trying to be set on a copy of a slice from a DataFrame\n",
      "\n",
      "See the caveats in the documentation: https://pandas.pydata.org/pandas-docs/stable/user_guide/indexing.html#returning-a-view-versus-a-copy\n",
      "  one_county_deaths.drop(\"FIPS\",axis=1,inplace=True)\n",
      "C:\\Users\\marko\\AppData\\Local\\Temp\\ipykernel_21692\\2322991611.py:14: SettingWithCopyWarning: \n",
      "A value is trying to be set on a copy of a slice from a DataFrame\n",
      "\n",
      "See the caveats in the documentation: https://pandas.pydata.org/pandas-docs/stable/user_guide/indexing.html#returning-a-view-versus-a-copy\n",
      "  one_county_cases.drop(\"FIPS\",axis=1,inplace=True)\n",
      "C:\\Users\\marko\\AppData\\Local\\Temp\\ipykernel_21692\\2322991611.py:19: SettingWithCopyWarning: \n",
      "A value is trying to be set on a copy of a slice from a DataFrame\n",
      "\n",
      "See the caveats in the documentation: https://pandas.pydata.org/pandas-docs/stable/user_guide/indexing.html#returning-a-view-versus-a-copy\n",
      "  one_county_deaths.drop(\"FIPS\",axis=1,inplace=True)\n",
      "C:\\Users\\marko\\AppData\\Local\\Temp\\ipykernel_21692\\2322991611.py:14: SettingWithCopyWarning: \n",
      "A value is trying to be set on a copy of a slice from a DataFrame\n",
      "\n",
      "See the caveats in the documentation: https://pandas.pydata.org/pandas-docs/stable/user_guide/indexing.html#returning-a-view-versus-a-copy\n",
      "  one_county_cases.drop(\"FIPS\",axis=1,inplace=True)\n",
      "C:\\Users\\marko\\AppData\\Local\\Temp\\ipykernel_21692\\2322991611.py:19: SettingWithCopyWarning: \n",
      "A value is trying to be set on a copy of a slice from a DataFrame\n",
      "\n",
      "See the caveats in the documentation: https://pandas.pydata.org/pandas-docs/stable/user_guide/indexing.html#returning-a-view-versus-a-copy\n",
      "  one_county_deaths.drop(\"FIPS\",axis=1,inplace=True)\n",
      "C:\\Users\\marko\\AppData\\Local\\Temp\\ipykernel_21692\\2322991611.py:14: SettingWithCopyWarning: \n",
      "A value is trying to be set on a copy of a slice from a DataFrame\n",
      "\n",
      "See the caveats in the documentation: https://pandas.pydata.org/pandas-docs/stable/user_guide/indexing.html#returning-a-view-versus-a-copy\n",
      "  one_county_cases.drop(\"FIPS\",axis=1,inplace=True)\n",
      "C:\\Users\\marko\\AppData\\Local\\Temp\\ipykernel_21692\\2322991611.py:19: SettingWithCopyWarning: \n",
      "A value is trying to be set on a copy of a slice from a DataFrame\n",
      "\n",
      "See the caveats in the documentation: https://pandas.pydata.org/pandas-docs/stable/user_guide/indexing.html#returning-a-view-versus-a-copy\n",
      "  one_county_deaths.drop(\"FIPS\",axis=1,inplace=True)\n",
      "C:\\Users\\marko\\AppData\\Local\\Temp\\ipykernel_21692\\2322991611.py:14: SettingWithCopyWarning: \n",
      "A value is trying to be set on a copy of a slice from a DataFrame\n",
      "\n",
      "See the caveats in the documentation: https://pandas.pydata.org/pandas-docs/stable/user_guide/indexing.html#returning-a-view-versus-a-copy\n",
      "  one_county_cases.drop(\"FIPS\",axis=1,inplace=True)\n",
      "C:\\Users\\marko\\AppData\\Local\\Temp\\ipykernel_21692\\2322991611.py:19: SettingWithCopyWarning: \n",
      "A value is trying to be set on a copy of a slice from a DataFrame\n",
      "\n",
      "See the caveats in the documentation: https://pandas.pydata.org/pandas-docs/stable/user_guide/indexing.html#returning-a-view-versus-a-copy\n",
      "  one_county_deaths.drop(\"FIPS\",axis=1,inplace=True)\n",
      "C:\\Users\\marko\\AppData\\Local\\Temp\\ipykernel_21692\\2322991611.py:14: SettingWithCopyWarning: \n",
      "A value is trying to be set on a copy of a slice from a DataFrame\n",
      "\n",
      "See the caveats in the documentation: https://pandas.pydata.org/pandas-docs/stable/user_guide/indexing.html#returning-a-view-versus-a-copy\n",
      "  one_county_cases.drop(\"FIPS\",axis=1,inplace=True)\n",
      "C:\\Users\\marko\\AppData\\Local\\Temp\\ipykernel_21692\\2322991611.py:19: SettingWithCopyWarning: \n",
      "A value is trying to be set on a copy of a slice from a DataFrame\n",
      "\n",
      "See the caveats in the documentation: https://pandas.pydata.org/pandas-docs/stable/user_guide/indexing.html#returning-a-view-versus-a-copy\n",
      "  one_county_deaths.drop(\"FIPS\",axis=1,inplace=True)\n",
      "C:\\Users\\marko\\AppData\\Local\\Temp\\ipykernel_21692\\2322991611.py:14: SettingWithCopyWarning: \n",
      "A value is trying to be set on a copy of a slice from a DataFrame\n",
      "\n",
      "See the caveats in the documentation: https://pandas.pydata.org/pandas-docs/stable/user_guide/indexing.html#returning-a-view-versus-a-copy\n",
      "  one_county_cases.drop(\"FIPS\",axis=1,inplace=True)\n",
      "C:\\Users\\marko\\AppData\\Local\\Temp\\ipykernel_21692\\2322991611.py:19: SettingWithCopyWarning: \n",
      "A value is trying to be set on a copy of a slice from a DataFrame\n",
      "\n",
      "See the caveats in the documentation: https://pandas.pydata.org/pandas-docs/stable/user_guide/indexing.html#returning-a-view-versus-a-copy\n",
      "  one_county_deaths.drop(\"FIPS\",axis=1,inplace=True)\n",
      "C:\\Users\\marko\\AppData\\Local\\Temp\\ipykernel_21692\\2322991611.py:14: SettingWithCopyWarning: \n",
      "A value is trying to be set on a copy of a slice from a DataFrame\n",
      "\n",
      "See the caveats in the documentation: https://pandas.pydata.org/pandas-docs/stable/user_guide/indexing.html#returning-a-view-versus-a-copy\n",
      "  one_county_cases.drop(\"FIPS\",axis=1,inplace=True)\n",
      "C:\\Users\\marko\\AppData\\Local\\Temp\\ipykernel_21692\\2322991611.py:19: SettingWithCopyWarning: \n",
      "A value is trying to be set on a copy of a slice from a DataFrame\n",
      "\n",
      "See the caveats in the documentation: https://pandas.pydata.org/pandas-docs/stable/user_guide/indexing.html#returning-a-view-versus-a-copy\n",
      "  one_county_deaths.drop(\"FIPS\",axis=1,inplace=True)\n",
      "C:\\Users\\marko\\AppData\\Local\\Temp\\ipykernel_21692\\2322991611.py:14: SettingWithCopyWarning: \n",
      "A value is trying to be set on a copy of a slice from a DataFrame\n",
      "\n",
      "See the caveats in the documentation: https://pandas.pydata.org/pandas-docs/stable/user_guide/indexing.html#returning-a-view-versus-a-copy\n",
      "  one_county_cases.drop(\"FIPS\",axis=1,inplace=True)\n",
      "C:\\Users\\marko\\AppData\\Local\\Temp\\ipykernel_21692\\2322991611.py:19: SettingWithCopyWarning: \n",
      "A value is trying to be set on a copy of a slice from a DataFrame\n",
      "\n",
      "See the caveats in the documentation: https://pandas.pydata.org/pandas-docs/stable/user_guide/indexing.html#returning-a-view-versus-a-copy\n",
      "  one_county_deaths.drop(\"FIPS\",axis=1,inplace=True)\n",
      "C:\\Users\\marko\\AppData\\Local\\Temp\\ipykernel_21692\\2322991611.py:14: SettingWithCopyWarning: \n",
      "A value is trying to be set on a copy of a slice from a DataFrame\n",
      "\n",
      "See the caveats in the documentation: https://pandas.pydata.org/pandas-docs/stable/user_guide/indexing.html#returning-a-view-versus-a-copy\n",
      "  one_county_cases.drop(\"FIPS\",axis=1,inplace=True)\n",
      "C:\\Users\\marko\\AppData\\Local\\Temp\\ipykernel_21692\\2322991611.py:19: SettingWithCopyWarning: \n",
      "A value is trying to be set on a copy of a slice from a DataFrame\n",
      "\n",
      "See the caveats in the documentation: https://pandas.pydata.org/pandas-docs/stable/user_guide/indexing.html#returning-a-view-versus-a-copy\n",
      "  one_county_deaths.drop(\"FIPS\",axis=1,inplace=True)\n",
      "C:\\Users\\marko\\AppData\\Local\\Temp\\ipykernel_21692\\2322991611.py:14: SettingWithCopyWarning: \n",
      "A value is trying to be set on a copy of a slice from a DataFrame\n",
      "\n",
      "See the caveats in the documentation: https://pandas.pydata.org/pandas-docs/stable/user_guide/indexing.html#returning-a-view-versus-a-copy\n",
      "  one_county_cases.drop(\"FIPS\",axis=1,inplace=True)\n",
      "C:\\Users\\marko\\AppData\\Local\\Temp\\ipykernel_21692\\2322991611.py:19: SettingWithCopyWarning: \n",
      "A value is trying to be set on a copy of a slice from a DataFrame\n",
      "\n",
      "See the caveats in the documentation: https://pandas.pydata.org/pandas-docs/stable/user_guide/indexing.html#returning-a-view-versus-a-copy\n",
      "  one_county_deaths.drop(\"FIPS\",axis=1,inplace=True)\n",
      "C:\\Users\\marko\\AppData\\Local\\Temp\\ipykernel_21692\\2322991611.py:14: SettingWithCopyWarning: \n",
      "A value is trying to be set on a copy of a slice from a DataFrame\n",
      "\n",
      "See the caveats in the documentation: https://pandas.pydata.org/pandas-docs/stable/user_guide/indexing.html#returning-a-view-versus-a-copy\n",
      "  one_county_cases.drop(\"FIPS\",axis=1,inplace=True)\n",
      "C:\\Users\\marko\\AppData\\Local\\Temp\\ipykernel_21692\\2322991611.py:19: SettingWithCopyWarning: \n",
      "A value is trying to be set on a copy of a slice from a DataFrame\n",
      "\n",
      "See the caveats in the documentation: https://pandas.pydata.org/pandas-docs/stable/user_guide/indexing.html#returning-a-view-versus-a-copy\n",
      "  one_county_deaths.drop(\"FIPS\",axis=1,inplace=True)\n",
      "C:\\Users\\marko\\AppData\\Local\\Temp\\ipykernel_21692\\2322991611.py:14: SettingWithCopyWarning: \n",
      "A value is trying to be set on a copy of a slice from a DataFrame\n",
      "\n",
      "See the caveats in the documentation: https://pandas.pydata.org/pandas-docs/stable/user_guide/indexing.html#returning-a-view-versus-a-copy\n",
      "  one_county_cases.drop(\"FIPS\",axis=1,inplace=True)\n",
      "C:\\Users\\marko\\AppData\\Local\\Temp\\ipykernel_21692\\2322991611.py:19: SettingWithCopyWarning: \n",
      "A value is trying to be set on a copy of a slice from a DataFrame\n",
      "\n",
      "See the caveats in the documentation: https://pandas.pydata.org/pandas-docs/stable/user_guide/indexing.html#returning-a-view-versus-a-copy\n",
      "  one_county_deaths.drop(\"FIPS\",axis=1,inplace=True)\n",
      "C:\\Users\\marko\\AppData\\Local\\Temp\\ipykernel_21692\\2322991611.py:14: SettingWithCopyWarning: \n",
      "A value is trying to be set on a copy of a slice from a DataFrame\n",
      "\n",
      "See the caveats in the documentation: https://pandas.pydata.org/pandas-docs/stable/user_guide/indexing.html#returning-a-view-versus-a-copy\n",
      "  one_county_cases.drop(\"FIPS\",axis=1,inplace=True)\n",
      "C:\\Users\\marko\\AppData\\Local\\Temp\\ipykernel_21692\\2322991611.py:19: SettingWithCopyWarning: \n",
      "A value is trying to be set on a copy of a slice from a DataFrame\n",
      "\n",
      "See the caveats in the documentation: https://pandas.pydata.org/pandas-docs/stable/user_guide/indexing.html#returning-a-view-versus-a-copy\n",
      "  one_county_deaths.drop(\"FIPS\",axis=1,inplace=True)\n",
      "C:\\Users\\marko\\AppData\\Local\\Temp\\ipykernel_21692\\2322991611.py:14: SettingWithCopyWarning: \n",
      "A value is trying to be set on a copy of a slice from a DataFrame\n",
      "\n",
      "See the caveats in the documentation: https://pandas.pydata.org/pandas-docs/stable/user_guide/indexing.html#returning-a-view-versus-a-copy\n",
      "  one_county_cases.drop(\"FIPS\",axis=1,inplace=True)\n",
      "C:\\Users\\marko\\AppData\\Local\\Temp\\ipykernel_21692\\2322991611.py:19: SettingWithCopyWarning: \n",
      "A value is trying to be set on a copy of a slice from a DataFrame\n",
      "\n",
      "See the caveats in the documentation: https://pandas.pydata.org/pandas-docs/stable/user_guide/indexing.html#returning-a-view-versus-a-copy\n",
      "  one_county_deaths.drop(\"FIPS\",axis=1,inplace=True)\n",
      "C:\\Users\\marko\\AppData\\Local\\Temp\\ipykernel_21692\\2322991611.py:14: SettingWithCopyWarning: \n",
      "A value is trying to be set on a copy of a slice from a DataFrame\n",
      "\n",
      "See the caveats in the documentation: https://pandas.pydata.org/pandas-docs/stable/user_guide/indexing.html#returning-a-view-versus-a-copy\n",
      "  one_county_cases.drop(\"FIPS\",axis=1,inplace=True)\n",
      "C:\\Users\\marko\\AppData\\Local\\Temp\\ipykernel_21692\\2322991611.py:19: SettingWithCopyWarning: \n",
      "A value is trying to be set on a copy of a slice from a DataFrame\n",
      "\n",
      "See the caveats in the documentation: https://pandas.pydata.org/pandas-docs/stable/user_guide/indexing.html#returning-a-view-versus-a-copy\n",
      "  one_county_deaths.drop(\"FIPS\",axis=1,inplace=True)\n",
      "C:\\Users\\marko\\AppData\\Local\\Temp\\ipykernel_21692\\2322991611.py:14: SettingWithCopyWarning: \n",
      "A value is trying to be set on a copy of a slice from a DataFrame\n",
      "\n",
      "See the caveats in the documentation: https://pandas.pydata.org/pandas-docs/stable/user_guide/indexing.html#returning-a-view-versus-a-copy\n",
      "  one_county_cases.drop(\"FIPS\",axis=1,inplace=True)\n",
      "C:\\Users\\marko\\AppData\\Local\\Temp\\ipykernel_21692\\2322991611.py:19: SettingWithCopyWarning: \n",
      "A value is trying to be set on a copy of a slice from a DataFrame\n",
      "\n",
      "See the caveats in the documentation: https://pandas.pydata.org/pandas-docs/stable/user_guide/indexing.html#returning-a-view-versus-a-copy\n",
      "  one_county_deaths.drop(\"FIPS\",axis=1,inplace=True)\n",
      "C:\\Users\\marko\\AppData\\Local\\Temp\\ipykernel_21692\\2322991611.py:14: SettingWithCopyWarning: \n",
      "A value is trying to be set on a copy of a slice from a DataFrame\n",
      "\n",
      "See the caveats in the documentation: https://pandas.pydata.org/pandas-docs/stable/user_guide/indexing.html#returning-a-view-versus-a-copy\n",
      "  one_county_cases.drop(\"FIPS\",axis=1,inplace=True)\n",
      "C:\\Users\\marko\\AppData\\Local\\Temp\\ipykernel_21692\\2322991611.py:19: SettingWithCopyWarning: \n",
      "A value is trying to be set on a copy of a slice from a DataFrame\n",
      "\n",
      "See the caveats in the documentation: https://pandas.pydata.org/pandas-docs/stable/user_guide/indexing.html#returning-a-view-versus-a-copy\n",
      "  one_county_deaths.drop(\"FIPS\",axis=1,inplace=True)\n",
      "C:\\Users\\marko\\AppData\\Local\\Temp\\ipykernel_21692\\2322991611.py:14: SettingWithCopyWarning: \n",
      "A value is trying to be set on a copy of a slice from a DataFrame\n",
      "\n",
      "See the caveats in the documentation: https://pandas.pydata.org/pandas-docs/stable/user_guide/indexing.html#returning-a-view-versus-a-copy\n",
      "  one_county_cases.drop(\"FIPS\",axis=1,inplace=True)\n",
      "C:\\Users\\marko\\AppData\\Local\\Temp\\ipykernel_21692\\2322991611.py:19: SettingWithCopyWarning: \n",
      "A value is trying to be set on a copy of a slice from a DataFrame\n",
      "\n",
      "See the caveats in the documentation: https://pandas.pydata.org/pandas-docs/stable/user_guide/indexing.html#returning-a-view-versus-a-copy\n",
      "  one_county_deaths.drop(\"FIPS\",axis=1,inplace=True)\n",
      "C:\\Users\\marko\\AppData\\Local\\Temp\\ipykernel_21692\\2322991611.py:14: SettingWithCopyWarning: \n",
      "A value is trying to be set on a copy of a slice from a DataFrame\n",
      "\n",
      "See the caveats in the documentation: https://pandas.pydata.org/pandas-docs/stable/user_guide/indexing.html#returning-a-view-versus-a-copy\n",
      "  one_county_cases.drop(\"FIPS\",axis=1,inplace=True)\n",
      "C:\\Users\\marko\\AppData\\Local\\Temp\\ipykernel_21692\\2322991611.py:19: SettingWithCopyWarning: \n",
      "A value is trying to be set on a copy of a slice from a DataFrame\n",
      "\n",
      "See the caveats in the documentation: https://pandas.pydata.org/pandas-docs/stable/user_guide/indexing.html#returning-a-view-versus-a-copy\n",
      "  one_county_deaths.drop(\"FIPS\",axis=1,inplace=True)\n",
      "C:\\Users\\marko\\AppData\\Local\\Temp\\ipykernel_21692\\2322991611.py:14: SettingWithCopyWarning: \n",
      "A value is trying to be set on a copy of a slice from a DataFrame\n",
      "\n",
      "See the caveats in the documentation: https://pandas.pydata.org/pandas-docs/stable/user_guide/indexing.html#returning-a-view-versus-a-copy\n",
      "  one_county_cases.drop(\"FIPS\",axis=1,inplace=True)\n",
      "C:\\Users\\marko\\AppData\\Local\\Temp\\ipykernel_21692\\2322991611.py:19: SettingWithCopyWarning: \n",
      "A value is trying to be set on a copy of a slice from a DataFrame\n",
      "\n",
      "See the caveats in the documentation: https://pandas.pydata.org/pandas-docs/stable/user_guide/indexing.html#returning-a-view-versus-a-copy\n",
      "  one_county_deaths.drop(\"FIPS\",axis=1,inplace=True)\n",
      "C:\\Users\\marko\\AppData\\Local\\Temp\\ipykernel_21692\\2322991611.py:14: SettingWithCopyWarning: \n",
      "A value is trying to be set on a copy of a slice from a DataFrame\n",
      "\n",
      "See the caveats in the documentation: https://pandas.pydata.org/pandas-docs/stable/user_guide/indexing.html#returning-a-view-versus-a-copy\n",
      "  one_county_cases.drop(\"FIPS\",axis=1,inplace=True)\n",
      "C:\\Users\\marko\\AppData\\Local\\Temp\\ipykernel_21692\\2322991611.py:19: SettingWithCopyWarning: \n",
      "A value is trying to be set on a copy of a slice from a DataFrame\n",
      "\n",
      "See the caveats in the documentation: https://pandas.pydata.org/pandas-docs/stable/user_guide/indexing.html#returning-a-view-versus-a-copy\n",
      "  one_county_deaths.drop(\"FIPS\",axis=1,inplace=True)\n",
      "C:\\Users\\marko\\AppData\\Local\\Temp\\ipykernel_21692\\2322991611.py:14: SettingWithCopyWarning: \n",
      "A value is trying to be set on a copy of a slice from a DataFrame\n",
      "\n",
      "See the caveats in the documentation: https://pandas.pydata.org/pandas-docs/stable/user_guide/indexing.html#returning-a-view-versus-a-copy\n",
      "  one_county_cases.drop(\"FIPS\",axis=1,inplace=True)\n",
      "C:\\Users\\marko\\AppData\\Local\\Temp\\ipykernel_21692\\2322991611.py:19: SettingWithCopyWarning: \n",
      "A value is trying to be set on a copy of a slice from a DataFrame\n",
      "\n",
      "See the caveats in the documentation: https://pandas.pydata.org/pandas-docs/stable/user_guide/indexing.html#returning-a-view-versus-a-copy\n",
      "  one_county_deaths.drop(\"FIPS\",axis=1,inplace=True)\n",
      "C:\\Users\\marko\\AppData\\Local\\Temp\\ipykernel_21692\\2322991611.py:14: SettingWithCopyWarning: \n",
      "A value is trying to be set on a copy of a slice from a DataFrame\n",
      "\n",
      "See the caveats in the documentation: https://pandas.pydata.org/pandas-docs/stable/user_guide/indexing.html#returning-a-view-versus-a-copy\n",
      "  one_county_cases.drop(\"FIPS\",axis=1,inplace=True)\n",
      "C:\\Users\\marko\\AppData\\Local\\Temp\\ipykernel_21692\\2322991611.py:19: SettingWithCopyWarning: \n",
      "A value is trying to be set on a copy of a slice from a DataFrame\n",
      "\n",
      "See the caveats in the documentation: https://pandas.pydata.org/pandas-docs/stable/user_guide/indexing.html#returning-a-view-versus-a-copy\n",
      "  one_county_deaths.drop(\"FIPS\",axis=1,inplace=True)\n",
      "C:\\Users\\marko\\AppData\\Local\\Temp\\ipykernel_21692\\2322991611.py:14: SettingWithCopyWarning: \n",
      "A value is trying to be set on a copy of a slice from a DataFrame\n",
      "\n",
      "See the caveats in the documentation: https://pandas.pydata.org/pandas-docs/stable/user_guide/indexing.html#returning-a-view-versus-a-copy\n",
      "  one_county_cases.drop(\"FIPS\",axis=1,inplace=True)\n",
      "C:\\Users\\marko\\AppData\\Local\\Temp\\ipykernel_21692\\2322991611.py:19: SettingWithCopyWarning: \n",
      "A value is trying to be set on a copy of a slice from a DataFrame\n",
      "\n",
      "See the caveats in the documentation: https://pandas.pydata.org/pandas-docs/stable/user_guide/indexing.html#returning-a-view-versus-a-copy\n",
      "  one_county_deaths.drop(\"FIPS\",axis=1,inplace=True)\n",
      "C:\\Users\\marko\\AppData\\Local\\Temp\\ipykernel_21692\\2322991611.py:14: SettingWithCopyWarning: \n",
      "A value is trying to be set on a copy of a slice from a DataFrame\n",
      "\n",
      "See the caveats in the documentation: https://pandas.pydata.org/pandas-docs/stable/user_guide/indexing.html#returning-a-view-versus-a-copy\n",
      "  one_county_cases.drop(\"FIPS\",axis=1,inplace=True)\n",
      "C:\\Users\\marko\\AppData\\Local\\Temp\\ipykernel_21692\\2322991611.py:19: SettingWithCopyWarning: \n",
      "A value is trying to be set on a copy of a slice from a DataFrame\n",
      "\n",
      "See the caveats in the documentation: https://pandas.pydata.org/pandas-docs/stable/user_guide/indexing.html#returning-a-view-versus-a-copy\n",
      "  one_county_deaths.drop(\"FIPS\",axis=1,inplace=True)\n",
      "C:\\Users\\marko\\AppData\\Local\\Temp\\ipykernel_21692\\2322991611.py:14: SettingWithCopyWarning: \n",
      "A value is trying to be set on a copy of a slice from a DataFrame\n",
      "\n",
      "See the caveats in the documentation: https://pandas.pydata.org/pandas-docs/stable/user_guide/indexing.html#returning-a-view-versus-a-copy\n",
      "  one_county_cases.drop(\"FIPS\",axis=1,inplace=True)\n",
      "C:\\Users\\marko\\AppData\\Local\\Temp\\ipykernel_21692\\2322991611.py:19: SettingWithCopyWarning: \n",
      "A value is trying to be set on a copy of a slice from a DataFrame\n",
      "\n",
      "See the caveats in the documentation: https://pandas.pydata.org/pandas-docs/stable/user_guide/indexing.html#returning-a-view-versus-a-copy\n",
      "  one_county_deaths.drop(\"FIPS\",axis=1,inplace=True)\n",
      "C:\\Users\\marko\\AppData\\Local\\Temp\\ipykernel_21692\\2322991611.py:14: SettingWithCopyWarning: \n",
      "A value is trying to be set on a copy of a slice from a DataFrame\n",
      "\n",
      "See the caveats in the documentation: https://pandas.pydata.org/pandas-docs/stable/user_guide/indexing.html#returning-a-view-versus-a-copy\n",
      "  one_county_cases.drop(\"FIPS\",axis=1,inplace=True)\n",
      "C:\\Users\\marko\\AppData\\Local\\Temp\\ipykernel_21692\\2322991611.py:19: SettingWithCopyWarning: \n",
      "A value is trying to be set on a copy of a slice from a DataFrame\n",
      "\n",
      "See the caveats in the documentation: https://pandas.pydata.org/pandas-docs/stable/user_guide/indexing.html#returning-a-view-versus-a-copy\n",
      "  one_county_deaths.drop(\"FIPS\",axis=1,inplace=True)\n",
      "C:\\Users\\marko\\AppData\\Local\\Temp\\ipykernel_21692\\2322991611.py:14: SettingWithCopyWarning: \n",
      "A value is trying to be set on a copy of a slice from a DataFrame\n",
      "\n",
      "See the caveats in the documentation: https://pandas.pydata.org/pandas-docs/stable/user_guide/indexing.html#returning-a-view-versus-a-copy\n",
      "  one_county_cases.drop(\"FIPS\",axis=1,inplace=True)\n",
      "C:\\Users\\marko\\AppData\\Local\\Temp\\ipykernel_21692\\2322991611.py:19: SettingWithCopyWarning: \n",
      "A value is trying to be set on a copy of a slice from a DataFrame\n",
      "\n",
      "See the caveats in the documentation: https://pandas.pydata.org/pandas-docs/stable/user_guide/indexing.html#returning-a-view-versus-a-copy\n",
      "  one_county_deaths.drop(\"FIPS\",axis=1,inplace=True)\n",
      "C:\\Users\\marko\\AppData\\Local\\Temp\\ipykernel_21692\\2322991611.py:14: SettingWithCopyWarning: \n",
      "A value is trying to be set on a copy of a slice from a DataFrame\n",
      "\n",
      "See the caveats in the documentation: https://pandas.pydata.org/pandas-docs/stable/user_guide/indexing.html#returning-a-view-versus-a-copy\n",
      "  one_county_cases.drop(\"FIPS\",axis=1,inplace=True)\n",
      "C:\\Users\\marko\\AppData\\Local\\Temp\\ipykernel_21692\\2322991611.py:19: SettingWithCopyWarning: \n",
      "A value is trying to be set on a copy of a slice from a DataFrame\n",
      "\n",
      "See the caveats in the documentation: https://pandas.pydata.org/pandas-docs/stable/user_guide/indexing.html#returning-a-view-versus-a-copy\n",
      "  one_county_deaths.drop(\"FIPS\",axis=1,inplace=True)\n",
      "C:\\Users\\marko\\AppData\\Local\\Temp\\ipykernel_21692\\2322991611.py:14: SettingWithCopyWarning: \n",
      "A value is trying to be set on a copy of a slice from a DataFrame\n",
      "\n",
      "See the caveats in the documentation: https://pandas.pydata.org/pandas-docs/stable/user_guide/indexing.html#returning-a-view-versus-a-copy\n",
      "  one_county_cases.drop(\"FIPS\",axis=1,inplace=True)\n",
      "C:\\Users\\marko\\AppData\\Local\\Temp\\ipykernel_21692\\2322991611.py:19: SettingWithCopyWarning: \n",
      "A value is trying to be set on a copy of a slice from a DataFrame\n",
      "\n",
      "See the caveats in the documentation: https://pandas.pydata.org/pandas-docs/stable/user_guide/indexing.html#returning-a-view-versus-a-copy\n",
      "  one_county_deaths.drop(\"FIPS\",axis=1,inplace=True)\n",
      "C:\\Users\\marko\\AppData\\Local\\Temp\\ipykernel_21692\\2322991611.py:14: SettingWithCopyWarning: \n",
      "A value is trying to be set on a copy of a slice from a DataFrame\n",
      "\n",
      "See the caveats in the documentation: https://pandas.pydata.org/pandas-docs/stable/user_guide/indexing.html#returning-a-view-versus-a-copy\n",
      "  one_county_cases.drop(\"FIPS\",axis=1,inplace=True)\n",
      "C:\\Users\\marko\\AppData\\Local\\Temp\\ipykernel_21692\\2322991611.py:19: SettingWithCopyWarning: \n",
      "A value is trying to be set on a copy of a slice from a DataFrame\n",
      "\n",
      "See the caveats in the documentation: https://pandas.pydata.org/pandas-docs/stable/user_guide/indexing.html#returning-a-view-versus-a-copy\n",
      "  one_county_deaths.drop(\"FIPS\",axis=1,inplace=True)\n",
      "C:\\Users\\marko\\AppData\\Local\\Temp\\ipykernel_21692\\2322991611.py:14: SettingWithCopyWarning: \n",
      "A value is trying to be set on a copy of a slice from a DataFrame\n",
      "\n",
      "See the caveats in the documentation: https://pandas.pydata.org/pandas-docs/stable/user_guide/indexing.html#returning-a-view-versus-a-copy\n",
      "  one_county_cases.drop(\"FIPS\",axis=1,inplace=True)\n",
      "C:\\Users\\marko\\AppData\\Local\\Temp\\ipykernel_21692\\2322991611.py:19: SettingWithCopyWarning: \n",
      "A value is trying to be set on a copy of a slice from a DataFrame\n",
      "\n",
      "See the caveats in the documentation: https://pandas.pydata.org/pandas-docs/stable/user_guide/indexing.html#returning-a-view-versus-a-copy\n",
      "  one_county_deaths.drop(\"FIPS\",axis=1,inplace=True)\n",
      "C:\\Users\\marko\\AppData\\Local\\Temp\\ipykernel_21692\\2322991611.py:14: SettingWithCopyWarning: \n",
      "A value is trying to be set on a copy of a slice from a DataFrame\n",
      "\n",
      "See the caveats in the documentation: https://pandas.pydata.org/pandas-docs/stable/user_guide/indexing.html#returning-a-view-versus-a-copy\n",
      "  one_county_cases.drop(\"FIPS\",axis=1,inplace=True)\n",
      "C:\\Users\\marko\\AppData\\Local\\Temp\\ipykernel_21692\\2322991611.py:19: SettingWithCopyWarning: \n",
      "A value is trying to be set on a copy of a slice from a DataFrame\n",
      "\n",
      "See the caveats in the documentation: https://pandas.pydata.org/pandas-docs/stable/user_guide/indexing.html#returning-a-view-versus-a-copy\n",
      "  one_county_deaths.drop(\"FIPS\",axis=1,inplace=True)\n",
      "C:\\Users\\marko\\AppData\\Local\\Temp\\ipykernel_21692\\2322991611.py:14: SettingWithCopyWarning: \n",
      "A value is trying to be set on a copy of a slice from a DataFrame\n",
      "\n",
      "See the caveats in the documentation: https://pandas.pydata.org/pandas-docs/stable/user_guide/indexing.html#returning-a-view-versus-a-copy\n",
      "  one_county_cases.drop(\"FIPS\",axis=1,inplace=True)\n",
      "C:\\Users\\marko\\AppData\\Local\\Temp\\ipykernel_21692\\2322991611.py:19: SettingWithCopyWarning: \n",
      "A value is trying to be set on a copy of a slice from a DataFrame\n",
      "\n",
      "See the caveats in the documentation: https://pandas.pydata.org/pandas-docs/stable/user_guide/indexing.html#returning-a-view-versus-a-copy\n",
      "  one_county_deaths.drop(\"FIPS\",axis=1,inplace=True)\n",
      "C:\\Users\\marko\\AppData\\Local\\Temp\\ipykernel_21692\\2322991611.py:14: SettingWithCopyWarning: \n",
      "A value is trying to be set on a copy of a slice from a DataFrame\n",
      "\n",
      "See the caveats in the documentation: https://pandas.pydata.org/pandas-docs/stable/user_guide/indexing.html#returning-a-view-versus-a-copy\n",
      "  one_county_cases.drop(\"FIPS\",axis=1,inplace=True)\n",
      "C:\\Users\\marko\\AppData\\Local\\Temp\\ipykernel_21692\\2322991611.py:19: SettingWithCopyWarning: \n",
      "A value is trying to be set on a copy of a slice from a DataFrame\n",
      "\n",
      "See the caveats in the documentation: https://pandas.pydata.org/pandas-docs/stable/user_guide/indexing.html#returning-a-view-versus-a-copy\n",
      "  one_county_deaths.drop(\"FIPS\",axis=1,inplace=True)\n",
      "C:\\Users\\marko\\AppData\\Local\\Temp\\ipykernel_21692\\2322991611.py:14: SettingWithCopyWarning: \n",
      "A value is trying to be set on a copy of a slice from a DataFrame\n",
      "\n",
      "See the caveats in the documentation: https://pandas.pydata.org/pandas-docs/stable/user_guide/indexing.html#returning-a-view-versus-a-copy\n",
      "  one_county_cases.drop(\"FIPS\",axis=1,inplace=True)\n",
      "C:\\Users\\marko\\AppData\\Local\\Temp\\ipykernel_21692\\2322991611.py:19: SettingWithCopyWarning: \n",
      "A value is trying to be set on a copy of a slice from a DataFrame\n",
      "\n",
      "See the caveats in the documentation: https://pandas.pydata.org/pandas-docs/stable/user_guide/indexing.html#returning-a-view-versus-a-copy\n",
      "  one_county_deaths.drop(\"FIPS\",axis=1,inplace=True)\n",
      "C:\\Users\\marko\\AppData\\Local\\Temp\\ipykernel_21692\\2322991611.py:14: SettingWithCopyWarning: \n",
      "A value is trying to be set on a copy of a slice from a DataFrame\n",
      "\n",
      "See the caveats in the documentation: https://pandas.pydata.org/pandas-docs/stable/user_guide/indexing.html#returning-a-view-versus-a-copy\n",
      "  one_county_cases.drop(\"FIPS\",axis=1,inplace=True)\n",
      "C:\\Users\\marko\\AppData\\Local\\Temp\\ipykernel_21692\\2322991611.py:19: SettingWithCopyWarning: \n",
      "A value is trying to be set on a copy of a slice from a DataFrame\n",
      "\n",
      "See the caveats in the documentation: https://pandas.pydata.org/pandas-docs/stable/user_guide/indexing.html#returning-a-view-versus-a-copy\n",
      "  one_county_deaths.drop(\"FIPS\",axis=1,inplace=True)\n",
      "C:\\Users\\marko\\AppData\\Local\\Temp\\ipykernel_21692\\2322991611.py:14: SettingWithCopyWarning: \n",
      "A value is trying to be set on a copy of a slice from a DataFrame\n",
      "\n",
      "See the caveats in the documentation: https://pandas.pydata.org/pandas-docs/stable/user_guide/indexing.html#returning-a-view-versus-a-copy\n",
      "  one_county_cases.drop(\"FIPS\",axis=1,inplace=True)\n",
      "C:\\Users\\marko\\AppData\\Local\\Temp\\ipykernel_21692\\2322991611.py:19: SettingWithCopyWarning: \n",
      "A value is trying to be set on a copy of a slice from a DataFrame\n",
      "\n",
      "See the caveats in the documentation: https://pandas.pydata.org/pandas-docs/stable/user_guide/indexing.html#returning-a-view-versus-a-copy\n",
      "  one_county_deaths.drop(\"FIPS\",axis=1,inplace=True)\n",
      "C:\\Users\\marko\\AppData\\Local\\Temp\\ipykernel_21692\\2322991611.py:14: SettingWithCopyWarning: \n",
      "A value is trying to be set on a copy of a slice from a DataFrame\n",
      "\n",
      "See the caveats in the documentation: https://pandas.pydata.org/pandas-docs/stable/user_guide/indexing.html#returning-a-view-versus-a-copy\n",
      "  one_county_cases.drop(\"FIPS\",axis=1,inplace=True)\n",
      "C:\\Users\\marko\\AppData\\Local\\Temp\\ipykernel_21692\\2322991611.py:19: SettingWithCopyWarning: \n",
      "A value is trying to be set on a copy of a slice from a DataFrame\n",
      "\n",
      "See the caveats in the documentation: https://pandas.pydata.org/pandas-docs/stable/user_guide/indexing.html#returning-a-view-versus-a-copy\n",
      "  one_county_deaths.drop(\"FIPS\",axis=1,inplace=True)\n",
      "C:\\Users\\marko\\AppData\\Local\\Temp\\ipykernel_21692\\2322991611.py:14: SettingWithCopyWarning: \n",
      "A value is trying to be set on a copy of a slice from a DataFrame\n",
      "\n",
      "See the caveats in the documentation: https://pandas.pydata.org/pandas-docs/stable/user_guide/indexing.html#returning-a-view-versus-a-copy\n",
      "  one_county_cases.drop(\"FIPS\",axis=1,inplace=True)\n",
      "C:\\Users\\marko\\AppData\\Local\\Temp\\ipykernel_21692\\2322991611.py:19: SettingWithCopyWarning: \n",
      "A value is trying to be set on a copy of a slice from a DataFrame\n",
      "\n",
      "See the caveats in the documentation: https://pandas.pydata.org/pandas-docs/stable/user_guide/indexing.html#returning-a-view-versus-a-copy\n",
      "  one_county_deaths.drop(\"FIPS\",axis=1,inplace=True)\n",
      "C:\\Users\\marko\\AppData\\Local\\Temp\\ipykernel_21692\\2322991611.py:14: SettingWithCopyWarning: \n",
      "A value is trying to be set on a copy of a slice from a DataFrame\n",
      "\n",
      "See the caveats in the documentation: https://pandas.pydata.org/pandas-docs/stable/user_guide/indexing.html#returning-a-view-versus-a-copy\n",
      "  one_county_cases.drop(\"FIPS\",axis=1,inplace=True)\n",
      "C:\\Users\\marko\\AppData\\Local\\Temp\\ipykernel_21692\\2322991611.py:19: SettingWithCopyWarning: \n",
      "A value is trying to be set on a copy of a slice from a DataFrame\n",
      "\n",
      "See the caveats in the documentation: https://pandas.pydata.org/pandas-docs/stable/user_guide/indexing.html#returning-a-view-versus-a-copy\n",
      "  one_county_deaths.drop(\"FIPS\",axis=1,inplace=True)\n",
      "C:\\Users\\marko\\AppData\\Local\\Temp\\ipykernel_21692\\2322991611.py:14: SettingWithCopyWarning: \n",
      "A value is trying to be set on a copy of a slice from a DataFrame\n",
      "\n",
      "See the caveats in the documentation: https://pandas.pydata.org/pandas-docs/stable/user_guide/indexing.html#returning-a-view-versus-a-copy\n",
      "  one_county_cases.drop(\"FIPS\",axis=1,inplace=True)\n",
      "C:\\Users\\marko\\AppData\\Local\\Temp\\ipykernel_21692\\2322991611.py:19: SettingWithCopyWarning: \n",
      "A value is trying to be set on a copy of a slice from a DataFrame\n",
      "\n",
      "See the caveats in the documentation: https://pandas.pydata.org/pandas-docs/stable/user_guide/indexing.html#returning-a-view-versus-a-copy\n",
      "  one_county_deaths.drop(\"FIPS\",axis=1,inplace=True)\n",
      "C:\\Users\\marko\\AppData\\Local\\Temp\\ipykernel_21692\\2322991611.py:14: SettingWithCopyWarning: \n",
      "A value is trying to be set on a copy of a slice from a DataFrame\n",
      "\n",
      "See the caveats in the documentation: https://pandas.pydata.org/pandas-docs/stable/user_guide/indexing.html#returning-a-view-versus-a-copy\n",
      "  one_county_cases.drop(\"FIPS\",axis=1,inplace=True)\n",
      "C:\\Users\\marko\\AppData\\Local\\Temp\\ipykernel_21692\\2322991611.py:19: SettingWithCopyWarning: \n",
      "A value is trying to be set on a copy of a slice from a DataFrame\n",
      "\n",
      "See the caveats in the documentation: https://pandas.pydata.org/pandas-docs/stable/user_guide/indexing.html#returning-a-view-versus-a-copy\n",
      "  one_county_deaths.drop(\"FIPS\",axis=1,inplace=True)\n",
      "C:\\Users\\marko\\AppData\\Local\\Temp\\ipykernel_21692\\2322991611.py:14: SettingWithCopyWarning: \n",
      "A value is trying to be set on a copy of a slice from a DataFrame\n",
      "\n",
      "See the caveats in the documentation: https://pandas.pydata.org/pandas-docs/stable/user_guide/indexing.html#returning-a-view-versus-a-copy\n",
      "  one_county_cases.drop(\"FIPS\",axis=1,inplace=True)\n",
      "C:\\Users\\marko\\AppData\\Local\\Temp\\ipykernel_21692\\2322991611.py:19: SettingWithCopyWarning: \n",
      "A value is trying to be set on a copy of a slice from a DataFrame\n",
      "\n",
      "See the caveats in the documentation: https://pandas.pydata.org/pandas-docs/stable/user_guide/indexing.html#returning-a-view-versus-a-copy\n",
      "  one_county_deaths.drop(\"FIPS\",axis=1,inplace=True)\n",
      "C:\\Users\\marko\\AppData\\Local\\Temp\\ipykernel_21692\\2322991611.py:14: SettingWithCopyWarning: \n",
      "A value is trying to be set on a copy of a slice from a DataFrame\n",
      "\n",
      "See the caveats in the documentation: https://pandas.pydata.org/pandas-docs/stable/user_guide/indexing.html#returning-a-view-versus-a-copy\n",
      "  one_county_cases.drop(\"FIPS\",axis=1,inplace=True)\n",
      "C:\\Users\\marko\\AppData\\Local\\Temp\\ipykernel_21692\\2322991611.py:19: SettingWithCopyWarning: \n",
      "A value is trying to be set on a copy of a slice from a DataFrame\n",
      "\n",
      "See the caveats in the documentation: https://pandas.pydata.org/pandas-docs/stable/user_guide/indexing.html#returning-a-view-versus-a-copy\n",
      "  one_county_deaths.drop(\"FIPS\",axis=1,inplace=True)\n",
      "C:\\Users\\marko\\AppData\\Local\\Temp\\ipykernel_21692\\2322991611.py:14: SettingWithCopyWarning: \n",
      "A value is trying to be set on a copy of a slice from a DataFrame\n",
      "\n",
      "See the caveats in the documentation: https://pandas.pydata.org/pandas-docs/stable/user_guide/indexing.html#returning-a-view-versus-a-copy\n",
      "  one_county_cases.drop(\"FIPS\",axis=1,inplace=True)\n",
      "C:\\Users\\marko\\AppData\\Local\\Temp\\ipykernel_21692\\2322991611.py:19: SettingWithCopyWarning: \n",
      "A value is trying to be set on a copy of a slice from a DataFrame\n",
      "\n",
      "See the caveats in the documentation: https://pandas.pydata.org/pandas-docs/stable/user_guide/indexing.html#returning-a-view-versus-a-copy\n",
      "  one_county_deaths.drop(\"FIPS\",axis=1,inplace=True)\n",
      "C:\\Users\\marko\\AppData\\Local\\Temp\\ipykernel_21692\\2322991611.py:14: SettingWithCopyWarning: \n",
      "A value is trying to be set on a copy of a slice from a DataFrame\n",
      "\n",
      "See the caveats in the documentation: https://pandas.pydata.org/pandas-docs/stable/user_guide/indexing.html#returning-a-view-versus-a-copy\n",
      "  one_county_cases.drop(\"FIPS\",axis=1,inplace=True)\n",
      "C:\\Users\\marko\\AppData\\Local\\Temp\\ipykernel_21692\\2322991611.py:19: SettingWithCopyWarning: \n",
      "A value is trying to be set on a copy of a slice from a DataFrame\n",
      "\n",
      "See the caveats in the documentation: https://pandas.pydata.org/pandas-docs/stable/user_guide/indexing.html#returning-a-view-versus-a-copy\n",
      "  one_county_deaths.drop(\"FIPS\",axis=1,inplace=True)\n",
      "C:\\Users\\marko\\AppData\\Local\\Temp\\ipykernel_21692\\2322991611.py:14: SettingWithCopyWarning: \n",
      "A value is trying to be set on a copy of a slice from a DataFrame\n",
      "\n",
      "See the caveats in the documentation: https://pandas.pydata.org/pandas-docs/stable/user_guide/indexing.html#returning-a-view-versus-a-copy\n",
      "  one_county_cases.drop(\"FIPS\",axis=1,inplace=True)\n",
      "C:\\Users\\marko\\AppData\\Local\\Temp\\ipykernel_21692\\2322991611.py:19: SettingWithCopyWarning: \n",
      "A value is trying to be set on a copy of a slice from a DataFrame\n",
      "\n",
      "See the caveats in the documentation: https://pandas.pydata.org/pandas-docs/stable/user_guide/indexing.html#returning-a-view-versus-a-copy\n",
      "  one_county_deaths.drop(\"FIPS\",axis=1,inplace=True)\n",
      "C:\\Users\\marko\\AppData\\Local\\Temp\\ipykernel_21692\\2322991611.py:14: SettingWithCopyWarning: \n",
      "A value is trying to be set on a copy of a slice from a DataFrame\n",
      "\n",
      "See the caveats in the documentation: https://pandas.pydata.org/pandas-docs/stable/user_guide/indexing.html#returning-a-view-versus-a-copy\n",
      "  one_county_cases.drop(\"FIPS\",axis=1,inplace=True)\n",
      "C:\\Users\\marko\\AppData\\Local\\Temp\\ipykernel_21692\\2322991611.py:19: SettingWithCopyWarning: \n",
      "A value is trying to be set on a copy of a slice from a DataFrame\n",
      "\n",
      "See the caveats in the documentation: https://pandas.pydata.org/pandas-docs/stable/user_guide/indexing.html#returning-a-view-versus-a-copy\n",
      "  one_county_deaths.drop(\"FIPS\",axis=1,inplace=True)\n",
      "C:\\Users\\marko\\AppData\\Local\\Temp\\ipykernel_21692\\2322991611.py:14: SettingWithCopyWarning: \n",
      "A value is trying to be set on a copy of a slice from a DataFrame\n",
      "\n",
      "See the caveats in the documentation: https://pandas.pydata.org/pandas-docs/stable/user_guide/indexing.html#returning-a-view-versus-a-copy\n",
      "  one_county_cases.drop(\"FIPS\",axis=1,inplace=True)\n",
      "C:\\Users\\marko\\AppData\\Local\\Temp\\ipykernel_21692\\2322991611.py:19: SettingWithCopyWarning: \n",
      "A value is trying to be set on a copy of a slice from a DataFrame\n",
      "\n",
      "See the caveats in the documentation: https://pandas.pydata.org/pandas-docs/stable/user_guide/indexing.html#returning-a-view-versus-a-copy\n",
      "  one_county_deaths.drop(\"FIPS\",axis=1,inplace=True)\n",
      "C:\\Users\\marko\\AppData\\Local\\Temp\\ipykernel_21692\\2322991611.py:14: SettingWithCopyWarning: \n",
      "A value is trying to be set on a copy of a slice from a DataFrame\n",
      "\n",
      "See the caveats in the documentation: https://pandas.pydata.org/pandas-docs/stable/user_guide/indexing.html#returning-a-view-versus-a-copy\n",
      "  one_county_cases.drop(\"FIPS\",axis=1,inplace=True)\n",
      "C:\\Users\\marko\\AppData\\Local\\Temp\\ipykernel_21692\\2322991611.py:19: SettingWithCopyWarning: \n",
      "A value is trying to be set on a copy of a slice from a DataFrame\n",
      "\n",
      "See the caveats in the documentation: https://pandas.pydata.org/pandas-docs/stable/user_guide/indexing.html#returning-a-view-versus-a-copy\n",
      "  one_county_deaths.drop(\"FIPS\",axis=1,inplace=True)\n",
      "C:\\Users\\marko\\AppData\\Local\\Temp\\ipykernel_21692\\2322991611.py:14: SettingWithCopyWarning: \n",
      "A value is trying to be set on a copy of a slice from a DataFrame\n",
      "\n",
      "See the caveats in the documentation: https://pandas.pydata.org/pandas-docs/stable/user_guide/indexing.html#returning-a-view-versus-a-copy\n",
      "  one_county_cases.drop(\"FIPS\",axis=1,inplace=True)\n",
      "C:\\Users\\marko\\AppData\\Local\\Temp\\ipykernel_21692\\2322991611.py:19: SettingWithCopyWarning: \n",
      "A value is trying to be set on a copy of a slice from a DataFrame\n",
      "\n",
      "See the caveats in the documentation: https://pandas.pydata.org/pandas-docs/stable/user_guide/indexing.html#returning-a-view-versus-a-copy\n",
      "  one_county_deaths.drop(\"FIPS\",axis=1,inplace=True)\n",
      "C:\\Users\\marko\\AppData\\Local\\Temp\\ipykernel_21692\\2322991611.py:14: SettingWithCopyWarning: \n",
      "A value is trying to be set on a copy of a slice from a DataFrame\n",
      "\n",
      "See the caveats in the documentation: https://pandas.pydata.org/pandas-docs/stable/user_guide/indexing.html#returning-a-view-versus-a-copy\n",
      "  one_county_cases.drop(\"FIPS\",axis=1,inplace=True)\n",
      "C:\\Users\\marko\\AppData\\Local\\Temp\\ipykernel_21692\\2322991611.py:19: SettingWithCopyWarning: \n",
      "A value is trying to be set on a copy of a slice from a DataFrame\n",
      "\n",
      "See the caveats in the documentation: https://pandas.pydata.org/pandas-docs/stable/user_guide/indexing.html#returning-a-view-versus-a-copy\n",
      "  one_county_deaths.drop(\"FIPS\",axis=1,inplace=True)\n",
      "C:\\Users\\marko\\AppData\\Local\\Temp\\ipykernel_21692\\2322991611.py:14: SettingWithCopyWarning: \n",
      "A value is trying to be set on a copy of a slice from a DataFrame\n",
      "\n",
      "See the caveats in the documentation: https://pandas.pydata.org/pandas-docs/stable/user_guide/indexing.html#returning-a-view-versus-a-copy\n",
      "  one_county_cases.drop(\"FIPS\",axis=1,inplace=True)\n",
      "C:\\Users\\marko\\AppData\\Local\\Temp\\ipykernel_21692\\2322991611.py:19: SettingWithCopyWarning: \n",
      "A value is trying to be set on a copy of a slice from a DataFrame\n",
      "\n",
      "See the caveats in the documentation: https://pandas.pydata.org/pandas-docs/stable/user_guide/indexing.html#returning-a-view-versus-a-copy\n",
      "  one_county_deaths.drop(\"FIPS\",axis=1,inplace=True)\n",
      "C:\\Users\\marko\\AppData\\Local\\Temp\\ipykernel_21692\\2322991611.py:14: SettingWithCopyWarning: \n",
      "A value is trying to be set on a copy of a slice from a DataFrame\n",
      "\n",
      "See the caveats in the documentation: https://pandas.pydata.org/pandas-docs/stable/user_guide/indexing.html#returning-a-view-versus-a-copy\n",
      "  one_county_cases.drop(\"FIPS\",axis=1,inplace=True)\n",
      "C:\\Users\\marko\\AppData\\Local\\Temp\\ipykernel_21692\\2322991611.py:19: SettingWithCopyWarning: \n",
      "A value is trying to be set on a copy of a slice from a DataFrame\n",
      "\n",
      "See the caveats in the documentation: https://pandas.pydata.org/pandas-docs/stable/user_guide/indexing.html#returning-a-view-versus-a-copy\n",
      "  one_county_deaths.drop(\"FIPS\",axis=1,inplace=True)\n",
      "C:\\Users\\marko\\AppData\\Local\\Temp\\ipykernel_21692\\2322991611.py:14: SettingWithCopyWarning: \n",
      "A value is trying to be set on a copy of a slice from a DataFrame\n",
      "\n",
      "See the caveats in the documentation: https://pandas.pydata.org/pandas-docs/stable/user_guide/indexing.html#returning-a-view-versus-a-copy\n",
      "  one_county_cases.drop(\"FIPS\",axis=1,inplace=True)\n",
      "C:\\Users\\marko\\AppData\\Local\\Temp\\ipykernel_21692\\2322991611.py:19: SettingWithCopyWarning: \n",
      "A value is trying to be set on a copy of a slice from a DataFrame\n",
      "\n",
      "See the caveats in the documentation: https://pandas.pydata.org/pandas-docs/stable/user_guide/indexing.html#returning-a-view-versus-a-copy\n",
      "  one_county_deaths.drop(\"FIPS\",axis=1,inplace=True)\n",
      "C:\\Users\\marko\\AppData\\Local\\Temp\\ipykernel_21692\\2322991611.py:14: SettingWithCopyWarning: \n",
      "A value is trying to be set on a copy of a slice from a DataFrame\n",
      "\n",
      "See the caveats in the documentation: https://pandas.pydata.org/pandas-docs/stable/user_guide/indexing.html#returning-a-view-versus-a-copy\n",
      "  one_county_cases.drop(\"FIPS\",axis=1,inplace=True)\n",
      "C:\\Users\\marko\\AppData\\Local\\Temp\\ipykernel_21692\\2322991611.py:19: SettingWithCopyWarning: \n",
      "A value is trying to be set on a copy of a slice from a DataFrame\n",
      "\n",
      "See the caveats in the documentation: https://pandas.pydata.org/pandas-docs/stable/user_guide/indexing.html#returning-a-view-versus-a-copy\n",
      "  one_county_deaths.drop(\"FIPS\",axis=1,inplace=True)\n",
      "C:\\Users\\marko\\AppData\\Local\\Temp\\ipykernel_21692\\2322991611.py:14: SettingWithCopyWarning: \n",
      "A value is trying to be set on a copy of a slice from a DataFrame\n",
      "\n",
      "See the caveats in the documentation: https://pandas.pydata.org/pandas-docs/stable/user_guide/indexing.html#returning-a-view-versus-a-copy\n",
      "  one_county_cases.drop(\"FIPS\",axis=1,inplace=True)\n",
      "C:\\Users\\marko\\AppData\\Local\\Temp\\ipykernel_21692\\2322991611.py:19: SettingWithCopyWarning: \n",
      "A value is trying to be set on a copy of a slice from a DataFrame\n",
      "\n",
      "See the caveats in the documentation: https://pandas.pydata.org/pandas-docs/stable/user_guide/indexing.html#returning-a-view-versus-a-copy\n",
      "  one_county_deaths.drop(\"FIPS\",axis=1,inplace=True)\n",
      "C:\\Users\\marko\\AppData\\Local\\Temp\\ipykernel_21692\\2322991611.py:14: SettingWithCopyWarning: \n",
      "A value is trying to be set on a copy of a slice from a DataFrame\n",
      "\n",
      "See the caveats in the documentation: https://pandas.pydata.org/pandas-docs/stable/user_guide/indexing.html#returning-a-view-versus-a-copy\n",
      "  one_county_cases.drop(\"FIPS\",axis=1,inplace=True)\n",
      "C:\\Users\\marko\\AppData\\Local\\Temp\\ipykernel_21692\\2322991611.py:19: SettingWithCopyWarning: \n",
      "A value is trying to be set on a copy of a slice from a DataFrame\n",
      "\n",
      "See the caveats in the documentation: https://pandas.pydata.org/pandas-docs/stable/user_guide/indexing.html#returning-a-view-versus-a-copy\n",
      "  one_county_deaths.drop(\"FIPS\",axis=1,inplace=True)\n",
      "C:\\Users\\marko\\AppData\\Local\\Temp\\ipykernel_21692\\2322991611.py:14: SettingWithCopyWarning: \n",
      "A value is trying to be set on a copy of a slice from a DataFrame\n",
      "\n",
      "See the caveats in the documentation: https://pandas.pydata.org/pandas-docs/stable/user_guide/indexing.html#returning-a-view-versus-a-copy\n",
      "  one_county_cases.drop(\"FIPS\",axis=1,inplace=True)\n",
      "C:\\Users\\marko\\AppData\\Local\\Temp\\ipykernel_21692\\2322991611.py:19: SettingWithCopyWarning: \n",
      "A value is trying to be set on a copy of a slice from a DataFrame\n",
      "\n",
      "See the caveats in the documentation: https://pandas.pydata.org/pandas-docs/stable/user_guide/indexing.html#returning-a-view-versus-a-copy\n",
      "  one_county_deaths.drop(\"FIPS\",axis=1,inplace=True)\n",
      "C:\\Users\\marko\\AppData\\Local\\Temp\\ipykernel_21692\\2322991611.py:14: SettingWithCopyWarning: \n",
      "A value is trying to be set on a copy of a slice from a DataFrame\n",
      "\n",
      "See the caveats in the documentation: https://pandas.pydata.org/pandas-docs/stable/user_guide/indexing.html#returning-a-view-versus-a-copy\n",
      "  one_county_cases.drop(\"FIPS\",axis=1,inplace=True)\n",
      "C:\\Users\\marko\\AppData\\Local\\Temp\\ipykernel_21692\\2322991611.py:19: SettingWithCopyWarning: \n",
      "A value is trying to be set on a copy of a slice from a DataFrame\n",
      "\n",
      "See the caveats in the documentation: https://pandas.pydata.org/pandas-docs/stable/user_guide/indexing.html#returning-a-view-versus-a-copy\n",
      "  one_county_deaths.drop(\"FIPS\",axis=1,inplace=True)\n",
      "C:\\Users\\marko\\AppData\\Local\\Temp\\ipykernel_21692\\2322991611.py:14: SettingWithCopyWarning: \n",
      "A value is trying to be set on a copy of a slice from a DataFrame\n",
      "\n",
      "See the caveats in the documentation: https://pandas.pydata.org/pandas-docs/stable/user_guide/indexing.html#returning-a-view-versus-a-copy\n",
      "  one_county_cases.drop(\"FIPS\",axis=1,inplace=True)\n",
      "C:\\Users\\marko\\AppData\\Local\\Temp\\ipykernel_21692\\2322991611.py:19: SettingWithCopyWarning: \n",
      "A value is trying to be set on a copy of a slice from a DataFrame\n",
      "\n",
      "See the caveats in the documentation: https://pandas.pydata.org/pandas-docs/stable/user_guide/indexing.html#returning-a-view-versus-a-copy\n",
      "  one_county_deaths.drop(\"FIPS\",axis=1,inplace=True)\n",
      "C:\\Users\\marko\\AppData\\Local\\Temp\\ipykernel_21692\\2322991611.py:14: SettingWithCopyWarning: \n",
      "A value is trying to be set on a copy of a slice from a DataFrame\n",
      "\n",
      "See the caveats in the documentation: https://pandas.pydata.org/pandas-docs/stable/user_guide/indexing.html#returning-a-view-versus-a-copy\n",
      "  one_county_cases.drop(\"FIPS\",axis=1,inplace=True)\n",
      "C:\\Users\\marko\\AppData\\Local\\Temp\\ipykernel_21692\\2322991611.py:19: SettingWithCopyWarning: \n",
      "A value is trying to be set on a copy of a slice from a DataFrame\n",
      "\n",
      "See the caveats in the documentation: https://pandas.pydata.org/pandas-docs/stable/user_guide/indexing.html#returning-a-view-versus-a-copy\n",
      "  one_county_deaths.drop(\"FIPS\",axis=1,inplace=True)\n",
      "C:\\Users\\marko\\AppData\\Local\\Temp\\ipykernel_21692\\2322991611.py:14: SettingWithCopyWarning: \n",
      "A value is trying to be set on a copy of a slice from a DataFrame\n",
      "\n",
      "See the caveats in the documentation: https://pandas.pydata.org/pandas-docs/stable/user_guide/indexing.html#returning-a-view-versus-a-copy\n",
      "  one_county_cases.drop(\"FIPS\",axis=1,inplace=True)\n",
      "C:\\Users\\marko\\AppData\\Local\\Temp\\ipykernel_21692\\2322991611.py:19: SettingWithCopyWarning: \n",
      "A value is trying to be set on a copy of a slice from a DataFrame\n",
      "\n",
      "See the caveats in the documentation: https://pandas.pydata.org/pandas-docs/stable/user_guide/indexing.html#returning-a-view-versus-a-copy\n",
      "  one_county_deaths.drop(\"FIPS\",axis=1,inplace=True)\n",
      "C:\\Users\\marko\\AppData\\Local\\Temp\\ipykernel_21692\\2322991611.py:5: SettingWithCopyWarning: \n",
      "A value is trying to be set on a copy of a slice from a DataFrame.\n",
      "Try using .loc[row_indexer,col_indexer] = value instead\n",
      "\n",
      "See the caveats in the documentation: https://pandas.pydata.org/pandas-docs/stable/user_guide/indexing.html#returning-a-view-versus-a-copy\n",
      "  one_state_df[\"Date\"] = pd.to_datetime(one_state_df[\"Date\"])\n"
     ]
    },
    {
     "ename": "KeyError",
     "evalue": "0",
     "output_type": "error",
     "traceback": [
      "\u001B[1;31m---------------------------------------------------------------------------\u001B[0m",
      "\u001B[1;31mKeyError\u001B[0m                                  Traceback (most recent call last)",
      "File \u001B[1;32m~\\AppData\\Local\\Programs\\Python\\Python311\\Lib\\site-packages\\pandas\\core\\indexes\\base.py:3652\u001B[0m, in \u001B[0;36mIndex.get_loc\u001B[1;34m(self, key)\u001B[0m\n\u001B[0;32m   3651\u001B[0m \u001B[38;5;28;01mtry\u001B[39;00m:\n\u001B[1;32m-> 3652\u001B[0m     \u001B[38;5;28;01mreturn\u001B[39;00m \u001B[38;5;28;43mself\u001B[39;49m\u001B[38;5;241;43m.\u001B[39;49m\u001B[43m_engine\u001B[49m\u001B[38;5;241;43m.\u001B[39;49m\u001B[43mget_loc\u001B[49m\u001B[43m(\u001B[49m\u001B[43mcasted_key\u001B[49m\u001B[43m)\u001B[49m\n\u001B[0;32m   3653\u001B[0m \u001B[38;5;28;01mexcept\u001B[39;00m \u001B[38;5;167;01mKeyError\u001B[39;00m \u001B[38;5;28;01mas\u001B[39;00m err:\n",
      "File \u001B[1;32m~\\AppData\\Local\\Programs\\Python\\Python311\\Lib\\site-packages\\pandas\\_libs\\index.pyx:147\u001B[0m, in \u001B[0;36mpandas._libs.index.IndexEngine.get_loc\u001B[1;34m()\u001B[0m\n",
      "File \u001B[1;32m~\\AppData\\Local\\Programs\\Python\\Python311\\Lib\\site-packages\\pandas\\_libs\\index.pyx:176\u001B[0m, in \u001B[0;36mpandas._libs.index.IndexEngine.get_loc\u001B[1;34m()\u001B[0m\n",
      "File \u001B[1;32mpandas\\_libs\\hashtable_class_helper.pxi:2606\u001B[0m, in \u001B[0;36mpandas._libs.hashtable.Int64HashTable.get_item\u001B[1;34m()\u001B[0m\n",
      "File \u001B[1;32mpandas\\_libs\\hashtable_class_helper.pxi:2630\u001B[0m, in \u001B[0;36mpandas._libs.hashtable.Int64HashTable.get_item\u001B[1;34m()\u001B[0m\n",
      "\u001B[1;31mKeyError\u001B[0m: 0",
      "\nThe above exception was the direct cause of the following exception:\n",
      "\u001B[1;31mKeyError\u001B[0m                                  Traceback (most recent call last)",
      "Cell \u001B[1;32mIn[131], line 8\u001B[0m\n\u001B[0;32m      6\u001B[0m start \u001B[38;5;241m=\u001B[39m second_peak_dates\u001B[38;5;241m.\u001B[39mstart_date[second_peak_dates\u001B[38;5;241m.\u001B[39mstate \u001B[38;5;241m==\u001B[39m state]\n\u001B[0;32m      7\u001B[0m end \u001B[38;5;241m=\u001B[39m second_peak_dates\u001B[38;5;241m.\u001B[39mend_date[second_peak_dates\u001B[38;5;241m.\u001B[39mstate \u001B[38;5;241m==\u001B[39m state]\n\u001B[1;32m----> 8\u001B[0m one_state_df \u001B[38;5;241m=\u001B[39m one_state_df[(one_state_df\u001B[38;5;241m.\u001B[39mDate \u001B[38;5;241m>\u001B[39m\u001B[38;5;241m=\u001B[39m \u001B[43mstart\u001B[49m\u001B[43m[\u001B[49m\u001B[38;5;241;43m0\u001B[39;49m\u001B[43m]\u001B[49m) \u001B[38;5;241m&\u001B[39m (one_state_df\u001B[38;5;241m.\u001B[39mDate \u001B[38;5;241m<\u001B[39m\u001B[38;5;241m=\u001B[39m end[\u001B[38;5;241m0\u001B[39m])]\n\u001B[0;32m      9\u001B[0m cases_state_data \u001B[38;5;241m=\u001B[39m one_state_df[[\u001B[38;5;124m\"\u001B[39m\u001B[38;5;124mDate\u001B[39m\u001B[38;5;124m\"\u001B[39m,\u001B[38;5;124m\"\u001B[39m\u001B[38;5;124mCases\u001B[39m\u001B[38;5;124m\"\u001B[39m,\u001B[38;5;124m\"\u001B[39m\u001B[38;5;124mFIPS\u001B[39m\u001B[38;5;124m\"\u001B[39m]]\u001B[38;5;241m.\u001B[39mcopy()\n\u001B[0;32m     10\u001B[0m deaths_state_data \u001B[38;5;241m=\u001B[39m one_state_df[[\u001B[38;5;124m\"\u001B[39m\u001B[38;5;124mDate\u001B[39m\u001B[38;5;124m\"\u001B[39m,\u001B[38;5;124m\"\u001B[39m\u001B[38;5;124mDeaths\u001B[39m\u001B[38;5;124m\"\u001B[39m,\u001B[38;5;124m\"\u001B[39m\u001B[38;5;124mFIPS\u001B[39m\u001B[38;5;124m\"\u001B[39m]]\u001B[38;5;241m.\u001B[39mcopy()\n",
      "File \u001B[1;32m~\\AppData\\Local\\Programs\\Python\\Python311\\Lib\\site-packages\\pandas\\core\\series.py:1012\u001B[0m, in \u001B[0;36mSeries.__getitem__\u001B[1;34m(self, key)\u001B[0m\n\u001B[0;32m   1009\u001B[0m     \u001B[38;5;28;01mreturn\u001B[39;00m \u001B[38;5;28mself\u001B[39m\u001B[38;5;241m.\u001B[39m_values[key]\n\u001B[0;32m   1011\u001B[0m \u001B[38;5;28;01melif\u001B[39;00m key_is_scalar:\n\u001B[1;32m-> 1012\u001B[0m     \u001B[38;5;28;01mreturn\u001B[39;00m \u001B[38;5;28;43mself\u001B[39;49m\u001B[38;5;241;43m.\u001B[39;49m\u001B[43m_get_value\u001B[49m\u001B[43m(\u001B[49m\u001B[43mkey\u001B[49m\u001B[43m)\u001B[49m\n\u001B[0;32m   1014\u001B[0m \u001B[38;5;28;01mif\u001B[39;00m is_hashable(key):\n\u001B[0;32m   1015\u001B[0m     \u001B[38;5;66;03m# Otherwise index.get_value will raise InvalidIndexError\u001B[39;00m\n\u001B[0;32m   1016\u001B[0m     \u001B[38;5;28;01mtry\u001B[39;00m:\n\u001B[0;32m   1017\u001B[0m         \u001B[38;5;66;03m# For labels that don't resolve as scalars like tuples and frozensets\u001B[39;00m\n",
      "File \u001B[1;32m~\\AppData\\Local\\Programs\\Python\\Python311\\Lib\\site-packages\\pandas\\core\\series.py:1121\u001B[0m, in \u001B[0;36mSeries._get_value\u001B[1;34m(self, label, takeable)\u001B[0m\n\u001B[0;32m   1118\u001B[0m     \u001B[38;5;28;01mreturn\u001B[39;00m \u001B[38;5;28mself\u001B[39m\u001B[38;5;241m.\u001B[39m_values[label]\n\u001B[0;32m   1120\u001B[0m \u001B[38;5;66;03m# Similar to Index.get_value, but we do not fall back to positional\u001B[39;00m\n\u001B[1;32m-> 1121\u001B[0m loc \u001B[38;5;241m=\u001B[39m \u001B[38;5;28;43mself\u001B[39;49m\u001B[38;5;241;43m.\u001B[39;49m\u001B[43mindex\u001B[49m\u001B[38;5;241;43m.\u001B[39;49m\u001B[43mget_loc\u001B[49m\u001B[43m(\u001B[49m\u001B[43mlabel\u001B[49m\u001B[43m)\u001B[49m\n\u001B[0;32m   1123\u001B[0m \u001B[38;5;28;01mif\u001B[39;00m is_integer(loc):\n\u001B[0;32m   1124\u001B[0m     \u001B[38;5;28;01mreturn\u001B[39;00m \u001B[38;5;28mself\u001B[39m\u001B[38;5;241m.\u001B[39m_values[loc]\n",
      "File \u001B[1;32m~\\AppData\\Local\\Programs\\Python\\Python311\\Lib\\site-packages\\pandas\\core\\indexes\\base.py:3654\u001B[0m, in \u001B[0;36mIndex.get_loc\u001B[1;34m(self, key)\u001B[0m\n\u001B[0;32m   3652\u001B[0m     \u001B[38;5;28;01mreturn\u001B[39;00m \u001B[38;5;28mself\u001B[39m\u001B[38;5;241m.\u001B[39m_engine\u001B[38;5;241m.\u001B[39mget_loc(casted_key)\n\u001B[0;32m   3653\u001B[0m \u001B[38;5;28;01mexcept\u001B[39;00m \u001B[38;5;167;01mKeyError\u001B[39;00m \u001B[38;5;28;01mas\u001B[39;00m err:\n\u001B[1;32m-> 3654\u001B[0m     \u001B[38;5;28;01mraise\u001B[39;00m \u001B[38;5;167;01mKeyError\u001B[39;00m(key) \u001B[38;5;28;01mfrom\u001B[39;00m \u001B[38;5;21;01merr\u001B[39;00m\n\u001B[0;32m   3655\u001B[0m \u001B[38;5;28;01mexcept\u001B[39;00m \u001B[38;5;167;01mTypeError\u001B[39;00m:\n\u001B[0;32m   3656\u001B[0m     \u001B[38;5;66;03m# If we have a listlike key, _check_indexing_error will raise\u001B[39;00m\n\u001B[0;32m   3657\u001B[0m     \u001B[38;5;66;03m#  InvalidIndexError. Otherwise we fall through and re-raise\u001B[39;00m\n\u001B[0;32m   3658\u001B[0m     \u001B[38;5;66;03m#  the TypeError.\u001B[39;00m\n\u001B[0;32m   3659\u001B[0m     \u001B[38;5;28mself\u001B[39m\u001B[38;5;241m.\u001B[39m_check_indexing_error(key)\n",
      "\u001B[1;31mKeyError\u001B[0m: 0"
     ]
    }
   ],
   "source": [
    "cases_per_county_path = r'C:\\Users\\marko\\OneDrive\\Documents\\ADA master\\Time Series Data Analysis\\COVID_project\\data\\data_by_county\\cases_by_county'\n",
    "deaths_per_county_path = r'C:\\Users\\marko\\OneDrive\\Documents\\ADA master\\Time Series Data Analysis\\COVID_project\\data\\data_by_county\\deaths_by_county'\n",
    "for state in states:\n",
    "    one_state_df = sorted_filtered_USA_data[sorted_filtered_USA_data.State == state]\n",
    "    one_state_df[\"Date\"] = pd.to_datetime(one_state_df[\"Date\"])\n",
    "    start = second_peak_dates.start_date[second_peak_dates.state == state]\n",
    "    end = second_peak_dates.end_date[second_peak_dates.state == state]\n",
    "    one_state_df = one_state_df[(one_state_df.Date >= start[0]) & (one_state_df.Date <= end[0])]\n",
    "    cases_state_data = one_state_df[[\"Date\",\"Cases\",\"FIPS\"]].copy()\n",
    "    deaths_state_data = one_state_df[[\"Date\",\"Deaths\",\"FIPS\"]].copy()\n",
    "    for county in one_state_df.FIPS.unique():\n",
    "        # Cases\n",
    "        one_county_cases = cases_state_data[cases_state_data.FIPS == county]\n",
    "        one_county_cases.drop(\"FIPS\",axis=1,inplace=True)\n",
    "        cases_filename = \"\".join([str(county),\"_cases.csv\"])\n",
    "        one_county_cases.to_csv(os.path.join(cases_per_county_path,cases_filename))\n",
    "\n",
    "        one_county_deaths = deaths_state_data[deaths_state_data.FIPS == county]\n",
    "        one_county_deaths.drop(\"FIPS\",axis=1,inplace=True)\n",
    "        deaths_filename = \"\".join([str(county),\"_deaths.csv\"])\n",
    "        one_county_deaths.to_csv(os.path.join(deaths_per_county_path,deaths_filename))\n"
   ],
   "metadata": {
    "collapsed": false
   }
  },
  {
   "cell_type": "code",
   "execution_count": 133,
   "outputs": [
    {
     "data": {
      "text/plain": "'Alaska'"
     },
     "execution_count": 133,
     "metadata": {},
     "output_type": "execute_result"
    }
   ],
   "source": [],
   "metadata": {
    "collapsed": false
   }
  },
  {
   "cell_type": "code",
   "execution_count": 126,
   "outputs": [
    {
     "data": {
      "text/plain": "            Date  Cases  FIPS\n0     2020-11-01   2168  1001\n1     2020-11-02   2182  1001\n2     2020-11-03   2195  1001\n3     2020-11-04   2210  1001\n4     2020-11-05   2229  1001\n...          ...    ...   ...\n31410 2021-06-11   2834  1133\n31411 2021-06-12   2833  1133\n31412 2021-06-13   2833  1133\n31413 2021-06-14   2833  1133\n31414 2021-06-15   2832  1133\n\n[15311 rows x 3 columns]",
      "text/html": "<div>\n<style scoped>\n    .dataframe tbody tr th:only-of-type {\n        vertical-align: middle;\n    }\n\n    .dataframe tbody tr th {\n        vertical-align: top;\n    }\n\n    .dataframe thead th {\n        text-align: right;\n    }\n</style>\n<table border=\"1\" class=\"dataframe\">\n  <thead>\n    <tr style=\"text-align: right;\">\n      <th></th>\n      <th>Date</th>\n      <th>Cases</th>\n      <th>FIPS</th>\n    </tr>\n  </thead>\n  <tbody>\n    <tr>\n      <th>0</th>\n      <td>2020-11-01</td>\n      <td>2168</td>\n      <td>1001</td>\n    </tr>\n    <tr>\n      <th>1</th>\n      <td>2020-11-02</td>\n      <td>2182</td>\n      <td>1001</td>\n    </tr>\n    <tr>\n      <th>2</th>\n      <td>2020-11-03</td>\n      <td>2195</td>\n      <td>1001</td>\n    </tr>\n    <tr>\n      <th>3</th>\n      <td>2020-11-04</td>\n      <td>2210</td>\n      <td>1001</td>\n    </tr>\n    <tr>\n      <th>4</th>\n      <td>2020-11-05</td>\n      <td>2229</td>\n      <td>1001</td>\n    </tr>\n    <tr>\n      <th>...</th>\n      <td>...</td>\n      <td>...</td>\n      <td>...</td>\n    </tr>\n    <tr>\n      <th>31410</th>\n      <td>2021-06-11</td>\n      <td>2834</td>\n      <td>1133</td>\n    </tr>\n    <tr>\n      <th>31411</th>\n      <td>2021-06-12</td>\n      <td>2833</td>\n      <td>1133</td>\n    </tr>\n    <tr>\n      <th>31412</th>\n      <td>2021-06-13</td>\n      <td>2833</td>\n      <td>1133</td>\n    </tr>\n    <tr>\n      <th>31413</th>\n      <td>2021-06-14</td>\n      <td>2833</td>\n      <td>1133</td>\n    </tr>\n    <tr>\n      <th>31414</th>\n      <td>2021-06-15</td>\n      <td>2832</td>\n      <td>1133</td>\n    </tr>\n  </tbody>\n</table>\n<p>15311 rows × 3 columns</p>\n</div>"
     },
     "execution_count": 126,
     "metadata": {},
     "output_type": "execute_result"
    }
   ],
   "source": [
    "cases_state_data = one_state_df[[\"Date\",\"Cases\",\"FIPS\"]].copy()\n",
    "cases_state_data"
   ],
   "metadata": {
    "collapsed": false
   }
  },
  {
   "cell_type": "code",
   "execution_count": 127,
   "outputs": [
    {
     "data": {
      "text/plain": "            Date  Cases\n0     2020-11-01   2168\n1     2020-11-02   2182\n2     2020-11-03   2195\n3     2020-11-04   2210\n4     2020-11-05   2229\n...          ...    ...\n31410 2021-06-11   2834\n31411 2021-06-12   2833\n31412 2021-06-13   2833\n31413 2021-06-14   2833\n31414 2021-06-15   2832\n\n[15311 rows x 2 columns]",
      "text/html": "<div>\n<style scoped>\n    .dataframe tbody tr th:only-of-type {\n        vertical-align: middle;\n    }\n\n    .dataframe tbody tr th {\n        vertical-align: top;\n    }\n\n    .dataframe thead th {\n        text-align: right;\n    }\n</style>\n<table border=\"1\" class=\"dataframe\">\n  <thead>\n    <tr style=\"text-align: right;\">\n      <th></th>\n      <th>Date</th>\n      <th>Cases</th>\n    </tr>\n  </thead>\n  <tbody>\n    <tr>\n      <th>0</th>\n      <td>2020-11-01</td>\n      <td>2168</td>\n    </tr>\n    <tr>\n      <th>1</th>\n      <td>2020-11-02</td>\n      <td>2182</td>\n    </tr>\n    <tr>\n      <th>2</th>\n      <td>2020-11-03</td>\n      <td>2195</td>\n    </tr>\n    <tr>\n      <th>3</th>\n      <td>2020-11-04</td>\n      <td>2210</td>\n    </tr>\n    <tr>\n      <th>4</th>\n      <td>2020-11-05</td>\n      <td>2229</td>\n    </tr>\n    <tr>\n      <th>...</th>\n      <td>...</td>\n      <td>...</td>\n    </tr>\n    <tr>\n      <th>31410</th>\n      <td>2021-06-11</td>\n      <td>2834</td>\n    </tr>\n    <tr>\n      <th>31411</th>\n      <td>2021-06-12</td>\n      <td>2833</td>\n    </tr>\n    <tr>\n      <th>31412</th>\n      <td>2021-06-13</td>\n      <td>2833</td>\n    </tr>\n    <tr>\n      <th>31413</th>\n      <td>2021-06-14</td>\n      <td>2833</td>\n    </tr>\n    <tr>\n      <th>31414</th>\n      <td>2021-06-15</td>\n      <td>2832</td>\n    </tr>\n  </tbody>\n</table>\n<p>15311 rows × 2 columns</p>\n</div>"
     },
     "execution_count": 127,
     "metadata": {},
     "output_type": "execute_result"
    }
   ],
   "source": [
    "cases_state_data.drop(\"FIPS\",axis=1,inplace=True)\n",
    "cases_state_data"
   ],
   "metadata": {
    "collapsed": false
   }
  }
 ],
 "metadata": {
  "kernelspec": {
   "display_name": "Python 3",
   "language": "python",
   "name": "python3"
  },
  "language_info": {
   "codemirror_mode": {
    "name": "ipython",
    "version": 2
   },
   "file_extension": ".py",
   "mimetype": "text/x-python",
   "name": "python",
   "nbconvert_exporter": "python",
   "pygments_lexer": "ipython2",
   "version": "2.7.6"
  }
 },
 "nbformat": 4,
 "nbformat_minor": 0
}
