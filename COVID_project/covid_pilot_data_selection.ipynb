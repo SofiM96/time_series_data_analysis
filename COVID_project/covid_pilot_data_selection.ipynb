{
 "cells": [
  {
   "cell_type": "markdown",
   "source": [
    "# COVID-19 counties pilot data selection\n",
    "- In this notebook, data from NY and CA is selected for the pilot analysis\n"
   ],
   "metadata": {
    "collapsed": false
   }
  },
  {
   "cell_type": "markdown",
   "source": [
    "#### Filtering only NY and CA counties data from the initial data frame:"
   ],
   "metadata": {
    "collapsed": false
   }
  },
  {
   "cell_type": "code",
   "execution_count": 34,
   "outputs": [],
   "source": [
    "# Import packages:\n",
    "import pandas as pd\n",
    "import os\n",
    "import matplotlib.pyplot as plt\n",
    "\n",
    "# Load the data:\n",
    "save_path = r'C:\\Users\\marko\\OneDrive\\Documents\\ADA master\\Time Series Data Analysis\\COVID_project\\data'\n",
    "fips_interpreter = pd.read_csv(os.path.join(save_path, 'fips_interpreter.csv'))\n",
    "USA_data = pd.read_csv(os.path.join(save_path, 'USA_filtered_2.csv'))"
   ],
   "metadata": {
    "collapsed": false
   }
  },
  {
   "cell_type": "markdown",
   "source": [
    "View the data frame:"
   ],
   "metadata": {
    "collapsed": false
   }
  },
  {
   "cell_type": "code",
   "execution_count": 35,
   "outputs": [
    {
     "data": {
      "text/plain": "          FIPS   County    State  Cases  Deaths         Full_Location   \n0         1001  Autauga  Alabama   2168      31  Autauga, Alabama, US  \\\n1         1001  Autauga  Alabama   2182      31  Autauga, Alabama, US   \n2         1001  Autauga  Alabama   2195      31  Autauga, Alabama, US   \n3         1001  Autauga  Alabama   2210      31  Autauga, Alabama, US   \n4         1001  Autauga  Alabama   2229      31  Autauga, Alabama, US   \n...        ...      ...      ...    ...     ...                   ...   \n1467684  56045   Weston  Wyoming   1521      17   Weston, Wyoming, US   \n1467685  56045   Weston  Wyoming   1523      17   Weston, Wyoming, US   \n1467686  56045   Weston  Wyoming   1524      17   Weston, Wyoming, US   \n1467687  56045   Weston  Wyoming   1524      17   Weston, Wyoming, US   \n1467688  56045   Weston  Wyoming   1524      17   Weston, Wyoming, US   \n\n               Date  \n0        2020/11/01  \n1        2020/11/02  \n2        2020/11/03  \n3        2020/11/04  \n4        2020/11/05  \n...             ...  \n1467684  2022/02/10  \n1467685  2022/02/11  \n1467686  2022/02/12  \n1467687  2022/02/13  \n1467688  2022/02/14  \n\n[1467689 rows x 7 columns]",
      "text/html": "<div>\n<style scoped>\n    .dataframe tbody tr th:only-of-type {\n        vertical-align: middle;\n    }\n\n    .dataframe tbody tr th {\n        vertical-align: top;\n    }\n\n    .dataframe thead th {\n        text-align: right;\n    }\n</style>\n<table border=\"1\" class=\"dataframe\">\n  <thead>\n    <tr style=\"text-align: right;\">\n      <th></th>\n      <th>FIPS</th>\n      <th>County</th>\n      <th>State</th>\n      <th>Cases</th>\n      <th>Deaths</th>\n      <th>Full_Location</th>\n      <th>Date</th>\n    </tr>\n  </thead>\n  <tbody>\n    <tr>\n      <th>0</th>\n      <td>1001</td>\n      <td>Autauga</td>\n      <td>Alabama</td>\n      <td>2168</td>\n      <td>31</td>\n      <td>Autauga, Alabama, US</td>\n      <td>2020/11/01</td>\n    </tr>\n    <tr>\n      <th>1</th>\n      <td>1001</td>\n      <td>Autauga</td>\n      <td>Alabama</td>\n      <td>2182</td>\n      <td>31</td>\n      <td>Autauga, Alabama, US</td>\n      <td>2020/11/02</td>\n    </tr>\n    <tr>\n      <th>2</th>\n      <td>1001</td>\n      <td>Autauga</td>\n      <td>Alabama</td>\n      <td>2195</td>\n      <td>31</td>\n      <td>Autauga, Alabama, US</td>\n      <td>2020/11/03</td>\n    </tr>\n    <tr>\n      <th>3</th>\n      <td>1001</td>\n      <td>Autauga</td>\n      <td>Alabama</td>\n      <td>2210</td>\n      <td>31</td>\n      <td>Autauga, Alabama, US</td>\n      <td>2020/11/04</td>\n    </tr>\n    <tr>\n      <th>4</th>\n      <td>1001</td>\n      <td>Autauga</td>\n      <td>Alabama</td>\n      <td>2229</td>\n      <td>31</td>\n      <td>Autauga, Alabama, US</td>\n      <td>2020/11/05</td>\n    </tr>\n    <tr>\n      <th>...</th>\n      <td>...</td>\n      <td>...</td>\n      <td>...</td>\n      <td>...</td>\n      <td>...</td>\n      <td>...</td>\n      <td>...</td>\n    </tr>\n    <tr>\n      <th>1467684</th>\n      <td>56045</td>\n      <td>Weston</td>\n      <td>Wyoming</td>\n      <td>1521</td>\n      <td>17</td>\n      <td>Weston, Wyoming, US</td>\n      <td>2022/02/10</td>\n    </tr>\n    <tr>\n      <th>1467685</th>\n      <td>56045</td>\n      <td>Weston</td>\n      <td>Wyoming</td>\n      <td>1523</td>\n      <td>17</td>\n      <td>Weston, Wyoming, US</td>\n      <td>2022/02/11</td>\n    </tr>\n    <tr>\n      <th>1467686</th>\n      <td>56045</td>\n      <td>Weston</td>\n      <td>Wyoming</td>\n      <td>1524</td>\n      <td>17</td>\n      <td>Weston, Wyoming, US</td>\n      <td>2022/02/12</td>\n    </tr>\n    <tr>\n      <th>1467687</th>\n      <td>56045</td>\n      <td>Weston</td>\n      <td>Wyoming</td>\n      <td>1524</td>\n      <td>17</td>\n      <td>Weston, Wyoming, US</td>\n      <td>2022/02/13</td>\n    </tr>\n    <tr>\n      <th>1467688</th>\n      <td>56045</td>\n      <td>Weston</td>\n      <td>Wyoming</td>\n      <td>1524</td>\n      <td>17</td>\n      <td>Weston, Wyoming, US</td>\n      <td>2022/02/14</td>\n    </tr>\n  </tbody>\n</table>\n<p>1467689 rows × 7 columns</p>\n</div>"
     },
     "execution_count": 35,
     "metadata": {},
     "output_type": "execute_result"
    }
   ],
   "source": [
    "USA_data"
   ],
   "metadata": {
    "collapsed": false
   }
  },
  {
   "cell_type": "code",
   "execution_count": 38,
   "outputs": [
    {
     "data": {
      "text/plain": "58"
     },
     "execution_count": 38,
     "metadata": {},
     "output_type": "execute_result"
    }
   ],
   "source": [
    "california_data = USA_data.loc[USA_data.State == \"California\"]\n",
    "california_data.FIPS.nunique() # in accordance with the actual number of California counties"
   ],
   "metadata": {
    "collapsed": false
   }
  },
  {
   "cell_type": "code",
   "execution_count": 39,
   "outputs": [
    {
     "data": {
      "text/plain": "62"
     },
     "execution_count": 39,
     "metadata": {},
     "output_type": "execute_result"
    }
   ],
   "source": [
    "ny_data = USA_data.loc[USA_data.State == \"New York\"]\n",
    "ny_data.FIPS.nunique() # in accordance with the actual number of NY counties"
   ],
   "metadata": {
    "collapsed": false
   }
  },
  {
   "cell_type": "code",
   "execution_count": 40,
   "outputs": [
    {
     "data": {
      "text/plain": "   start_date   end_date                 state\n0  2020-10-04 2021-06-15               Alabama\n1  2020-09-11 2021-06-28                Alaska\n2  2020-10-13 2021-06-20               Arizona\n3  2020-09-10 2021-06-10              Arkansas\n4  2020-10-30 2021-06-10            California\n5  2020-09-12 2021-06-28              Colorado\n6  2020-09-10 2021-06-26           Connecticut\n7  2020-09-10 2021-06-22              Delaware\n8  2020-10-01 2021-06-30  District of Columbia\n9  2020-10-24 2021-06-10               Florida\n10 2020-10-18 2021-06-27               Georgia\n11 2020-07-19 2021-06-01                  Guam\n12 2020-06-24 2021-06-01                Hawaii\n13 2020-09-10 2021-06-24                 Idaho\n14 2020-09-18 2021-06-26              Illinois\n15 2020-09-22 2021-06-13               Indiana\n16 2020-09-11 2021-06-21                  Iowa\n17 2021-08-29 2021-06-06                Kansas\n18 2020-09-10 2021-06-25              Kentucky\n19 2020-10-27 2021-06-10             Louisiana\n20 2020-10-15 2021-07-05                 Maine\n21 2020-09-26 2021-06-27              Maryland\n22 2020-09-10 2021-06-27         Massachusetts\n23 2020-09-24 2021-07-03              Michigan\n24 2020-09-17 2021-07-03             Minnesota\n25 2020-09-10 2021-06-10           Mississippi\n26 2020-09-10 2021-06-04              Missouri\n27 2020-09-14 2021-06-30               Montana\n28 2020-09-04 2021-06-15              Nebraska\n29 2020-10-20 2021-06-03                Nevada\n30 2020-09-30 2021-06-25         New Hampshire\n31 2020-09-30 2021-07-02            New Jersey\n32 2020-09-13 2021-06-30            New Mexico\n33 2020-09-15 2021-06-30              New York\n34 2020-10-10 2021-06-27        North Carolina\n35 2020-09-10 2021-07-04          North Dakota\n36 2020-09-28 2021-07-04                  Ohio\n37 2020-09-10 2021-06-06              Oklahoma\n38 2020-10-18 2021-07-04                Oregon\n39 2020-09-27 2021-07-01          Pennsylvania\n40 2020-09-10 2021-06-07           Puerto Rico\n41 2020-09-28 2021-06-19          Rhode Island\n42 2020-11-09 2021-06-19        South Carolina\n43 2020-08-11 2021-06-30          South Dakota\n44 2020-09-10 2021-06-27             Tennessee\n45 2020-10-07 2021-06-02                 Texas\n46 2020-09-12 2021-06-18                  Utah\n47 2020-11-04 2021-06-30               Vermont\n48 2020-10-22 2021-06-28              Virginia\n49 2020-10-18 2021-07-03            Washington\n50 2020-10-01 2021-07-04         West Virginia\n51 2020-09-03 2021-07-02             Wisconsin\n52 2020-09-05 2021-05-06               Wyoming",
      "text/html": "<div>\n<style scoped>\n    .dataframe tbody tr th:only-of-type {\n        vertical-align: middle;\n    }\n\n    .dataframe tbody tr th {\n        vertical-align: top;\n    }\n\n    .dataframe thead th {\n        text-align: right;\n    }\n</style>\n<table border=\"1\" class=\"dataframe\">\n  <thead>\n    <tr style=\"text-align: right;\">\n      <th></th>\n      <th>start_date</th>\n      <th>end_date</th>\n      <th>state</th>\n    </tr>\n  </thead>\n  <tbody>\n    <tr>\n      <th>0</th>\n      <td>2020-10-04</td>\n      <td>2021-06-15</td>\n      <td>Alabama</td>\n    </tr>\n    <tr>\n      <th>1</th>\n      <td>2020-09-11</td>\n      <td>2021-06-28</td>\n      <td>Alaska</td>\n    </tr>\n    <tr>\n      <th>2</th>\n      <td>2020-10-13</td>\n      <td>2021-06-20</td>\n      <td>Arizona</td>\n    </tr>\n    <tr>\n      <th>3</th>\n      <td>2020-09-10</td>\n      <td>2021-06-10</td>\n      <td>Arkansas</td>\n    </tr>\n    <tr>\n      <th>4</th>\n      <td>2020-10-30</td>\n      <td>2021-06-10</td>\n      <td>California</td>\n    </tr>\n    <tr>\n      <th>5</th>\n      <td>2020-09-12</td>\n      <td>2021-06-28</td>\n      <td>Colorado</td>\n    </tr>\n    <tr>\n      <th>6</th>\n      <td>2020-09-10</td>\n      <td>2021-06-26</td>\n      <td>Connecticut</td>\n    </tr>\n    <tr>\n      <th>7</th>\n      <td>2020-09-10</td>\n      <td>2021-06-22</td>\n      <td>Delaware</td>\n    </tr>\n    <tr>\n      <th>8</th>\n      <td>2020-10-01</td>\n      <td>2021-06-30</td>\n      <td>District of Columbia</td>\n    </tr>\n    <tr>\n      <th>9</th>\n      <td>2020-10-24</td>\n      <td>2021-06-10</td>\n      <td>Florida</td>\n    </tr>\n    <tr>\n      <th>10</th>\n      <td>2020-10-18</td>\n      <td>2021-06-27</td>\n      <td>Georgia</td>\n    </tr>\n    <tr>\n      <th>11</th>\n      <td>2020-07-19</td>\n      <td>2021-06-01</td>\n      <td>Guam</td>\n    </tr>\n    <tr>\n      <th>12</th>\n      <td>2020-06-24</td>\n      <td>2021-06-01</td>\n      <td>Hawaii</td>\n    </tr>\n    <tr>\n      <th>13</th>\n      <td>2020-09-10</td>\n      <td>2021-06-24</td>\n      <td>Idaho</td>\n    </tr>\n    <tr>\n      <th>14</th>\n      <td>2020-09-18</td>\n      <td>2021-06-26</td>\n      <td>Illinois</td>\n    </tr>\n    <tr>\n      <th>15</th>\n      <td>2020-09-22</td>\n      <td>2021-06-13</td>\n      <td>Indiana</td>\n    </tr>\n    <tr>\n      <th>16</th>\n      <td>2020-09-11</td>\n      <td>2021-06-21</td>\n      <td>Iowa</td>\n    </tr>\n    <tr>\n      <th>17</th>\n      <td>2021-08-29</td>\n      <td>2021-06-06</td>\n      <td>Kansas</td>\n    </tr>\n    <tr>\n      <th>18</th>\n      <td>2020-09-10</td>\n      <td>2021-06-25</td>\n      <td>Kentucky</td>\n    </tr>\n    <tr>\n      <th>19</th>\n      <td>2020-10-27</td>\n      <td>2021-06-10</td>\n      <td>Louisiana</td>\n    </tr>\n    <tr>\n      <th>20</th>\n      <td>2020-10-15</td>\n      <td>2021-07-05</td>\n      <td>Maine</td>\n    </tr>\n    <tr>\n      <th>21</th>\n      <td>2020-09-26</td>\n      <td>2021-06-27</td>\n      <td>Maryland</td>\n    </tr>\n    <tr>\n      <th>22</th>\n      <td>2020-09-10</td>\n      <td>2021-06-27</td>\n      <td>Massachusetts</td>\n    </tr>\n    <tr>\n      <th>23</th>\n      <td>2020-09-24</td>\n      <td>2021-07-03</td>\n      <td>Michigan</td>\n    </tr>\n    <tr>\n      <th>24</th>\n      <td>2020-09-17</td>\n      <td>2021-07-03</td>\n      <td>Minnesota</td>\n    </tr>\n    <tr>\n      <th>25</th>\n      <td>2020-09-10</td>\n      <td>2021-06-10</td>\n      <td>Mississippi</td>\n    </tr>\n    <tr>\n      <th>26</th>\n      <td>2020-09-10</td>\n      <td>2021-06-04</td>\n      <td>Missouri</td>\n    </tr>\n    <tr>\n      <th>27</th>\n      <td>2020-09-14</td>\n      <td>2021-06-30</td>\n      <td>Montana</td>\n    </tr>\n    <tr>\n      <th>28</th>\n      <td>2020-09-04</td>\n      <td>2021-06-15</td>\n      <td>Nebraska</td>\n    </tr>\n    <tr>\n      <th>29</th>\n      <td>2020-10-20</td>\n      <td>2021-06-03</td>\n      <td>Nevada</td>\n    </tr>\n    <tr>\n      <th>30</th>\n      <td>2020-09-30</td>\n      <td>2021-06-25</td>\n      <td>New Hampshire</td>\n    </tr>\n    <tr>\n      <th>31</th>\n      <td>2020-09-30</td>\n      <td>2021-07-02</td>\n      <td>New Jersey</td>\n    </tr>\n    <tr>\n      <th>32</th>\n      <td>2020-09-13</td>\n      <td>2021-06-30</td>\n      <td>New Mexico</td>\n    </tr>\n    <tr>\n      <th>33</th>\n      <td>2020-09-15</td>\n      <td>2021-06-30</td>\n      <td>New York</td>\n    </tr>\n    <tr>\n      <th>34</th>\n      <td>2020-10-10</td>\n      <td>2021-06-27</td>\n      <td>North Carolina</td>\n    </tr>\n    <tr>\n      <th>35</th>\n      <td>2020-09-10</td>\n      <td>2021-07-04</td>\n      <td>North Dakota</td>\n    </tr>\n    <tr>\n      <th>36</th>\n      <td>2020-09-28</td>\n      <td>2021-07-04</td>\n      <td>Ohio</td>\n    </tr>\n    <tr>\n      <th>37</th>\n      <td>2020-09-10</td>\n      <td>2021-06-06</td>\n      <td>Oklahoma</td>\n    </tr>\n    <tr>\n      <th>38</th>\n      <td>2020-10-18</td>\n      <td>2021-07-04</td>\n      <td>Oregon</td>\n    </tr>\n    <tr>\n      <th>39</th>\n      <td>2020-09-27</td>\n      <td>2021-07-01</td>\n      <td>Pennsylvania</td>\n    </tr>\n    <tr>\n      <th>40</th>\n      <td>2020-09-10</td>\n      <td>2021-06-07</td>\n      <td>Puerto Rico</td>\n    </tr>\n    <tr>\n      <th>41</th>\n      <td>2020-09-28</td>\n      <td>2021-06-19</td>\n      <td>Rhode Island</td>\n    </tr>\n    <tr>\n      <th>42</th>\n      <td>2020-11-09</td>\n      <td>2021-06-19</td>\n      <td>South Carolina</td>\n    </tr>\n    <tr>\n      <th>43</th>\n      <td>2020-08-11</td>\n      <td>2021-06-30</td>\n      <td>South Dakota</td>\n    </tr>\n    <tr>\n      <th>44</th>\n      <td>2020-09-10</td>\n      <td>2021-06-27</td>\n      <td>Tennessee</td>\n    </tr>\n    <tr>\n      <th>45</th>\n      <td>2020-10-07</td>\n      <td>2021-06-02</td>\n      <td>Texas</td>\n    </tr>\n    <tr>\n      <th>46</th>\n      <td>2020-09-12</td>\n      <td>2021-06-18</td>\n      <td>Utah</td>\n    </tr>\n    <tr>\n      <th>47</th>\n      <td>2020-11-04</td>\n      <td>2021-06-30</td>\n      <td>Vermont</td>\n    </tr>\n    <tr>\n      <th>48</th>\n      <td>2020-10-22</td>\n      <td>2021-06-28</td>\n      <td>Virginia</td>\n    </tr>\n    <tr>\n      <th>49</th>\n      <td>2020-10-18</td>\n      <td>2021-07-03</td>\n      <td>Washington</td>\n    </tr>\n    <tr>\n      <th>50</th>\n      <td>2020-10-01</td>\n      <td>2021-07-04</td>\n      <td>West Virginia</td>\n    </tr>\n    <tr>\n      <th>51</th>\n      <td>2020-09-03</td>\n      <td>2021-07-02</td>\n      <td>Wisconsin</td>\n    </tr>\n    <tr>\n      <th>52</th>\n      <td>2020-09-05</td>\n      <td>2021-05-06</td>\n      <td>Wyoming</td>\n    </tr>\n  </tbody>\n</table>\n</div>"
     },
     "execution_count": 40,
     "metadata": {},
     "output_type": "execute_result"
    }
   ],
   "source": [
    "# load the dates:\n",
    "second_peak_dates = pd.read_excel(r\"C:\\Users\\marko\\OneDrive\\Documents\\ADA master\\Time Series Data Analysis\\COVID_project\\data\\COVID19_US_counties_second_peak_dates.xlsx\")\n",
    "second_peak_dates['state'] = second_peak_dates['state'].apply(lambda x: x.strip())\n",
    "second_peak_dates"
   ],
   "metadata": {
    "collapsed": false
   }
  },
  {
   "cell_type": "code",
   "execution_count": 41,
   "outputs": [],
   "source": [
    "cases_per_county_path = r'C:\\Users\\marko\\OneDrive\\Documents\\ADA master\\Time Series Data Analysis\\COVID_project\\data\\data_by_county\\pilot_cases_by_county'\n",
    "deaths_per_county_path = r'C:\\Users\\marko\\OneDrive\\Documents\\ADA master\\Time Series Data Analysis\\COVID_project\\data\\data_by_county\\pilot_deaths_by_county'\n",
    "\n",
    "import warnings\n",
    "\n",
    "import pandas as pd\n",
    "from pandas.errors import SettingWithCopyWarning\n",
    "warnings.simplefilter(action=\"ignore\", category=SettingWithCopyWarning)\n",
    "states = [\"California\", \"New York\"]\n",
    "\n",
    "for state in states:\n",
    "    one_state_df = USA_data[USA_data.State == state]\n",
    "    one_state_df[\"Date\"] = pd.to_datetime(one_state_df[\"Date\"])\n",
    "    start = second_peak_dates.loc[second_peak_dates.state == state, \"start_date\"].values[0]\n",
    "    end = second_peak_dates.loc[second_peak_dates.state == state, \"end_date\"].values[0]\n",
    "    one_state_df = one_state_df[(one_state_df.Date >= start) & (one_state_df.Date <= end)]\n",
    "    cases_state_data = one_state_df[[\"Date\",\"Cases\",\"FIPS\"]].copy()\n",
    "    deaths_state_data = one_state_df[[\"Date\",\"Deaths\",\"FIPS\"]].copy()\n",
    "    for county in one_state_df.FIPS.unique():\n",
    "        # Cases\n",
    "        one_county_cases = cases_state_data[cases_state_data.FIPS == county]\n",
    "        one_county_cases.drop(\"FIPS\",axis=1,inplace=True)\n",
    "        one_county_cases[\"Error\"] = 0.05\n",
    "        cases_filename = \"\".join([str(county),\"_cases.csv\"])\n",
    "        one_county_cases.to_csv(os.path.join(cases_per_county_path,cases_filename),index=False)\n",
    "\n",
    "        one_county_deaths = deaths_state_data[deaths_state_data.FIPS == county]\n",
    "        one_county_deaths.drop(\"FIPS\",axis=1,inplace=True)\n",
    "        one_county_deaths[\"Error\"]=0.5\n",
    "        deaths_filename = \"\".join([str(county),\"_deaths.csv\"])\n",
    "        one_county_deaths.to_csv(os.path.join(deaths_per_county_path,deaths_filename),index=False)"
   ],
   "metadata": {
    "collapsed": false
   }
  }
 ],
 "metadata": {
  "kernelspec": {
   "display_name": "Python 3",
   "language": "python",
   "name": "python3"
  },
  "language_info": {
   "codemirror_mode": {
    "name": "ipython",
    "version": 2
   },
   "file_extension": ".py",
   "mimetype": "text/x-python",
   "name": "python",
   "nbconvert_exporter": "python",
   "pygments_lexer": "ipython2",
   "version": "2.7.6"
  }
 },
 "nbformat": 4,
 "nbformat_minor": 0
}
